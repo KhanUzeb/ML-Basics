{
 "cells": [
  {
   "cell_type": "markdown",
   "id": "5b619c7a",
   "metadata": {},
   "source": [
    "# Optuna"
   ]
  },
  {
   "cell_type": "code",
   "execution_count": 1,
   "id": "5a81c560",
   "metadata": {},
   "outputs": [
    {
     "name": "stdout",
     "output_type": "stream",
     "text": [
      "Requirement already satisfied: optuna in c:\\users\\uzebk\\miniconda3\\envs\\dsenv\\lib\\site-packages (4.5.0)\n",
      "Requirement already satisfied: alembic>=1.5.0 in c:\\users\\uzebk\\miniconda3\\envs\\dsenv\\lib\\site-packages (from optuna) (1.16.5)\n",
      "Requirement already satisfied: colorlog in c:\\users\\uzebk\\miniconda3\\envs\\dsenv\\lib\\site-packages (from optuna) (6.9.0)\n",
      "Requirement already satisfied: numpy in c:\\users\\uzebk\\miniconda3\\envs\\dsenv\\lib\\site-packages (from optuna) (2.2.5)\n",
      "Requirement already satisfied: packaging>=20.0 in c:\\users\\uzebk\\miniconda3\\envs\\dsenv\\lib\\site-packages (from optuna) (25.0)\n",
      "Requirement already satisfied: sqlalchemy>=1.4.2 in c:\\users\\uzebk\\miniconda3\\envs\\dsenv\\lib\\site-packages (from optuna) (2.0.41)\n",
      "Requirement already satisfied: tqdm in c:\\users\\uzebk\\miniconda3\\envs\\dsenv\\lib\\site-packages (from optuna) (4.67.1)\n",
      "Requirement already satisfied: PyYAML in c:\\users\\uzebk\\miniconda3\\envs\\dsenv\\lib\\site-packages (from optuna) (6.0.2)\n",
      "Requirement already satisfied: Mako in c:\\users\\uzebk\\miniconda3\\envs\\dsenv\\lib\\site-packages (from alembic>=1.5.0->optuna) (1.3.10)\n",
      "Requirement already satisfied: typing-extensions>=4.12 in c:\\users\\uzebk\\miniconda3\\envs\\dsenv\\lib\\site-packages (from alembic>=1.5.0->optuna) (4.12.2)\n",
      "Requirement already satisfied: greenlet>=1 in c:\\users\\uzebk\\miniconda3\\envs\\dsenv\\lib\\site-packages (from sqlalchemy>=1.4.2->optuna) (3.1.1)\n",
      "Requirement already satisfied: colorama in c:\\users\\uzebk\\miniconda3\\envs\\dsenv\\lib\\site-packages (from colorlog->optuna) (0.4.6)\n",
      "Requirement already satisfied: MarkupSafe>=0.9.2 in c:\\users\\uzebk\\miniconda3\\envs\\dsenv\\lib\\site-packages (from Mako->alembic>=1.5.0->optuna) (3.0.2)\n",
      "Note: you may need to restart the kernel to use updated packages.\n"
     ]
    }
   ],
   "source": [
    "%pip install optuna"
   ]
  },
  {
   "cell_type": "code",
   "execution_count": 2,
   "id": "b9bb3765",
   "metadata": {},
   "outputs": [
    {
     "data": {
      "application/vnd.microsoft.datawrangler.viewer.v0+json": {
       "columns": [
        {
         "name": "index",
         "rawType": "int64",
         "type": "integer"
        },
        {
         "name": "Pregnancies",
         "rawType": "int64",
         "type": "integer"
        },
        {
         "name": "Glucose",
         "rawType": "int64",
         "type": "integer"
        },
        {
         "name": "BloodPressure",
         "rawType": "int64",
         "type": "integer"
        },
        {
         "name": "SkinThickness",
         "rawType": "int64",
         "type": "integer"
        },
        {
         "name": "Insulin",
         "rawType": "int64",
         "type": "integer"
        },
        {
         "name": "BMI",
         "rawType": "float64",
         "type": "float"
        },
        {
         "name": "DiabetesPedigreeFunction",
         "rawType": "float64",
         "type": "float"
        },
        {
         "name": "Age",
         "rawType": "int64",
         "type": "integer"
        },
        {
         "name": "Outcome",
         "rawType": "int64",
         "type": "integer"
        }
       ],
       "ref": "db934fe9-e9dc-48cc-8816-8d40c83e1e19",
       "rows": [
        [
         "0",
         "6",
         "148",
         "72",
         "35",
         "0",
         "33.6",
         "0.627",
         "50",
         "1"
        ],
        [
         "1",
         "1",
         "85",
         "66",
         "29",
         "0",
         "26.6",
         "0.351",
         "31",
         "0"
        ],
        [
         "2",
         "8",
         "183",
         "64",
         "0",
         "0",
         "23.3",
         "0.672",
         "32",
         "1"
        ],
        [
         "3",
         "1",
         "89",
         "66",
         "23",
         "94",
         "28.1",
         "0.167",
         "21",
         "0"
        ],
        [
         "4",
         "0",
         "137",
         "40",
         "35",
         "168",
         "43.1",
         "2.288",
         "33",
         "1"
        ]
       ],
       "shape": {
        "columns": 9,
        "rows": 5
       }
      },
      "text/html": [
       "<div>\n",
       "<style scoped>\n",
       "    .dataframe tbody tr th:only-of-type {\n",
       "        vertical-align: middle;\n",
       "    }\n",
       "\n",
       "    .dataframe tbody tr th {\n",
       "        vertical-align: top;\n",
       "    }\n",
       "\n",
       "    .dataframe thead th {\n",
       "        text-align: right;\n",
       "    }\n",
       "</style>\n",
       "<table border=\"1\" class=\"dataframe\">\n",
       "  <thead>\n",
       "    <tr style=\"text-align: right;\">\n",
       "      <th></th>\n",
       "      <th>Pregnancies</th>\n",
       "      <th>Glucose</th>\n",
       "      <th>BloodPressure</th>\n",
       "      <th>SkinThickness</th>\n",
       "      <th>Insulin</th>\n",
       "      <th>BMI</th>\n",
       "      <th>DiabetesPedigreeFunction</th>\n",
       "      <th>Age</th>\n",
       "      <th>Outcome</th>\n",
       "    </tr>\n",
       "  </thead>\n",
       "  <tbody>\n",
       "    <tr>\n",
       "      <th>0</th>\n",
       "      <td>6</td>\n",
       "      <td>148</td>\n",
       "      <td>72</td>\n",
       "      <td>35</td>\n",
       "      <td>0</td>\n",
       "      <td>33.6</td>\n",
       "      <td>0.627</td>\n",
       "      <td>50</td>\n",
       "      <td>1</td>\n",
       "    </tr>\n",
       "    <tr>\n",
       "      <th>1</th>\n",
       "      <td>1</td>\n",
       "      <td>85</td>\n",
       "      <td>66</td>\n",
       "      <td>29</td>\n",
       "      <td>0</td>\n",
       "      <td>26.6</td>\n",
       "      <td>0.351</td>\n",
       "      <td>31</td>\n",
       "      <td>0</td>\n",
       "    </tr>\n",
       "    <tr>\n",
       "      <th>2</th>\n",
       "      <td>8</td>\n",
       "      <td>183</td>\n",
       "      <td>64</td>\n",
       "      <td>0</td>\n",
       "      <td>0</td>\n",
       "      <td>23.3</td>\n",
       "      <td>0.672</td>\n",
       "      <td>32</td>\n",
       "      <td>1</td>\n",
       "    </tr>\n",
       "    <tr>\n",
       "      <th>3</th>\n",
       "      <td>1</td>\n",
       "      <td>89</td>\n",
       "      <td>66</td>\n",
       "      <td>23</td>\n",
       "      <td>94</td>\n",
       "      <td>28.1</td>\n",
       "      <td>0.167</td>\n",
       "      <td>21</td>\n",
       "      <td>0</td>\n",
       "    </tr>\n",
       "    <tr>\n",
       "      <th>4</th>\n",
       "      <td>0</td>\n",
       "      <td>137</td>\n",
       "      <td>40</td>\n",
       "      <td>35</td>\n",
       "      <td>168</td>\n",
       "      <td>43.1</td>\n",
       "      <td>2.288</td>\n",
       "      <td>33</td>\n",
       "      <td>1</td>\n",
       "    </tr>\n",
       "  </tbody>\n",
       "</table>\n",
       "</div>"
      ],
      "text/plain": [
       "   Pregnancies  Glucose  BloodPressure  SkinThickness  Insulin   BMI  \\\n",
       "0            6      148             72             35        0  33.6   \n",
       "1            1       85             66             29        0  26.6   \n",
       "2            8      183             64              0        0  23.3   \n",
       "3            1       89             66             23       94  28.1   \n",
       "4            0      137             40             35      168  43.1   \n",
       "\n",
       "   DiabetesPedigreeFunction  Age  Outcome  \n",
       "0                     0.627   50        1  \n",
       "1                     0.351   31        0  \n",
       "2                     0.672   32        1  \n",
       "3                     0.167   21        0  \n",
       "4                     2.288   33        1  "
      ]
     },
     "execution_count": 2,
     "metadata": {},
     "output_type": "execute_result"
    }
   ],
   "source": [
    "# Import necessary libraries\n",
    "import optuna\n",
    "from sklearn.datasets import load_diabetes\n",
    "from sklearn.model_selection import train_test_split\n",
    "from sklearn.preprocessing import StandardScaler\n",
    "\n",
    "# Load the Pima Indian Diabetes dataset from sklearn\n",
    "# Note: Scikit-learn's built-in 'load_diabetes' is a regression dataset.\n",
    "# We will load the actual diabetes dataset from an external source\n",
    "import pandas as pd\n",
    "\n",
    "# Load the Pima Indian Diabetes dataset (from UCI repository)\n",
    "url = \"https://raw.githubusercontent.com/jbrownlee/Datasets/master/pima-indians-diabetes.data.csv\"\n",
    "columns = ['Pregnancies', 'Glucose', 'BloodPressure', 'SkinThickness', 'Insulin', 'BMI',\n",
    "            'DiabetesPedigreeFunction', 'Age', 'Outcome']\n",
    "\n",
    "# Load the dataset\n",
    "df = pd.read_csv(url, names=columns)\n",
    "\n",
    "df.head()"
   ]
  },
  {
   "cell_type": "code",
   "execution_count": 3,
   "id": "ad45e6d3",
   "metadata": {},
   "outputs": [
    {
     "name": "stdout",
     "output_type": "stream",
     "text": [
      "Pregnancies                 0\n",
      "Glucose                     0\n",
      "BloodPressure               0\n",
      "SkinThickness               0\n",
      "Insulin                     0\n",
      "BMI                         0\n",
      "DiabetesPedigreeFunction    0\n",
      "Age                         0\n",
      "Outcome                     0\n",
      "dtype: int64\n"
     ]
    }
   ],
   "source": [
    "import numpy as np\n",
    "\n",
    "# Replace zero values with NaN in columns where zero is not a valid value\n",
    "cols_with_missing_vals = ['Glucose', 'BloodPressure', 'SkinThickness', 'Insulin', 'BMI']\n",
    "df[cols_with_missing_vals] = df[cols_with_missing_vals].replace(0, np.nan)\n",
    "\n",
    "# Impute the missing values with the mean of the respective column\n",
    "df.fillna(df.mean(), inplace=True)\n",
    "\n",
    "# Check if there are any remaining missing values\n",
    "print(df.isnull().sum())\n"
   ]
  },
  {
   "cell_type": "code",
   "execution_count": 4,
   "id": "3428abbe",
   "metadata": {},
   "outputs": [
    {
     "name": "stdout",
     "output_type": "stream",
     "text": [
      "Training set shape: (537, 8)\n",
      "Test set shape: (231, 8)\n"
     ]
    }
   ],
   "source": [
    "# Split into features (X) and target (y)\n",
    "X = df.drop('Outcome', axis=1)\n",
    "y = df['Outcome']\n",
    "\n",
    "# Split data into training and test sets (70% train, 30% test)\n",
    "X_train, X_test, y_train, y_test = train_test_split(X, y, test_size=0.3, random_state=42)\n",
    "\n",
    "# Optional: Scale the data for better model performance\n",
    "scaler = StandardScaler()\n",
    "X_train = scaler.fit_transform(X_train)\n",
    "X_test = scaler.transform(X_test)\n",
    "\n",
    "# Check the shape of the data\n",
    "print(f'Training set shape: {X_train.shape}')\n",
    "print(f'Test set shape: {X_test.shape}')\n"
   ]
  },
  {
   "cell_type": "code",
   "execution_count": 5,
   "id": "58d8872b",
   "metadata": {},
   "outputs": [],
   "source": [
    "from sklearn.ensemble import RandomForestClassifier\n",
    "from sklearn.model_selection import cross_val_score\n",
    "\n",
    "# Define the objective function\n",
    "def objective(trial):\n",
    "    # Suggest values for the hyperparameters\n",
    "    n_estimators = trial.suggest_int('n_estimators', 50, 200)\n",
    "    max_depth = trial.suggest_int('max_depth', 3, 20)\n",
    "\n",
    "    # Create the RandomForestClassifier with suggested hyperparameters\n",
    "    model = RandomForestClassifier(\n",
    "        n_estimators=n_estimators,\n",
    "        max_depth=max_depth,\n",
    "        random_state=42\n",
    "    )\n",
    "\n",
    "    # Perform 3-fold cross-validation and calculate accuracy\n",
    "    score = cross_val_score(model, X_train, y_train, cv=3, scoring='accuracy').mean()\n",
    "\n",
    "    return score  # Return the accuracy score for Optuna to maximize\n"
   ]
  },
  {
   "cell_type": "code",
   "execution_count": 6,
   "id": "a2607367",
   "metadata": {},
   "outputs": [
    {
     "name": "stderr",
     "output_type": "stream",
     "text": [
      "[I 2025-09-19 17:48:39,411] A new study created in memory with name: no-name-473f5c5a-ad06-4f22-aa24-cfdd64344b8a\n",
      "[I 2025-09-19 17:48:40,112] Trial 0 finished with value: 0.7560521415270017 and parameters: {'n_estimators': 104, 'max_depth': 3}. Best is trial 0 with value: 0.7560521415270017.\n",
      "[I 2025-09-19 17:48:41,566] Trial 1 finished with value: 0.7746741154562384 and parameters: {'n_estimators': 200, 'max_depth': 17}. Best is trial 1 with value: 0.7746741154562384.\n",
      "[I 2025-09-19 17:48:42,216] Trial 2 finished with value: 0.7690875232774674 and parameters: {'n_estimators': 85, 'max_depth': 19}. Best is trial 1 with value: 0.7746741154562384.\n",
      "[I 2025-09-19 17:48:43,115] Trial 3 finished with value: 0.7653631284916201 and parameters: {'n_estimators': 137, 'max_depth': 6}. Best is trial 1 with value: 0.7746741154562384.\n",
      "[I 2025-09-19 17:48:44,195] Trial 4 finished with value: 0.7709497206703911 and parameters: {'n_estimators': 157, 'max_depth': 18}. Best is trial 1 with value: 0.7746741154562384.\n",
      "[I 2025-09-19 17:48:44,811] Trial 5 finished with value: 0.7541899441340782 and parameters: {'n_estimators': 95, 'max_depth': 3}. Best is trial 1 with value: 0.7746741154562384.\n",
      "[I 2025-09-19 17:48:45,761] Trial 6 finished with value: 0.7653631284916201 and parameters: {'n_estimators': 138, 'max_depth': 10}. Best is trial 1 with value: 0.7746741154562384.\n",
      "[I 2025-09-19 17:48:46,506] Trial 7 finished with value: 0.7728119180633147 and parameters: {'n_estimators': 109, 'max_depth': 20}. Best is trial 1 with value: 0.7746741154562384.\n",
      "[I 2025-09-19 17:48:47,679] Trial 8 finished with value: 0.7672253258845437 and parameters: {'n_estimators': 178, 'max_depth': 18}. Best is trial 1 with value: 0.7746741154562384.\n",
      "[I 2025-09-19 17:48:48,036] Trial 9 finished with value: 0.7783985102420857 and parameters: {'n_estimators': 55, 'max_depth': 16}. Best is trial 9 with value: 0.7783985102420857.\n",
      "[I 2025-09-19 17:48:48,462] Trial 10 finished with value: 0.7672253258845437 and parameters: {'n_estimators': 62, 'max_depth': 14}. Best is trial 9 with value: 0.7783985102420857.\n",
      "[I 2025-09-19 17:48:49,773] Trial 11 finished with value: 0.7709497206703911 and parameters: {'n_estimators': 198, 'max_depth': 14}. Best is trial 9 with value: 0.7783985102420857.\n",
      "[I 2025-09-19 17:48:50,110] Trial 12 finished with value: 0.7653631284916201 and parameters: {'n_estimators': 51, 'max_depth': 15}. Best is trial 9 with value: 0.7783985102420857.\n",
      "[I 2025-09-19 17:48:51,245] Trial 13 finished with value: 0.7672253258845437 and parameters: {'n_estimators': 163, 'max_depth': 11}. Best is trial 9 with value: 0.7783985102420857.\n",
      "[I 2025-09-19 17:48:51,721] Trial 14 finished with value: 0.7746741154562384 and parameters: {'n_estimators': 72, 'max_depth': 16}. Best is trial 9 with value: 0.7783985102420857.\n",
      "[I 2025-09-19 17:48:52,966] Trial 15 finished with value: 0.7635009310986964 and parameters: {'n_estimators': 200, 'max_depth': 9}. Best is trial 9 with value: 0.7783985102420857.\n",
      "[I 2025-09-19 17:48:53,735] Trial 16 finished with value: 0.7802607076350093 and parameters: {'n_estimators': 118, 'max_depth': 16}. Best is trial 16 with value: 0.7802607076350093.\n",
      "[I 2025-09-19 17:48:54,517] Trial 17 finished with value: 0.7709497206703911 and parameters: {'n_estimators': 123, 'max_depth': 13}. Best is trial 16 with value: 0.7802607076350093.\n",
      "[I 2025-09-19 17:48:55,037] Trial 18 finished with value: 0.7672253258845437 and parameters: {'n_estimators': 78, 'max_depth': 8}. Best is trial 16 with value: 0.7802607076350093.\n",
      "[I 2025-09-19 17:48:55,807] Trial 19 finished with value: 0.7709497206703911 and parameters: {'n_estimators': 118, 'max_depth': 13}. Best is trial 16 with value: 0.7802607076350093.\n",
      "[I 2025-09-19 17:48:56,154] Trial 20 finished with value: 0.7709497206703911 and parameters: {'n_estimators': 52, 'max_depth': 16}. Best is trial 16 with value: 0.7802607076350093.\n",
      "[I 2025-09-19 17:48:57,073] Trial 21 finished with value: 0.7728119180633147 and parameters: {'n_estimators': 144, 'max_depth': 17}. Best is trial 16 with value: 0.7802607076350093.\n",
      "[I 2025-09-19 17:48:58,358] Trial 22 finished with value: 0.7709497206703911 and parameters: {'n_estimators': 182, 'max_depth': 20}. Best is trial 16 with value: 0.7802607076350093.\n",
      "[I 2025-09-19 17:48:59,007] Trial 23 finished with value: 0.7690875232774674 and parameters: {'n_estimators': 94, 'max_depth': 16}. Best is trial 16 with value: 0.7802607076350093.\n",
      "[I 2025-09-19 17:49:00,030] Trial 24 finished with value: 0.7709497206703911 and parameters: {'n_estimators': 155, 'max_depth': 12}. Best is trial 16 with value: 0.7802607076350093.\n",
      "[I 2025-09-19 17:49:01,223] Trial 25 finished with value: 0.7709497206703911 and parameters: {'n_estimators': 178, 'max_depth': 15}. Best is trial 16 with value: 0.7802607076350093.\n",
      "[I 2025-09-19 17:49:02,397] Trial 26 finished with value: 0.7709497206703911 and parameters: {'n_estimators': 168, 'max_depth': 18}. Best is trial 16 with value: 0.7802607076350093.\n",
      "[I 2025-09-19 17:49:03,378] Trial 27 finished with value: 0.7746741154562384 and parameters: {'n_estimators': 132, 'max_depth': 17}. Best is trial 16 with value: 0.7802607076350093.\n",
      "[I 2025-09-19 17:49:03,814] Trial 28 finished with value: 0.7690875232774674 and parameters: {'n_estimators': 66, 'max_depth': 19}. Best is trial 16 with value: 0.7802607076350093.\n",
      "[I 2025-09-19 17:49:04,544] Trial 29 finished with value: 0.7728119180633147 and parameters: {'n_estimators': 111, 'max_depth': 14}. Best is trial 16 with value: 0.7802607076350093.\n",
      "[I 2025-09-19 17:49:05,191] Trial 30 finished with value: 0.7690875232774674 and parameters: {'n_estimators': 98, 'max_depth': 17}. Best is trial 16 with value: 0.7802607076350093.\n",
      "[I 2025-09-19 17:49:05,665] Trial 31 finished with value: 0.7746741154562384 and parameters: {'n_estimators': 71, 'max_depth': 16}. Best is trial 16 with value: 0.7802607076350093.\n",
      "[I 2025-09-19 17:49:06,268] Trial 32 finished with value: 0.7672253258845437 and parameters: {'n_estimators': 85, 'max_depth': 15}. Best is trial 16 with value: 0.7802607076350093.\n",
      "[I 2025-09-19 17:49:06,712] Trial 33 finished with value: 0.7635009310986964 and parameters: {'n_estimators': 57, 'max_depth': 12}. Best is trial 16 with value: 0.7802607076350093.\n",
      "[I 2025-09-19 17:49:07,237] Trial 34 finished with value: 0.7746741154562384 and parameters: {'n_estimators': 76, 'max_depth': 19}. Best is trial 16 with value: 0.7802607076350093.\n",
      "[I 2025-09-19 17:49:07,808] Trial 35 finished with value: 0.7765363128491621 and parameters: {'n_estimators': 87, 'max_depth': 18}. Best is trial 16 with value: 0.7802607076350093.\n",
      "[I 2025-09-19 17:49:08,353] Trial 36 finished with value: 0.7672253258845437 and parameters: {'n_estimators': 86, 'max_depth': 18}. Best is trial 16 with value: 0.7802607076350093.\n",
      "[I 2025-09-19 17:49:08,960] Trial 37 finished with value: 0.7635009310986964 and parameters: {'n_estimators': 103, 'max_depth': 4}. Best is trial 16 with value: 0.7802607076350093.\n",
      "[I 2025-09-19 17:49:09,709] Trial 38 finished with value: 0.7802607076350093 and parameters: {'n_estimators': 116, 'max_depth': 19}. Best is trial 16 with value: 0.7802607076350093.\n",
      "[I 2025-09-19 17:49:10,463] Trial 39 finished with value: 0.7765363128491621 and parameters: {'n_estimators': 118, 'max_depth': 20}. Best is trial 16 with value: 0.7802607076350093.\n",
      "[I 2025-09-19 17:49:11,246] Trial 40 finished with value: 0.7765363128491621 and parameters: {'n_estimators': 111, 'max_depth': 19}. Best is trial 16 with value: 0.7802607076350093.\n",
      "[I 2025-09-19 17:49:12,100] Trial 41 finished with value: 0.7765363128491621 and parameters: {'n_estimators': 128, 'max_depth': 20}. Best is trial 16 with value: 0.7802607076350093.\n",
      "[I 2025-09-19 17:49:12,856] Trial 42 finished with value: 0.7821229050279329 and parameters: {'n_estimators': 119, 'max_depth': 20}. Best is trial 42 with value: 0.7821229050279329.\n",
      "[I 2025-09-19 17:49:13,699] Trial 43 finished with value: 0.7765363128491619 and parameters: {'n_estimators': 135, 'max_depth': 18}. Best is trial 42 with value: 0.7821229050279329.\n",
      "[I 2025-09-19 17:49:14,650] Trial 44 finished with value: 0.7690875232774674 and parameters: {'n_estimators': 149, 'max_depth': 19}. Best is trial 42 with value: 0.7821229050279329.\n",
      "[I 2025-09-19 17:49:15,339] Trial 45 finished with value: 0.7728119180633147 and parameters: {'n_estimators': 105, 'max_depth': 19}. Best is trial 42 with value: 0.7821229050279329.\n",
      "[I 2025-09-19 17:49:15,889] Trial 46 finished with value: 0.7690875232774674 and parameters: {'n_estimators': 87, 'max_depth': 17}. Best is trial 42 with value: 0.7821229050279329.\n",
      "[I 2025-09-19 17:49:16,688] Trial 47 finished with value: 0.7765363128491619 and parameters: {'n_estimators': 122, 'max_depth': 20}. Best is trial 42 with value: 0.7821229050279329.\n",
      "[I 2025-09-19 17:49:17,292] Trial 48 finished with value: 0.7728119180633147 and parameters: {'n_estimators': 93, 'max_depth': 18}. Best is trial 42 with value: 0.7821229050279329.\n",
      "[I 2025-09-19 17:49:18,208] Trial 49 finished with value: 0.7709497206703911 and parameters: {'n_estimators': 142, 'max_depth': 15}. Best is trial 42 with value: 0.7821229050279329.\n"
     ]
    }
   ],
   "source": [
    "# Create a study object and optimize the objective function\n",
    "study = optuna.create_study(direction='maximize', sampler=optuna.samplers.TPESampler())  # We aim to maximize accuracy\n",
    "study.optimize(objective, n_trials=50)  # Run 50 trials to find the best hyperparameters"
   ]
  },
  {
   "cell_type": "code",
   "execution_count": 7,
   "id": "4e7dbf6d",
   "metadata": {},
   "outputs": [
    {
     "name": "stdout",
     "output_type": "stream",
     "text": [
      "Best trial accuracy: 0.7821229050279329\n",
      "Best hyperparameters: {'n_estimators': 119, 'max_depth': 20}\n"
     ]
    }
   ],
   "source": [
    "# Print the best result\n",
    "print(f'Best trial accuracy: {study.best_trial.value}')\n",
    "print(f'Best hyperparameters: {study.best_trial.params}')"
   ]
  },
  {
   "cell_type": "code",
   "execution_count": 8,
   "id": "8bbf23f4",
   "metadata": {},
   "outputs": [
    {
     "name": "stdout",
     "output_type": "stream",
     "text": [
      "Test Accuracy with best hyperparameters: 0.75\n"
     ]
    }
   ],
   "source": [
    "from sklearn.metrics import accuracy_score\n",
    "\n",
    "# Train a RandomForestClassifier using the best hyperparameters from Optuna\n",
    "best_model = RandomForestClassifier(**study.best_trial.params, random_state=42)\n",
    "\n",
    "# Fit the model to the training data\n",
    "best_model.fit(X_train, y_train)\n",
    "\n",
    "# Make predictions on the test set\n",
    "y_pred = best_model.predict(X_test)\n",
    "\n",
    "# Calculate the accuracy on the test set\n",
    "test_accuracy = accuracy_score(y_test, y_pred)\n",
    "\n",
    "# Print the test accuracy\n",
    "print(f'Test Accuracy with best hyperparameters: {test_accuracy:.2f}')\n"
   ]
  },
  {
   "cell_type": "markdown",
   "id": "50c09ae0",
   "metadata": {},
   "source": [
    "## Samplers in Optuna"
   ]
  },
  {
   "cell_type": "code",
   "execution_count": 9,
   "id": "963dedc6",
   "metadata": {},
   "outputs": [],
   "source": [
    "from sklearn.ensemble import RandomForestClassifier\n",
    "from sklearn.model_selection import cross_val_score\n",
    "\n",
    "# Define the objective function\n",
    "def objective(trial):\n",
    "    # Suggest values for the hyperparameters\n",
    "    n_estimators = trial.suggest_int('n_estimators', 50, 200)\n",
    "    max_depth = trial.suggest_int('max_depth', 3, 20)\n",
    "\n",
    "    # Create the RandomForestClassifier with suggested hyperparameters\n",
    "    model = RandomForestClassifier(\n",
    "        n_estimators=n_estimators,\n",
    "        max_depth=max_depth,\n",
    "        random_state=42\n",
    "    )\n",
    "\n",
    "    # Perform 3-fold cross-validation and calculate accuracy\n",
    "    score = cross_val_score(model, X_train, y_train, cv=3, scoring='accuracy').mean()\n",
    "\n",
    "    return score  # Return the accuracy score for Optuna to maximize\n"
   ]
  },
  {
   "cell_type": "code",
   "execution_count": 10,
   "id": "92b3e262",
   "metadata": {},
   "outputs": [
    {
     "name": "stderr",
     "output_type": "stream",
     "text": [
      "[I 2025-09-19 17:49:18,604] A new study created in memory with name: no-name-051e96f9-73cc-4177-aa27-af92de2b55ae\n",
      "[I 2025-09-19 17:49:19,882] Trial 0 finished with value: 0.7709497206703911 and parameters: {'n_estimators': 191, 'max_depth': 20}. Best is trial 0 with value: 0.7709497206703911.\n",
      "[I 2025-09-19 17:49:20,306] Trial 1 finished with value: 0.7672253258845437 and parameters: {'n_estimators': 62, 'max_depth': 14}. Best is trial 0 with value: 0.7709497206703911.\n",
      "[I 2025-09-19 17:49:21,333] Trial 2 finished with value: 0.7597765363128491 and parameters: {'n_estimators': 156, 'max_depth': 9}. Best is trial 0 with value: 0.7709497206703911.\n",
      "[I 2025-09-19 17:49:22,538] Trial 3 finished with value: 0.7560521415270017 and parameters: {'n_estimators': 191, 'max_depth': 6}. Best is trial 0 with value: 0.7709497206703911.\n",
      "[I 2025-09-19 17:49:23,825] Trial 4 finished with value: 0.7746741154562384 and parameters: {'n_estimators': 200, 'max_depth': 17}. Best is trial 4 with value: 0.7746741154562384.\n",
      "[I 2025-09-19 17:49:24,633] Trial 5 finished with value: 0.7579143389199254 and parameters: {'n_estimators': 135, 'max_depth': 4}. Best is trial 4 with value: 0.7746741154562384.\n",
      "[I 2025-09-19 17:49:25,138] Trial 6 finished with value: 0.7653631284916201 and parameters: {'n_estimators': 80, 'max_depth': 4}. Best is trial 4 with value: 0.7746741154562384.\n",
      "[I 2025-09-19 17:49:26,228] Trial 7 finished with value: 0.7635009310986964 and parameters: {'n_estimators': 163, 'max_depth': 9}. Best is trial 4 with value: 0.7746741154562384.\n",
      "[I 2025-09-19 17:49:26,727] Trial 8 finished with value: 0.7653631284916201 and parameters: {'n_estimators': 77, 'max_depth': 8}. Best is trial 4 with value: 0.7746741154562384.\n",
      "[I 2025-09-19 17:49:27,774] Trial 9 finished with value: 0.7653631284916201 and parameters: {'n_estimators': 166, 'max_depth': 6}. Best is trial 4 with value: 0.7746741154562384.\n",
      "[I 2025-09-19 17:49:28,623] Trial 10 finished with value: 0.7709497206703911 and parameters: {'n_estimators': 129, 'max_depth': 8}. Best is trial 4 with value: 0.7746741154562384.\n",
      "[I 2025-09-19 17:49:29,712] Trial 11 finished with value: 0.7709497206703911 and parameters: {'n_estimators': 169, 'max_depth': 20}. Best is trial 4 with value: 0.7746741154562384.\n",
      "[I 2025-09-19 17:49:30,457] Trial 12 finished with value: 0.7709497206703911 and parameters: {'n_estimators': 110, 'max_depth': 8}. Best is trial 4 with value: 0.7746741154562384.\n",
      "[I 2025-09-19 17:49:31,033] Trial 13 finished with value: 0.7728119180633147 and parameters: {'n_estimators': 87, 'max_depth': 15}. Best is trial 4 with value: 0.7746741154562384.\n",
      "[I 2025-09-19 17:49:31,527] Trial 14 finished with value: 0.7728119180633147 and parameters: {'n_estimators': 72, 'max_depth': 11}. Best is trial 4 with value: 0.7746741154562384.\n",
      "[I 2025-09-19 17:49:32,650] Trial 15 finished with value: 0.7783985102420857 and parameters: {'n_estimators': 177, 'max_depth': 16}. Best is trial 15 with value: 0.7783985102420857.\n",
      "[I 2025-09-19 17:49:33,539] Trial 16 finished with value: 0.7690875232774674 and parameters: {'n_estimators': 143, 'max_depth': 8}. Best is trial 15 with value: 0.7783985102420857.\n",
      "[I 2025-09-19 17:49:34,143] Trial 17 finished with value: 0.7635009310986964 and parameters: {'n_estimators': 95, 'max_depth': 12}. Best is trial 15 with value: 0.7783985102420857.\n",
      "[I 2025-09-19 17:49:35,255] Trial 18 finished with value: 0.7597765363128491 and parameters: {'n_estimators': 198, 'max_depth': 3}. Best is trial 15 with value: 0.7783985102420857.\n",
      "[I 2025-09-19 17:49:35,857] Trial 19 finished with value: 0.7597765363128491 and parameters: {'n_estimators': 92, 'max_depth': 13}. Best is trial 15 with value: 0.7783985102420857.\n",
      "[I 2025-09-19 17:49:36,930] Trial 20 finished with value: 0.7765363128491619 and parameters: {'n_estimators': 169, 'max_depth': 7}. Best is trial 15 with value: 0.7783985102420857.\n",
      "[I 2025-09-19 17:49:37,592] Trial 21 finished with value: 0.7728119180633147 and parameters: {'n_estimators': 104, 'max_depth': 17}. Best is trial 15 with value: 0.7783985102420857.\n",
      "[I 2025-09-19 17:49:38,443] Trial 22 finished with value: 0.7765363128491619 and parameters: {'n_estimators': 134, 'max_depth': 18}. Best is trial 15 with value: 0.7783985102420857.\n",
      "[I 2025-09-19 17:49:38,969] Trial 23 finished with value: 0.7672253258845437 and parameters: {'n_estimators': 85, 'max_depth': 5}. Best is trial 15 with value: 0.7783985102420857.\n",
      "[I 2025-09-19 17:49:39,509] Trial 24 finished with value: 0.7653631284916201 and parameters: {'n_estimators': 86, 'max_depth': 20}. Best is trial 15 with value: 0.7783985102420857.\n",
      "[I 2025-09-19 17:49:39,874] Trial 25 finished with value: 0.7616387337057727 and parameters: {'n_estimators': 56, 'max_depth': 6}. Best is trial 15 with value: 0.7783985102420857.\n",
      "[I 2025-09-19 17:49:40,262] Trial 26 finished with value: 0.7765363128491621 and parameters: {'n_estimators': 62, 'max_depth': 7}. Best is trial 15 with value: 0.7783985102420857.\n",
      "[I 2025-09-19 17:49:40,712] Trial 27 finished with value: 0.7783985102420857 and parameters: {'n_estimators': 71, 'max_depth': 20}. Best is trial 15 with value: 0.7783985102420857.\n",
      "[I 2025-09-19 17:49:42,024] Trial 28 finished with value: 0.7616387337057727 and parameters: {'n_estimators': 197, 'max_depth': 8}. Best is trial 15 with value: 0.7783985102420857.\n",
      "[I 2025-09-19 17:49:42,897] Trial 29 finished with value: 0.7541899441340782 and parameters: {'n_estimators': 153, 'max_depth': 3}. Best is trial 15 with value: 0.7783985102420857.\n",
      "[I 2025-09-19 17:49:43,411] Trial 30 finished with value: 0.7672253258845437 and parameters: {'n_estimators': 79, 'max_depth': 15}. Best is trial 15 with value: 0.7783985102420857.\n",
      "[I 2025-09-19 17:49:44,579] Trial 31 finished with value: 0.7560521415270017 and parameters: {'n_estimators': 188, 'max_depth': 6}. Best is trial 15 with value: 0.7783985102420857.\n",
      "[I 2025-09-19 17:49:45,296] Trial 32 finished with value: 0.7690875232774674 and parameters: {'n_estimators': 110, 'max_depth': 13}. Best is trial 15 with value: 0.7783985102420857.\n",
      "[I 2025-09-19 17:49:45,985] Trial 33 finished with value: 0.756052141527002 and parameters: {'n_estimators': 119, 'max_depth': 3}. Best is trial 15 with value: 0.7783985102420857.\n",
      "[I 2025-09-19 17:49:46,444] Trial 34 finished with value: 0.7690875232774674 and parameters: {'n_estimators': 73, 'max_depth': 6}. Best is trial 15 with value: 0.7783985102420857.\n",
      "[I 2025-09-19 17:49:47,571] Trial 35 finished with value: 0.756052141527002 and parameters: {'n_estimators': 189, 'max_depth': 3}. Best is trial 15 with value: 0.7783985102420857.\n",
      "[I 2025-09-19 17:49:48,218] Trial 36 finished with value: 0.7709497206703911 and parameters: {'n_estimators': 99, 'max_depth': 12}. Best is trial 15 with value: 0.7783985102420857.\n",
      "[I 2025-09-19 17:49:49,022] Trial 37 finished with value: 0.7783985102420856 and parameters: {'n_estimators': 126, 'max_depth': 18}. Best is trial 15 with value: 0.7783985102420857.\n",
      "[I 2025-09-19 17:49:49,545] Trial 38 finished with value: 0.7709497206703911 and parameters: {'n_estimators': 82, 'max_depth': 12}. Best is trial 15 with value: 0.7783985102420857.\n",
      "[I 2025-09-19 17:49:50,678] Trial 39 finished with value: 0.7635009310986964 and parameters: {'n_estimators': 176, 'max_depth': 8}. Best is trial 15 with value: 0.7783985102420857.\n",
      "[I 2025-09-19 17:49:51,603] Trial 40 finished with value: 0.7541899441340782 and parameters: {'n_estimators': 161, 'max_depth': 3}. Best is trial 15 with value: 0.7783985102420857.\n",
      "[I 2025-09-19 17:49:52,341] Trial 41 finished with value: 0.7709497206703911 and parameters: {'n_estimators': 111, 'max_depth': 8}. Best is trial 15 with value: 0.7783985102420857.\n",
      "[I 2025-09-19 17:49:52,787] Trial 42 finished with value: 0.7616387337057727 and parameters: {'n_estimators': 70, 'max_depth': 12}. Best is trial 15 with value: 0.7783985102420857.\n",
      "[I 2025-09-19 17:49:53,991] Trial 43 finished with value: 0.7709497206703911 and parameters: {'n_estimators': 188, 'max_depth': 11}. Best is trial 15 with value: 0.7783985102420857.\n",
      "[I 2025-09-19 17:49:54,708] Trial 44 finished with value: 0.7690875232774674 and parameters: {'n_estimators': 118, 'max_depth': 6}. Best is trial 15 with value: 0.7783985102420857.\n",
      "[I 2025-09-19 17:49:55,761] Trial 45 finished with value: 0.7709497206703911 and parameters: {'n_estimators': 164, 'max_depth': 10}. Best is trial 15 with value: 0.7783985102420857.\n",
      "[I 2025-09-19 17:49:56,714] Trial 46 finished with value: 0.7616387337057727 and parameters: {'n_estimators': 145, 'max_depth': 10}. Best is trial 15 with value: 0.7783985102420857.\n",
      "[I 2025-09-19 17:49:57,842] Trial 47 finished with value: 0.7746741154562384 and parameters: {'n_estimators': 173, 'max_depth': 12}. Best is trial 15 with value: 0.7783985102420857.\n",
      "[I 2025-09-19 17:49:58,343] Trial 48 finished with value: 0.7746741154562384 and parameters: {'n_estimators': 77, 'max_depth': 17}. Best is trial 15 with value: 0.7783985102420857.\n",
      "[I 2025-09-19 17:49:59,110] Trial 49 finished with value: 0.7746741154562384 and parameters: {'n_estimators': 118, 'max_depth': 8}. Best is trial 15 with value: 0.7783985102420857.\n"
     ]
    }
   ],
   "source": [
    "study = optuna.create_study(direction='maximize', sampler=optuna.samplers.RandomSampler())  # We aim to maximize accuracy\n",
    "study.optimize(objective, n_trials=50)  # Run 50 trials to find the best hyperparameters"
   ]
  },
  {
   "cell_type": "code",
   "execution_count": 11,
   "id": "1ec72ac4",
   "metadata": {},
   "outputs": [
    {
     "name": "stdout",
     "output_type": "stream",
     "text": [
      "Best trial accuracy: 0.7783985102420857\n",
      "Best hyperparameters: {'n_estimators': 177, 'max_depth': 16}\n"
     ]
    }
   ],
   "source": [
    "\n",
    "# Print the best result\n",
    "print(f'Best trial accuracy: {study.best_trial.value}')\n",
    "print(f'Best hyperparameters: {study.best_trial.params}')"
   ]
  },
  {
   "cell_type": "code",
   "execution_count": 12,
   "id": "2580999a",
   "metadata": {},
   "outputs": [
    {
     "name": "stdout",
     "output_type": "stream",
     "text": [
      "Test Accuracy with best hyperparameters: 0.74\n"
     ]
    }
   ],
   "source": [
    "from sklearn.metrics import accuracy_score\n",
    "\n",
    "# Train a RandomForestClassifier using the best hyperparameters from Optuna\n",
    "best_model = RandomForestClassifier(**study.best_trial.params, random_state=42)\n",
    "\n",
    "# Fit the model to the training data\n",
    "best_model.fit(X_train, y_train)\n",
    "\n",
    "# Make predictions on the test set\n",
    "y_pred = best_model.predict(X_test)\n",
    "\n",
    "# Calculate the accuracy on the test set\n",
    "test_accuracy = accuracy_score(y_test, y_pred)\n",
    "\n",
    "# Print the test accuracy\n",
    "print(f'Test Accuracy with best hyperparameters: {test_accuracy:.2f}')"
   ]
  },
  {
   "cell_type": "code",
   "execution_count": 13,
   "id": "d773d42d",
   "metadata": {},
   "outputs": [],
   "source": [
    "search_space = {\n",
    "    'n_estimators': [50, 100, 150, 200],\n",
    "    'max_depth': [5, 10, 15, 20]\n",
    "}"
   ]
  },
  {
   "cell_type": "code",
   "execution_count": 14,
   "id": "f66cd71c",
   "metadata": {},
   "outputs": [
    {
     "name": "stderr",
     "output_type": "stream",
     "text": [
      "[I 2025-09-19 17:49:59,622] A new study created in memory with name: no-name-9b898ddd-1445-452b-bb31-011020b94e35\n",
      "[I 2025-09-19 17:50:00,253] Trial 0 finished with value: 0.7690875232774674 and parameters: {'n_estimators': 100, 'max_depth': 5}. Best is trial 0 with value: 0.7690875232774674.\n",
      "[I 2025-09-19 17:50:01,235] Trial 1 finished with value: 0.7672253258845437 and parameters: {'n_estimators': 150, 'max_depth': 10}. Best is trial 0 with value: 0.7690875232774674.\n",
      "[I 2025-09-19 17:50:01,582] Trial 2 finished with value: 0.7728119180633147 and parameters: {'n_estimators': 50, 'max_depth': 15}. Best is trial 2 with value: 0.7728119180633147.\n",
      "[I 2025-09-19 17:50:02,251] Trial 3 finished with value: 0.7653631284916201 and parameters: {'n_estimators': 100, 'max_depth': 15}. Best is trial 2 with value: 0.7728119180633147.\n",
      "[I 2025-09-19 17:50:02,956] Trial 4 finished with value: 0.7690875232774674 and parameters: {'n_estimators': 100, 'max_depth': 20}. Best is trial 2 with value: 0.7728119180633147.\n",
      "[I 2025-09-19 17:50:03,297] Trial 5 finished with value: 0.7579143389199254 and parameters: {'n_estimators': 50, 'max_depth': 10}. Best is trial 2 with value: 0.7728119180633147.\n",
      "[I 2025-09-19 17:50:04,240] Trial 6 finished with value: 0.7653631284916201 and parameters: {'n_estimators': 150, 'max_depth': 5}. Best is trial 2 with value: 0.7728119180633147.\n",
      "[I 2025-09-19 17:50:05,239] Trial 7 finished with value: 0.7728119180633147 and parameters: {'n_estimators': 150, 'max_depth': 20}. Best is trial 2 with value: 0.7728119180633147.\n",
      "[I 2025-09-19 17:50:06,216] Trial 8 finished with value: 0.7728119180633147 and parameters: {'n_estimators': 150, 'max_depth': 15}. Best is trial 2 with value: 0.7728119180633147.\n",
      "[I 2025-09-19 17:50:07,510] Trial 9 finished with value: 0.7709497206703911 and parameters: {'n_estimators': 200, 'max_depth': 10}. Best is trial 2 with value: 0.7728119180633147.\n",
      "[I 2025-09-19 17:50:08,906] Trial 10 finished with value: 0.7728119180633147 and parameters: {'n_estimators': 200, 'max_depth': 20}. Best is trial 2 with value: 0.7728119180633147.\n",
      "[I 2025-09-19 17:50:10,226] Trial 11 finished with value: 0.7728119180633147 and parameters: {'n_estimators': 200, 'max_depth': 15}. Best is trial 2 with value: 0.7728119180633147.\n",
      "[I 2025-09-19 17:50:11,425] Trial 12 finished with value: 0.7690875232774674 and parameters: {'n_estimators': 200, 'max_depth': 5}. Best is trial 2 with value: 0.7728119180633147.\n",
      "[I 2025-09-19 17:50:11,739] Trial 13 finished with value: 0.7746741154562384 and parameters: {'n_estimators': 50, 'max_depth': 5}. Best is trial 13 with value: 0.7746741154562384.\n",
      "[I 2025-09-19 17:50:12,397] Trial 14 finished with value: 0.7616387337057727 and parameters: {'n_estimators': 100, 'max_depth': 10}. Best is trial 13 with value: 0.7746741154562384.\n",
      "[I 2025-09-19 17:50:12,721] Trial 15 finished with value: 0.7709497206703911 and parameters: {'n_estimators': 50, 'max_depth': 20}. Best is trial 13 with value: 0.7746741154562384.\n"
     ]
    }
   ],
   "source": [
    "# Create a study and optimize it using GridSampler\n",
    "study = optuna.create_study(direction='maximize', sampler=optuna.samplers.GridSampler(search_space))\n",
    "study.optimize(objective)"
   ]
  },
  {
   "cell_type": "code",
   "execution_count": 15,
   "id": "d9d14f24",
   "metadata": {},
   "outputs": [
    {
     "name": "stdout",
     "output_type": "stream",
     "text": [
      "Best trial accuracy: 0.7746741154562384\n",
      "Best hyperparameters: {'n_estimators': 50, 'max_depth': 5}\n"
     ]
    }
   ],
   "source": [
    "\n",
    "# Print the best result\n",
    "print(f'Best trial accuracy: {study.best_trial.value}')\n",
    "print(f'Best hyperparameters: {study.best_trial.params}')"
   ]
  },
  {
   "cell_type": "code",
   "execution_count": 16,
   "id": "3520ea09",
   "metadata": {},
   "outputs": [
    {
     "name": "stdout",
     "output_type": "stream",
     "text": [
      "Test Accuracy with best hyperparameters: 0.74\n"
     ]
    }
   ],
   "source": [
    "from sklearn.metrics import accuracy_score\n",
    "\n",
    "# Train a RandomForestClassifier using the best hyperparameters from Optuna\n",
    "best_model = RandomForestClassifier(**study.best_trial.params, random_state=42)\n",
    "\n",
    "# Fit the model to the training data\n",
    "best_model.fit(X_train, y_train)\n",
    "\n",
    "# Make predictions on the test set\n",
    "y_pred = best_model.predict(X_test)\n",
    "\n",
    "# Calculate the accuracy on the test set\n",
    "test_accuracy = accuracy_score(y_test, y_pred)\n",
    "\n",
    "# Print the test accuracy\n",
    "print(f'Test Accuracy with best hyperparameters: {test_accuracy:.2f}')\n"
   ]
  },
  {
   "cell_type": "code",
   "execution_count": 17,
   "id": "3af00dfe",
   "metadata": {},
   "outputs": [],
   "source": [
    "import matplotlib.pyplot as plt"
   ]
  },
  {
   "cell_type": "markdown",
   "id": "b307ec53",
   "metadata": {},
   "source": [
    "## Optuna Visualizations"
   ]
  },
  {
   "cell_type": "code",
   "execution_count": 18,
   "id": "13b000b5",
   "metadata": {},
   "outputs": [],
   "source": [
    "# For visualizations\n",
    "import matplotlib.pyplot as plt\n",
    "from optuna.visualization import plot_optimization_history, plot_parallel_coordinate, plot_slice, plot_contour, plot_param_importances\n",
    "# Show Optuna optimization history plot\n",
    "plot_optimization_history(study)\n",
    "plt.show()"
   ]
  },
  {
   "cell_type": "code",
   "execution_count": 19,
   "id": "bfca028c",
   "metadata": {},
   "outputs": [
    {
     "data": {
      "application/vnd.plotly.v1+json": {
       "config": {
        "plotlyServerURL": "https://plot.ly"
       },
       "data": [
        {
         "mode": "markers",
         "name": "Objective Value",
         "type": "scatter",
         "x": [
          0,
          1,
          2,
          3,
          4,
          5,
          6,
          7,
          8,
          9,
          10,
          11,
          12,
          13,
          14,
          15
         ],
         "y": [
          0.7690875232774674,
          0.7672253258845437,
          0.7728119180633147,
          0.7653631284916201,
          0.7690875232774674,
          0.7579143389199254,
          0.7653631284916201,
          0.7728119180633147,
          0.7728119180633147,
          0.7709497206703911,
          0.7728119180633147,
          0.7728119180633147,
          0.7690875232774674,
          0.7746741154562384,
          0.7616387337057727,
          0.7709497206703911
         ]
        },
        {
         "mode": "lines",
         "name": "Best Value",
         "type": "scatter",
         "x": [
          0,
          1,
          2,
          3,
          4,
          5,
          6,
          7,
          8,
          9,
          10,
          11,
          12,
          13,
          14,
          15
         ],
         "y": [
          0.7690875232774674,
          0.7690875232774674,
          0.7728119180633147,
          0.7728119180633147,
          0.7728119180633147,
          0.7728119180633147,
          0.7728119180633147,
          0.7728119180633147,
          0.7728119180633147,
          0.7728119180633147,
          0.7728119180633147,
          0.7728119180633147,
          0.7728119180633147,
          0.7746741154562384,
          0.7746741154562384,
          0.7746741154562384
         ]
        },
        {
         "marker": {
          "color": "#cccccc"
         },
         "mode": "markers",
         "name": "Infeasible Trial",
         "showlegend": false,
         "type": "scatter",
         "x": [],
         "y": []
        }
       ],
       "layout": {
        "template": {
         "data": {
          "bar": [
           {
            "error_x": {
             "color": "#2a3f5f"
            },
            "error_y": {
             "color": "#2a3f5f"
            },
            "marker": {
             "line": {
              "color": "#E5ECF6",
              "width": 0.5
             },
             "pattern": {
              "fillmode": "overlay",
              "size": 10,
              "solidity": 0.2
             }
            },
            "type": "bar"
           }
          ],
          "barpolar": [
           {
            "marker": {
             "line": {
              "color": "#E5ECF6",
              "width": 0.5
             },
             "pattern": {
              "fillmode": "overlay",
              "size": 10,
              "solidity": 0.2
             }
            },
            "type": "barpolar"
           }
          ],
          "carpet": [
           {
            "aaxis": {
             "endlinecolor": "#2a3f5f",
             "gridcolor": "white",
             "linecolor": "white",
             "minorgridcolor": "white",
             "startlinecolor": "#2a3f5f"
            },
            "baxis": {
             "endlinecolor": "#2a3f5f",
             "gridcolor": "white",
             "linecolor": "white",
             "minorgridcolor": "white",
             "startlinecolor": "#2a3f5f"
            },
            "type": "carpet"
           }
          ],
          "choropleth": [
           {
            "colorbar": {
             "outlinewidth": 0,
             "ticks": ""
            },
            "type": "choropleth"
           }
          ],
          "contour": [
           {
            "colorbar": {
             "outlinewidth": 0,
             "ticks": ""
            },
            "colorscale": [
             [
              0,
              "#0d0887"
             ],
             [
              0.1111111111111111,
              "#46039f"
             ],
             [
              0.2222222222222222,
              "#7201a8"
             ],
             [
              0.3333333333333333,
              "#9c179e"
             ],
             [
              0.4444444444444444,
              "#bd3786"
             ],
             [
              0.5555555555555556,
              "#d8576b"
             ],
             [
              0.6666666666666666,
              "#ed7953"
             ],
             [
              0.7777777777777778,
              "#fb9f3a"
             ],
             [
              0.8888888888888888,
              "#fdca26"
             ],
             [
              1,
              "#f0f921"
             ]
            ],
            "type": "contour"
           }
          ],
          "contourcarpet": [
           {
            "colorbar": {
             "outlinewidth": 0,
             "ticks": ""
            },
            "type": "contourcarpet"
           }
          ],
          "heatmap": [
           {
            "colorbar": {
             "outlinewidth": 0,
             "ticks": ""
            },
            "colorscale": [
             [
              0,
              "#0d0887"
             ],
             [
              0.1111111111111111,
              "#46039f"
             ],
             [
              0.2222222222222222,
              "#7201a8"
             ],
             [
              0.3333333333333333,
              "#9c179e"
             ],
             [
              0.4444444444444444,
              "#bd3786"
             ],
             [
              0.5555555555555556,
              "#d8576b"
             ],
             [
              0.6666666666666666,
              "#ed7953"
             ],
             [
              0.7777777777777778,
              "#fb9f3a"
             ],
             [
              0.8888888888888888,
              "#fdca26"
             ],
             [
              1,
              "#f0f921"
             ]
            ],
            "type": "heatmap"
           }
          ],
          "histogram": [
           {
            "marker": {
             "pattern": {
              "fillmode": "overlay",
              "size": 10,
              "solidity": 0.2
             }
            },
            "type": "histogram"
           }
          ],
          "histogram2d": [
           {
            "colorbar": {
             "outlinewidth": 0,
             "ticks": ""
            },
            "colorscale": [
             [
              0,
              "#0d0887"
             ],
             [
              0.1111111111111111,
              "#46039f"
             ],
             [
              0.2222222222222222,
              "#7201a8"
             ],
             [
              0.3333333333333333,
              "#9c179e"
             ],
             [
              0.4444444444444444,
              "#bd3786"
             ],
             [
              0.5555555555555556,
              "#d8576b"
             ],
             [
              0.6666666666666666,
              "#ed7953"
             ],
             [
              0.7777777777777778,
              "#fb9f3a"
             ],
             [
              0.8888888888888888,
              "#fdca26"
             ],
             [
              1,
              "#f0f921"
             ]
            ],
            "type": "histogram2d"
           }
          ],
          "histogram2dcontour": [
           {
            "colorbar": {
             "outlinewidth": 0,
             "ticks": ""
            },
            "colorscale": [
             [
              0,
              "#0d0887"
             ],
             [
              0.1111111111111111,
              "#46039f"
             ],
             [
              0.2222222222222222,
              "#7201a8"
             ],
             [
              0.3333333333333333,
              "#9c179e"
             ],
             [
              0.4444444444444444,
              "#bd3786"
             ],
             [
              0.5555555555555556,
              "#d8576b"
             ],
             [
              0.6666666666666666,
              "#ed7953"
             ],
             [
              0.7777777777777778,
              "#fb9f3a"
             ],
             [
              0.8888888888888888,
              "#fdca26"
             ],
             [
              1,
              "#f0f921"
             ]
            ],
            "type": "histogram2dcontour"
           }
          ],
          "mesh3d": [
           {
            "colorbar": {
             "outlinewidth": 0,
             "ticks": ""
            },
            "type": "mesh3d"
           }
          ],
          "parcoords": [
           {
            "line": {
             "colorbar": {
              "outlinewidth": 0,
              "ticks": ""
             }
            },
            "type": "parcoords"
           }
          ],
          "pie": [
           {
            "automargin": true,
            "type": "pie"
           }
          ],
          "scatter": [
           {
            "fillpattern": {
             "fillmode": "overlay",
             "size": 10,
             "solidity": 0.2
            },
            "type": "scatter"
           }
          ],
          "scatter3d": [
           {
            "line": {
             "colorbar": {
              "outlinewidth": 0,
              "ticks": ""
             }
            },
            "marker": {
             "colorbar": {
              "outlinewidth": 0,
              "ticks": ""
             }
            },
            "type": "scatter3d"
           }
          ],
          "scattercarpet": [
           {
            "marker": {
             "colorbar": {
              "outlinewidth": 0,
              "ticks": ""
             }
            },
            "type": "scattercarpet"
           }
          ],
          "scattergeo": [
           {
            "marker": {
             "colorbar": {
              "outlinewidth": 0,
              "ticks": ""
             }
            },
            "type": "scattergeo"
           }
          ],
          "scattergl": [
           {
            "marker": {
             "colorbar": {
              "outlinewidth": 0,
              "ticks": ""
             }
            },
            "type": "scattergl"
           }
          ],
          "scattermap": [
           {
            "marker": {
             "colorbar": {
              "outlinewidth": 0,
              "ticks": ""
             }
            },
            "type": "scattermap"
           }
          ],
          "scattermapbox": [
           {
            "marker": {
             "colorbar": {
              "outlinewidth": 0,
              "ticks": ""
             }
            },
            "type": "scattermapbox"
           }
          ],
          "scatterpolar": [
           {
            "marker": {
             "colorbar": {
              "outlinewidth": 0,
              "ticks": ""
             }
            },
            "type": "scatterpolar"
           }
          ],
          "scatterpolargl": [
           {
            "marker": {
             "colorbar": {
              "outlinewidth": 0,
              "ticks": ""
             }
            },
            "type": "scatterpolargl"
           }
          ],
          "scatterternary": [
           {
            "marker": {
             "colorbar": {
              "outlinewidth": 0,
              "ticks": ""
             }
            },
            "type": "scatterternary"
           }
          ],
          "surface": [
           {
            "colorbar": {
             "outlinewidth": 0,
             "ticks": ""
            },
            "colorscale": [
             [
              0,
              "#0d0887"
             ],
             [
              0.1111111111111111,
              "#46039f"
             ],
             [
              0.2222222222222222,
              "#7201a8"
             ],
             [
              0.3333333333333333,
              "#9c179e"
             ],
             [
              0.4444444444444444,
              "#bd3786"
             ],
             [
              0.5555555555555556,
              "#d8576b"
             ],
             [
              0.6666666666666666,
              "#ed7953"
             ],
             [
              0.7777777777777778,
              "#fb9f3a"
             ],
             [
              0.8888888888888888,
              "#fdca26"
             ],
             [
              1,
              "#f0f921"
             ]
            ],
            "type": "surface"
           }
          ],
          "table": [
           {
            "cells": {
             "fill": {
              "color": "#EBF0F8"
             },
             "line": {
              "color": "white"
             }
            },
            "header": {
             "fill": {
              "color": "#C8D4E3"
             },
             "line": {
              "color": "white"
             }
            },
            "type": "table"
           }
          ]
         },
         "layout": {
          "annotationdefaults": {
           "arrowcolor": "#2a3f5f",
           "arrowhead": 0,
           "arrowwidth": 1
          },
          "autotypenumbers": "strict",
          "coloraxis": {
           "colorbar": {
            "outlinewidth": 0,
            "ticks": ""
           }
          },
          "colorscale": {
           "diverging": [
            [
             0,
             "#8e0152"
            ],
            [
             0.1,
             "#c51b7d"
            ],
            [
             0.2,
             "#de77ae"
            ],
            [
             0.3,
             "#f1b6da"
            ],
            [
             0.4,
             "#fde0ef"
            ],
            [
             0.5,
             "#f7f7f7"
            ],
            [
             0.6,
             "#e6f5d0"
            ],
            [
             0.7,
             "#b8e186"
            ],
            [
             0.8,
             "#7fbc41"
            ],
            [
             0.9,
             "#4d9221"
            ],
            [
             1,
             "#276419"
            ]
           ],
           "sequential": [
            [
             0,
             "#0d0887"
            ],
            [
             0.1111111111111111,
             "#46039f"
            ],
            [
             0.2222222222222222,
             "#7201a8"
            ],
            [
             0.3333333333333333,
             "#9c179e"
            ],
            [
             0.4444444444444444,
             "#bd3786"
            ],
            [
             0.5555555555555556,
             "#d8576b"
            ],
            [
             0.6666666666666666,
             "#ed7953"
            ],
            [
             0.7777777777777778,
             "#fb9f3a"
            ],
            [
             0.8888888888888888,
             "#fdca26"
            ],
            [
             1,
             "#f0f921"
            ]
           ],
           "sequentialminus": [
            [
             0,
             "#0d0887"
            ],
            [
             0.1111111111111111,
             "#46039f"
            ],
            [
             0.2222222222222222,
             "#7201a8"
            ],
            [
             0.3333333333333333,
             "#9c179e"
            ],
            [
             0.4444444444444444,
             "#bd3786"
            ],
            [
             0.5555555555555556,
             "#d8576b"
            ],
            [
             0.6666666666666666,
             "#ed7953"
            ],
            [
             0.7777777777777778,
             "#fb9f3a"
            ],
            [
             0.8888888888888888,
             "#fdca26"
            ],
            [
             1,
             "#f0f921"
            ]
           ]
          },
          "colorway": [
           "#636efa",
           "#EF553B",
           "#00cc96",
           "#ab63fa",
           "#FFA15A",
           "#19d3f3",
           "#FF6692",
           "#B6E880",
           "#FF97FF",
           "#FECB52"
          ],
          "font": {
           "color": "#2a3f5f"
          },
          "geo": {
           "bgcolor": "white",
           "lakecolor": "white",
           "landcolor": "#E5ECF6",
           "showlakes": true,
           "showland": true,
           "subunitcolor": "white"
          },
          "hoverlabel": {
           "align": "left"
          },
          "hovermode": "closest",
          "mapbox": {
           "style": "light"
          },
          "paper_bgcolor": "white",
          "plot_bgcolor": "#E5ECF6",
          "polar": {
           "angularaxis": {
            "gridcolor": "white",
            "linecolor": "white",
            "ticks": ""
           },
           "bgcolor": "#E5ECF6",
           "radialaxis": {
            "gridcolor": "white",
            "linecolor": "white",
            "ticks": ""
           }
          },
          "scene": {
           "xaxis": {
            "backgroundcolor": "#E5ECF6",
            "gridcolor": "white",
            "gridwidth": 2,
            "linecolor": "white",
            "showbackground": true,
            "ticks": "",
            "zerolinecolor": "white"
           },
           "yaxis": {
            "backgroundcolor": "#E5ECF6",
            "gridcolor": "white",
            "gridwidth": 2,
            "linecolor": "white",
            "showbackground": true,
            "ticks": "",
            "zerolinecolor": "white"
           },
           "zaxis": {
            "backgroundcolor": "#E5ECF6",
            "gridcolor": "white",
            "gridwidth": 2,
            "linecolor": "white",
            "showbackground": true,
            "ticks": "",
            "zerolinecolor": "white"
           }
          },
          "shapedefaults": {
           "line": {
            "color": "#2a3f5f"
           }
          },
          "ternary": {
           "aaxis": {
            "gridcolor": "white",
            "linecolor": "white",
            "ticks": ""
           },
           "baxis": {
            "gridcolor": "white",
            "linecolor": "white",
            "ticks": ""
           },
           "bgcolor": "#E5ECF6",
           "caxis": {
            "gridcolor": "white",
            "linecolor": "white",
            "ticks": ""
           }
          },
          "title": {
           "x": 0.05
          },
          "xaxis": {
           "automargin": true,
           "gridcolor": "white",
           "linecolor": "white",
           "ticks": "",
           "title": {
            "standoff": 15
           },
           "zerolinecolor": "white",
           "zerolinewidth": 2
          },
          "yaxis": {
           "automargin": true,
           "gridcolor": "white",
           "linecolor": "white",
           "ticks": "",
           "title": {
            "standoff": 15
           },
           "zerolinecolor": "white",
           "zerolinewidth": 2
          }
         }
        },
        "title": {
         "text": "Optimization History Plot"
        },
        "xaxis": {
         "title": {
          "text": "Trial"
         }
        },
        "yaxis": {
         "title": {
          "text": "Objective Value"
         }
        }
       }
      }
     },
     "metadata": {},
     "output_type": "display_data"
    }
   ],
   "source": [
    "# 1. Optimization History\n",
    "plot_optimization_history(study).show()"
   ]
  },
  {
   "cell_type": "code",
   "execution_count": 20,
   "id": "98d234db",
   "metadata": {},
   "outputs": [
    {
     "data": {
      "application/vnd.plotly.v1+json": {
       "config": {
        "plotlyServerURL": "https://plot.ly"
       },
       "data": [
        {
         "dimensions": [
          {
           "label": "Objective Value",
           "range": [
            0.7579143389199254,
            0.7746741154562384
           ],
           "values": [
            0.7690875232774674,
            0.7672253258845437,
            0.7728119180633147,
            0.7653631284916201,
            0.7690875232774674,
            0.7579143389199254,
            0.7653631284916201,
            0.7728119180633147,
            0.7728119180633147,
            0.7709497206703911,
            0.7728119180633147,
            0.7728119180633147,
            0.7690875232774674,
            0.7746741154562384,
            0.7616387337057727,
            0.7709497206703911
           ]
          },
          {
           "label": "max_depth",
           "range": [
            5,
            20
           ],
           "values": [
            5,
            10,
            15,
            15,
            20,
            10,
            5,
            20,
            15,
            10,
            20,
            15,
            5,
            5,
            10,
            20
           ]
          },
          {
           "label": "n_estimators",
           "range": [
            50,
            200
           ],
           "values": [
            100,
            150,
            50,
            100,
            100,
            50,
            150,
            150,
            150,
            200,
            200,
            200,
            200,
            50,
            100,
            50
           ]
          }
         ],
         "labelangle": 30,
         "labelside": "bottom",
         "line": {
          "color": [
           0.7690875232774674,
           0.7672253258845437,
           0.7728119180633147,
           0.7653631284916201,
           0.7690875232774674,
           0.7579143389199254,
           0.7653631284916201,
           0.7728119180633147,
           0.7728119180633147,
           0.7709497206703911,
           0.7728119180633147,
           0.7728119180633147,
           0.7690875232774674,
           0.7746741154562384,
           0.7616387337057727,
           0.7709497206703911
          ],
          "colorbar": {
           "title": {
            "text": "Objective Value"
           }
          },
          "colorscale": [
           [
            0,
            "rgb(247,251,255)"
           ],
           [
            0.125,
            "rgb(222,235,247)"
           ],
           [
            0.25,
            "rgb(198,219,239)"
           ],
           [
            0.375,
            "rgb(158,202,225)"
           ],
           [
            0.5,
            "rgb(107,174,214)"
           ],
           [
            0.625,
            "rgb(66,146,198)"
           ],
           [
            0.75,
            "rgb(33,113,181)"
           ],
           [
            0.875,
            "rgb(8,81,156)"
           ],
           [
            1,
            "rgb(8,48,107)"
           ]
          ],
          "reversescale": false,
          "showscale": true
         },
         "type": "parcoords"
        }
       ],
       "layout": {
        "template": {
         "data": {
          "bar": [
           {
            "error_x": {
             "color": "#2a3f5f"
            },
            "error_y": {
             "color": "#2a3f5f"
            },
            "marker": {
             "line": {
              "color": "#E5ECF6",
              "width": 0.5
             },
             "pattern": {
              "fillmode": "overlay",
              "size": 10,
              "solidity": 0.2
             }
            },
            "type": "bar"
           }
          ],
          "barpolar": [
           {
            "marker": {
             "line": {
              "color": "#E5ECF6",
              "width": 0.5
             },
             "pattern": {
              "fillmode": "overlay",
              "size": 10,
              "solidity": 0.2
             }
            },
            "type": "barpolar"
           }
          ],
          "carpet": [
           {
            "aaxis": {
             "endlinecolor": "#2a3f5f",
             "gridcolor": "white",
             "linecolor": "white",
             "minorgridcolor": "white",
             "startlinecolor": "#2a3f5f"
            },
            "baxis": {
             "endlinecolor": "#2a3f5f",
             "gridcolor": "white",
             "linecolor": "white",
             "minorgridcolor": "white",
             "startlinecolor": "#2a3f5f"
            },
            "type": "carpet"
           }
          ],
          "choropleth": [
           {
            "colorbar": {
             "outlinewidth": 0,
             "ticks": ""
            },
            "type": "choropleth"
           }
          ],
          "contour": [
           {
            "colorbar": {
             "outlinewidth": 0,
             "ticks": ""
            },
            "colorscale": [
             [
              0,
              "#0d0887"
             ],
             [
              0.1111111111111111,
              "#46039f"
             ],
             [
              0.2222222222222222,
              "#7201a8"
             ],
             [
              0.3333333333333333,
              "#9c179e"
             ],
             [
              0.4444444444444444,
              "#bd3786"
             ],
             [
              0.5555555555555556,
              "#d8576b"
             ],
             [
              0.6666666666666666,
              "#ed7953"
             ],
             [
              0.7777777777777778,
              "#fb9f3a"
             ],
             [
              0.8888888888888888,
              "#fdca26"
             ],
             [
              1,
              "#f0f921"
             ]
            ],
            "type": "contour"
           }
          ],
          "contourcarpet": [
           {
            "colorbar": {
             "outlinewidth": 0,
             "ticks": ""
            },
            "type": "contourcarpet"
           }
          ],
          "heatmap": [
           {
            "colorbar": {
             "outlinewidth": 0,
             "ticks": ""
            },
            "colorscale": [
             [
              0,
              "#0d0887"
             ],
             [
              0.1111111111111111,
              "#46039f"
             ],
             [
              0.2222222222222222,
              "#7201a8"
             ],
             [
              0.3333333333333333,
              "#9c179e"
             ],
             [
              0.4444444444444444,
              "#bd3786"
             ],
             [
              0.5555555555555556,
              "#d8576b"
             ],
             [
              0.6666666666666666,
              "#ed7953"
             ],
             [
              0.7777777777777778,
              "#fb9f3a"
             ],
             [
              0.8888888888888888,
              "#fdca26"
             ],
             [
              1,
              "#f0f921"
             ]
            ],
            "type": "heatmap"
           }
          ],
          "histogram": [
           {
            "marker": {
             "pattern": {
              "fillmode": "overlay",
              "size": 10,
              "solidity": 0.2
             }
            },
            "type": "histogram"
           }
          ],
          "histogram2d": [
           {
            "colorbar": {
             "outlinewidth": 0,
             "ticks": ""
            },
            "colorscale": [
             [
              0,
              "#0d0887"
             ],
             [
              0.1111111111111111,
              "#46039f"
             ],
             [
              0.2222222222222222,
              "#7201a8"
             ],
             [
              0.3333333333333333,
              "#9c179e"
             ],
             [
              0.4444444444444444,
              "#bd3786"
             ],
             [
              0.5555555555555556,
              "#d8576b"
             ],
             [
              0.6666666666666666,
              "#ed7953"
             ],
             [
              0.7777777777777778,
              "#fb9f3a"
             ],
             [
              0.8888888888888888,
              "#fdca26"
             ],
             [
              1,
              "#f0f921"
             ]
            ],
            "type": "histogram2d"
           }
          ],
          "histogram2dcontour": [
           {
            "colorbar": {
             "outlinewidth": 0,
             "ticks": ""
            },
            "colorscale": [
             [
              0,
              "#0d0887"
             ],
             [
              0.1111111111111111,
              "#46039f"
             ],
             [
              0.2222222222222222,
              "#7201a8"
             ],
             [
              0.3333333333333333,
              "#9c179e"
             ],
             [
              0.4444444444444444,
              "#bd3786"
             ],
             [
              0.5555555555555556,
              "#d8576b"
             ],
             [
              0.6666666666666666,
              "#ed7953"
             ],
             [
              0.7777777777777778,
              "#fb9f3a"
             ],
             [
              0.8888888888888888,
              "#fdca26"
             ],
             [
              1,
              "#f0f921"
             ]
            ],
            "type": "histogram2dcontour"
           }
          ],
          "mesh3d": [
           {
            "colorbar": {
             "outlinewidth": 0,
             "ticks": ""
            },
            "type": "mesh3d"
           }
          ],
          "parcoords": [
           {
            "line": {
             "colorbar": {
              "outlinewidth": 0,
              "ticks": ""
             }
            },
            "type": "parcoords"
           }
          ],
          "pie": [
           {
            "automargin": true,
            "type": "pie"
           }
          ],
          "scatter": [
           {
            "fillpattern": {
             "fillmode": "overlay",
             "size": 10,
             "solidity": 0.2
            },
            "type": "scatter"
           }
          ],
          "scatter3d": [
           {
            "line": {
             "colorbar": {
              "outlinewidth": 0,
              "ticks": ""
             }
            },
            "marker": {
             "colorbar": {
              "outlinewidth": 0,
              "ticks": ""
             }
            },
            "type": "scatter3d"
           }
          ],
          "scattercarpet": [
           {
            "marker": {
             "colorbar": {
              "outlinewidth": 0,
              "ticks": ""
             }
            },
            "type": "scattercarpet"
           }
          ],
          "scattergeo": [
           {
            "marker": {
             "colorbar": {
              "outlinewidth": 0,
              "ticks": ""
             }
            },
            "type": "scattergeo"
           }
          ],
          "scattergl": [
           {
            "marker": {
             "colorbar": {
              "outlinewidth": 0,
              "ticks": ""
             }
            },
            "type": "scattergl"
           }
          ],
          "scattermap": [
           {
            "marker": {
             "colorbar": {
              "outlinewidth": 0,
              "ticks": ""
             }
            },
            "type": "scattermap"
           }
          ],
          "scattermapbox": [
           {
            "marker": {
             "colorbar": {
              "outlinewidth": 0,
              "ticks": ""
             }
            },
            "type": "scattermapbox"
           }
          ],
          "scatterpolar": [
           {
            "marker": {
             "colorbar": {
              "outlinewidth": 0,
              "ticks": ""
             }
            },
            "type": "scatterpolar"
           }
          ],
          "scatterpolargl": [
           {
            "marker": {
             "colorbar": {
              "outlinewidth": 0,
              "ticks": ""
             }
            },
            "type": "scatterpolargl"
           }
          ],
          "scatterternary": [
           {
            "marker": {
             "colorbar": {
              "outlinewidth": 0,
              "ticks": ""
             }
            },
            "type": "scatterternary"
           }
          ],
          "surface": [
           {
            "colorbar": {
             "outlinewidth": 0,
             "ticks": ""
            },
            "colorscale": [
             [
              0,
              "#0d0887"
             ],
             [
              0.1111111111111111,
              "#46039f"
             ],
             [
              0.2222222222222222,
              "#7201a8"
             ],
             [
              0.3333333333333333,
              "#9c179e"
             ],
             [
              0.4444444444444444,
              "#bd3786"
             ],
             [
              0.5555555555555556,
              "#d8576b"
             ],
             [
              0.6666666666666666,
              "#ed7953"
             ],
             [
              0.7777777777777778,
              "#fb9f3a"
             ],
             [
              0.8888888888888888,
              "#fdca26"
             ],
             [
              1,
              "#f0f921"
             ]
            ],
            "type": "surface"
           }
          ],
          "table": [
           {
            "cells": {
             "fill": {
              "color": "#EBF0F8"
             },
             "line": {
              "color": "white"
             }
            },
            "header": {
             "fill": {
              "color": "#C8D4E3"
             },
             "line": {
              "color": "white"
             }
            },
            "type": "table"
           }
          ]
         },
         "layout": {
          "annotationdefaults": {
           "arrowcolor": "#2a3f5f",
           "arrowhead": 0,
           "arrowwidth": 1
          },
          "autotypenumbers": "strict",
          "coloraxis": {
           "colorbar": {
            "outlinewidth": 0,
            "ticks": ""
           }
          },
          "colorscale": {
           "diverging": [
            [
             0,
             "#8e0152"
            ],
            [
             0.1,
             "#c51b7d"
            ],
            [
             0.2,
             "#de77ae"
            ],
            [
             0.3,
             "#f1b6da"
            ],
            [
             0.4,
             "#fde0ef"
            ],
            [
             0.5,
             "#f7f7f7"
            ],
            [
             0.6,
             "#e6f5d0"
            ],
            [
             0.7,
             "#b8e186"
            ],
            [
             0.8,
             "#7fbc41"
            ],
            [
             0.9,
             "#4d9221"
            ],
            [
             1,
             "#276419"
            ]
           ],
           "sequential": [
            [
             0,
             "#0d0887"
            ],
            [
             0.1111111111111111,
             "#46039f"
            ],
            [
             0.2222222222222222,
             "#7201a8"
            ],
            [
             0.3333333333333333,
             "#9c179e"
            ],
            [
             0.4444444444444444,
             "#bd3786"
            ],
            [
             0.5555555555555556,
             "#d8576b"
            ],
            [
             0.6666666666666666,
             "#ed7953"
            ],
            [
             0.7777777777777778,
             "#fb9f3a"
            ],
            [
             0.8888888888888888,
             "#fdca26"
            ],
            [
             1,
             "#f0f921"
            ]
           ],
           "sequentialminus": [
            [
             0,
             "#0d0887"
            ],
            [
             0.1111111111111111,
             "#46039f"
            ],
            [
             0.2222222222222222,
             "#7201a8"
            ],
            [
             0.3333333333333333,
             "#9c179e"
            ],
            [
             0.4444444444444444,
             "#bd3786"
            ],
            [
             0.5555555555555556,
             "#d8576b"
            ],
            [
             0.6666666666666666,
             "#ed7953"
            ],
            [
             0.7777777777777778,
             "#fb9f3a"
            ],
            [
             0.8888888888888888,
             "#fdca26"
            ],
            [
             1,
             "#f0f921"
            ]
           ]
          },
          "colorway": [
           "#636efa",
           "#EF553B",
           "#00cc96",
           "#ab63fa",
           "#FFA15A",
           "#19d3f3",
           "#FF6692",
           "#B6E880",
           "#FF97FF",
           "#FECB52"
          ],
          "font": {
           "color": "#2a3f5f"
          },
          "geo": {
           "bgcolor": "white",
           "lakecolor": "white",
           "landcolor": "#E5ECF6",
           "showlakes": true,
           "showland": true,
           "subunitcolor": "white"
          },
          "hoverlabel": {
           "align": "left"
          },
          "hovermode": "closest",
          "mapbox": {
           "style": "light"
          },
          "paper_bgcolor": "white",
          "plot_bgcolor": "#E5ECF6",
          "polar": {
           "angularaxis": {
            "gridcolor": "white",
            "linecolor": "white",
            "ticks": ""
           },
           "bgcolor": "#E5ECF6",
           "radialaxis": {
            "gridcolor": "white",
            "linecolor": "white",
            "ticks": ""
           }
          },
          "scene": {
           "xaxis": {
            "backgroundcolor": "#E5ECF6",
            "gridcolor": "white",
            "gridwidth": 2,
            "linecolor": "white",
            "showbackground": true,
            "ticks": "",
            "zerolinecolor": "white"
           },
           "yaxis": {
            "backgroundcolor": "#E5ECF6",
            "gridcolor": "white",
            "gridwidth": 2,
            "linecolor": "white",
            "showbackground": true,
            "ticks": "",
            "zerolinecolor": "white"
           },
           "zaxis": {
            "backgroundcolor": "#E5ECF6",
            "gridcolor": "white",
            "gridwidth": 2,
            "linecolor": "white",
            "showbackground": true,
            "ticks": "",
            "zerolinecolor": "white"
           }
          },
          "shapedefaults": {
           "line": {
            "color": "#2a3f5f"
           }
          },
          "ternary": {
           "aaxis": {
            "gridcolor": "white",
            "linecolor": "white",
            "ticks": ""
           },
           "baxis": {
            "gridcolor": "white",
            "linecolor": "white",
            "ticks": ""
           },
           "bgcolor": "#E5ECF6",
           "caxis": {
            "gridcolor": "white",
            "linecolor": "white",
            "ticks": ""
           }
          },
          "title": {
           "x": 0.05
          },
          "xaxis": {
           "automargin": true,
           "gridcolor": "white",
           "linecolor": "white",
           "ticks": "",
           "title": {
            "standoff": 15
           },
           "zerolinecolor": "white",
           "zerolinewidth": 2
          },
          "yaxis": {
           "automargin": true,
           "gridcolor": "white",
           "linecolor": "white",
           "ticks": "",
           "title": {
            "standoff": 15
           },
           "zerolinecolor": "white",
           "zerolinewidth": 2
          }
         }
        },
        "title": {
         "text": "Parallel Coordinate Plot"
        }
       }
      }
     },
     "metadata": {},
     "output_type": "display_data"
    }
   ],
   "source": [
    "# 2. Parallel Coordinates Plot\n",
    "plot_parallel_coordinate(study).show()"
   ]
  },
  {
   "cell_type": "code",
   "execution_count": 21,
   "id": "a45c4141",
   "metadata": {},
   "outputs": [
    {
     "data": {
      "application/vnd.plotly.v1+json": {
       "config": {
        "plotlyServerURL": "https://plot.ly"
       },
       "data": [
        {
         "marker": {
          "color": [
           0,
           1,
           2,
           3,
           4,
           5,
           6,
           7,
           8,
           9,
           10,
           11,
           12,
           13,
           14,
           15
          ],
          "colorbar": {
           "title": {
            "text": "Trial"
           },
           "x": 1,
           "xpad": 40
          },
          "colorscale": [
           [
            0,
            "rgb(247,251,255)"
           ],
           [
            0.125,
            "rgb(222,235,247)"
           ],
           [
            0.25,
            "rgb(198,219,239)"
           ],
           [
            0.375,
            "rgb(158,202,225)"
           ],
           [
            0.5,
            "rgb(107,174,214)"
           ],
           [
            0.625,
            "rgb(66,146,198)"
           ],
           [
            0.75,
            "rgb(33,113,181)"
           ],
           [
            0.875,
            "rgb(8,81,156)"
           ],
           [
            1,
            "rgb(8,48,107)"
           ]
          ],
          "line": {
           "color": "Grey",
           "width": 0.5
          },
          "showscale": true
         },
         "mode": "markers",
         "name": "Feasible Trial",
         "showlegend": false,
         "type": "scatter",
         "x": [
          5,
          10,
          15,
          15,
          20,
          10,
          5,
          20,
          15,
          10,
          20,
          15,
          5,
          5,
          10,
          20
         ],
         "xaxis": "x",
         "y": [
          0.7690875232774674,
          0.7672253258845437,
          0.7728119180633147,
          0.7653631284916201,
          0.7690875232774674,
          0.7579143389199254,
          0.7653631284916201,
          0.7728119180633147,
          0.7728119180633147,
          0.7709497206703911,
          0.7728119180633147,
          0.7728119180633147,
          0.7690875232774674,
          0.7746741154562384,
          0.7616387337057727,
          0.7709497206703911
         ],
         "yaxis": "y"
        },
        {
         "marker": {
          "color": [
           0,
           1,
           2,
           3,
           4,
           5,
           6,
           7,
           8,
           9,
           10,
           11,
           12,
           13,
           14,
           15
          ],
          "colorbar": {
           "title": {
            "text": "Trial"
           },
           "x": 1,
           "xpad": 40
          },
          "colorscale": [
           [
            0,
            "rgb(247,251,255)"
           ],
           [
            0.125,
            "rgb(222,235,247)"
           ],
           [
            0.25,
            "rgb(198,219,239)"
           ],
           [
            0.375,
            "rgb(158,202,225)"
           ],
           [
            0.5,
            "rgb(107,174,214)"
           ],
           [
            0.625,
            "rgb(66,146,198)"
           ],
           [
            0.75,
            "rgb(33,113,181)"
           ],
           [
            0.875,
            "rgb(8,81,156)"
           ],
           [
            1,
            "rgb(8,48,107)"
           ]
          ],
          "line": {
           "color": "Grey",
           "width": 0.5
          },
          "showscale": false
         },
         "mode": "markers",
         "name": "Feasible Trial",
         "showlegend": false,
         "type": "scatter",
         "x": [
          100,
          150,
          50,
          100,
          100,
          50,
          150,
          150,
          150,
          200,
          200,
          200,
          200,
          50,
          100,
          50
         ],
         "xaxis": "x2",
         "y": [
          0.7690875232774674,
          0.7672253258845437,
          0.7728119180633147,
          0.7653631284916201,
          0.7690875232774674,
          0.7579143389199254,
          0.7653631284916201,
          0.7728119180633147,
          0.7728119180633147,
          0.7709497206703911,
          0.7728119180633147,
          0.7728119180633147,
          0.7690875232774674,
          0.7746741154562384,
          0.7616387337057727,
          0.7709497206703911
         ],
         "yaxis": "y2"
        }
       ],
       "layout": {
        "template": {
         "data": {
          "bar": [
           {
            "error_x": {
             "color": "#2a3f5f"
            },
            "error_y": {
             "color": "#2a3f5f"
            },
            "marker": {
             "line": {
              "color": "#E5ECF6",
              "width": 0.5
             },
             "pattern": {
              "fillmode": "overlay",
              "size": 10,
              "solidity": 0.2
             }
            },
            "type": "bar"
           }
          ],
          "barpolar": [
           {
            "marker": {
             "line": {
              "color": "#E5ECF6",
              "width": 0.5
             },
             "pattern": {
              "fillmode": "overlay",
              "size": 10,
              "solidity": 0.2
             }
            },
            "type": "barpolar"
           }
          ],
          "carpet": [
           {
            "aaxis": {
             "endlinecolor": "#2a3f5f",
             "gridcolor": "white",
             "linecolor": "white",
             "minorgridcolor": "white",
             "startlinecolor": "#2a3f5f"
            },
            "baxis": {
             "endlinecolor": "#2a3f5f",
             "gridcolor": "white",
             "linecolor": "white",
             "minorgridcolor": "white",
             "startlinecolor": "#2a3f5f"
            },
            "type": "carpet"
           }
          ],
          "choropleth": [
           {
            "colorbar": {
             "outlinewidth": 0,
             "ticks": ""
            },
            "type": "choropleth"
           }
          ],
          "contour": [
           {
            "colorbar": {
             "outlinewidth": 0,
             "ticks": ""
            },
            "colorscale": [
             [
              0,
              "#0d0887"
             ],
             [
              0.1111111111111111,
              "#46039f"
             ],
             [
              0.2222222222222222,
              "#7201a8"
             ],
             [
              0.3333333333333333,
              "#9c179e"
             ],
             [
              0.4444444444444444,
              "#bd3786"
             ],
             [
              0.5555555555555556,
              "#d8576b"
             ],
             [
              0.6666666666666666,
              "#ed7953"
             ],
             [
              0.7777777777777778,
              "#fb9f3a"
             ],
             [
              0.8888888888888888,
              "#fdca26"
             ],
             [
              1,
              "#f0f921"
             ]
            ],
            "type": "contour"
           }
          ],
          "contourcarpet": [
           {
            "colorbar": {
             "outlinewidth": 0,
             "ticks": ""
            },
            "type": "contourcarpet"
           }
          ],
          "heatmap": [
           {
            "colorbar": {
             "outlinewidth": 0,
             "ticks": ""
            },
            "colorscale": [
             [
              0,
              "#0d0887"
             ],
             [
              0.1111111111111111,
              "#46039f"
             ],
             [
              0.2222222222222222,
              "#7201a8"
             ],
             [
              0.3333333333333333,
              "#9c179e"
             ],
             [
              0.4444444444444444,
              "#bd3786"
             ],
             [
              0.5555555555555556,
              "#d8576b"
             ],
             [
              0.6666666666666666,
              "#ed7953"
             ],
             [
              0.7777777777777778,
              "#fb9f3a"
             ],
             [
              0.8888888888888888,
              "#fdca26"
             ],
             [
              1,
              "#f0f921"
             ]
            ],
            "type": "heatmap"
           }
          ],
          "histogram": [
           {
            "marker": {
             "pattern": {
              "fillmode": "overlay",
              "size": 10,
              "solidity": 0.2
             }
            },
            "type": "histogram"
           }
          ],
          "histogram2d": [
           {
            "colorbar": {
             "outlinewidth": 0,
             "ticks": ""
            },
            "colorscale": [
             [
              0,
              "#0d0887"
             ],
             [
              0.1111111111111111,
              "#46039f"
             ],
             [
              0.2222222222222222,
              "#7201a8"
             ],
             [
              0.3333333333333333,
              "#9c179e"
             ],
             [
              0.4444444444444444,
              "#bd3786"
             ],
             [
              0.5555555555555556,
              "#d8576b"
             ],
             [
              0.6666666666666666,
              "#ed7953"
             ],
             [
              0.7777777777777778,
              "#fb9f3a"
             ],
             [
              0.8888888888888888,
              "#fdca26"
             ],
             [
              1,
              "#f0f921"
             ]
            ],
            "type": "histogram2d"
           }
          ],
          "histogram2dcontour": [
           {
            "colorbar": {
             "outlinewidth": 0,
             "ticks": ""
            },
            "colorscale": [
             [
              0,
              "#0d0887"
             ],
             [
              0.1111111111111111,
              "#46039f"
             ],
             [
              0.2222222222222222,
              "#7201a8"
             ],
             [
              0.3333333333333333,
              "#9c179e"
             ],
             [
              0.4444444444444444,
              "#bd3786"
             ],
             [
              0.5555555555555556,
              "#d8576b"
             ],
             [
              0.6666666666666666,
              "#ed7953"
             ],
             [
              0.7777777777777778,
              "#fb9f3a"
             ],
             [
              0.8888888888888888,
              "#fdca26"
             ],
             [
              1,
              "#f0f921"
             ]
            ],
            "type": "histogram2dcontour"
           }
          ],
          "mesh3d": [
           {
            "colorbar": {
             "outlinewidth": 0,
             "ticks": ""
            },
            "type": "mesh3d"
           }
          ],
          "parcoords": [
           {
            "line": {
             "colorbar": {
              "outlinewidth": 0,
              "ticks": ""
             }
            },
            "type": "parcoords"
           }
          ],
          "pie": [
           {
            "automargin": true,
            "type": "pie"
           }
          ],
          "scatter": [
           {
            "fillpattern": {
             "fillmode": "overlay",
             "size": 10,
             "solidity": 0.2
            },
            "type": "scatter"
           }
          ],
          "scatter3d": [
           {
            "line": {
             "colorbar": {
              "outlinewidth": 0,
              "ticks": ""
             }
            },
            "marker": {
             "colorbar": {
              "outlinewidth": 0,
              "ticks": ""
             }
            },
            "type": "scatter3d"
           }
          ],
          "scattercarpet": [
           {
            "marker": {
             "colorbar": {
              "outlinewidth": 0,
              "ticks": ""
             }
            },
            "type": "scattercarpet"
           }
          ],
          "scattergeo": [
           {
            "marker": {
             "colorbar": {
              "outlinewidth": 0,
              "ticks": ""
             }
            },
            "type": "scattergeo"
           }
          ],
          "scattergl": [
           {
            "marker": {
             "colorbar": {
              "outlinewidth": 0,
              "ticks": ""
             }
            },
            "type": "scattergl"
           }
          ],
          "scattermap": [
           {
            "marker": {
             "colorbar": {
              "outlinewidth": 0,
              "ticks": ""
             }
            },
            "type": "scattermap"
           }
          ],
          "scattermapbox": [
           {
            "marker": {
             "colorbar": {
              "outlinewidth": 0,
              "ticks": ""
             }
            },
            "type": "scattermapbox"
           }
          ],
          "scatterpolar": [
           {
            "marker": {
             "colorbar": {
              "outlinewidth": 0,
              "ticks": ""
             }
            },
            "type": "scatterpolar"
           }
          ],
          "scatterpolargl": [
           {
            "marker": {
             "colorbar": {
              "outlinewidth": 0,
              "ticks": ""
             }
            },
            "type": "scatterpolargl"
           }
          ],
          "scatterternary": [
           {
            "marker": {
             "colorbar": {
              "outlinewidth": 0,
              "ticks": ""
             }
            },
            "type": "scatterternary"
           }
          ],
          "surface": [
           {
            "colorbar": {
             "outlinewidth": 0,
             "ticks": ""
            },
            "colorscale": [
             [
              0,
              "#0d0887"
             ],
             [
              0.1111111111111111,
              "#46039f"
             ],
             [
              0.2222222222222222,
              "#7201a8"
             ],
             [
              0.3333333333333333,
              "#9c179e"
             ],
             [
              0.4444444444444444,
              "#bd3786"
             ],
             [
              0.5555555555555556,
              "#d8576b"
             ],
             [
              0.6666666666666666,
              "#ed7953"
             ],
             [
              0.7777777777777778,
              "#fb9f3a"
             ],
             [
              0.8888888888888888,
              "#fdca26"
             ],
             [
              1,
              "#f0f921"
             ]
            ],
            "type": "surface"
           }
          ],
          "table": [
           {
            "cells": {
             "fill": {
              "color": "#EBF0F8"
             },
             "line": {
              "color": "white"
             }
            },
            "header": {
             "fill": {
              "color": "#C8D4E3"
             },
             "line": {
              "color": "white"
             }
            },
            "type": "table"
           }
          ]
         },
         "layout": {
          "annotationdefaults": {
           "arrowcolor": "#2a3f5f",
           "arrowhead": 0,
           "arrowwidth": 1
          },
          "autotypenumbers": "strict",
          "coloraxis": {
           "colorbar": {
            "outlinewidth": 0,
            "ticks": ""
           }
          },
          "colorscale": {
           "diverging": [
            [
             0,
             "#8e0152"
            ],
            [
             0.1,
             "#c51b7d"
            ],
            [
             0.2,
             "#de77ae"
            ],
            [
             0.3,
             "#f1b6da"
            ],
            [
             0.4,
             "#fde0ef"
            ],
            [
             0.5,
             "#f7f7f7"
            ],
            [
             0.6,
             "#e6f5d0"
            ],
            [
             0.7,
             "#b8e186"
            ],
            [
             0.8,
             "#7fbc41"
            ],
            [
             0.9,
             "#4d9221"
            ],
            [
             1,
             "#276419"
            ]
           ],
           "sequential": [
            [
             0,
             "#0d0887"
            ],
            [
             0.1111111111111111,
             "#46039f"
            ],
            [
             0.2222222222222222,
             "#7201a8"
            ],
            [
             0.3333333333333333,
             "#9c179e"
            ],
            [
             0.4444444444444444,
             "#bd3786"
            ],
            [
             0.5555555555555556,
             "#d8576b"
            ],
            [
             0.6666666666666666,
             "#ed7953"
            ],
            [
             0.7777777777777778,
             "#fb9f3a"
            ],
            [
             0.8888888888888888,
             "#fdca26"
            ],
            [
             1,
             "#f0f921"
            ]
           ],
           "sequentialminus": [
            [
             0,
             "#0d0887"
            ],
            [
             0.1111111111111111,
             "#46039f"
            ],
            [
             0.2222222222222222,
             "#7201a8"
            ],
            [
             0.3333333333333333,
             "#9c179e"
            ],
            [
             0.4444444444444444,
             "#bd3786"
            ],
            [
             0.5555555555555556,
             "#d8576b"
            ],
            [
             0.6666666666666666,
             "#ed7953"
            ],
            [
             0.7777777777777778,
             "#fb9f3a"
            ],
            [
             0.8888888888888888,
             "#fdca26"
            ],
            [
             1,
             "#f0f921"
            ]
           ]
          },
          "colorway": [
           "#636efa",
           "#EF553B",
           "#00cc96",
           "#ab63fa",
           "#FFA15A",
           "#19d3f3",
           "#FF6692",
           "#B6E880",
           "#FF97FF",
           "#FECB52"
          ],
          "font": {
           "color": "#2a3f5f"
          },
          "geo": {
           "bgcolor": "white",
           "lakecolor": "white",
           "landcolor": "#E5ECF6",
           "showlakes": true,
           "showland": true,
           "subunitcolor": "white"
          },
          "hoverlabel": {
           "align": "left"
          },
          "hovermode": "closest",
          "mapbox": {
           "style": "light"
          },
          "paper_bgcolor": "white",
          "plot_bgcolor": "#E5ECF6",
          "polar": {
           "angularaxis": {
            "gridcolor": "white",
            "linecolor": "white",
            "ticks": ""
           },
           "bgcolor": "#E5ECF6",
           "radialaxis": {
            "gridcolor": "white",
            "linecolor": "white",
            "ticks": ""
           }
          },
          "scene": {
           "xaxis": {
            "backgroundcolor": "#E5ECF6",
            "gridcolor": "white",
            "gridwidth": 2,
            "linecolor": "white",
            "showbackground": true,
            "ticks": "",
            "zerolinecolor": "white"
           },
           "yaxis": {
            "backgroundcolor": "#E5ECF6",
            "gridcolor": "white",
            "gridwidth": 2,
            "linecolor": "white",
            "showbackground": true,
            "ticks": "",
            "zerolinecolor": "white"
           },
           "zaxis": {
            "backgroundcolor": "#E5ECF6",
            "gridcolor": "white",
            "gridwidth": 2,
            "linecolor": "white",
            "showbackground": true,
            "ticks": "",
            "zerolinecolor": "white"
           }
          },
          "shapedefaults": {
           "line": {
            "color": "#2a3f5f"
           }
          },
          "ternary": {
           "aaxis": {
            "gridcolor": "white",
            "linecolor": "white",
            "ticks": ""
           },
           "baxis": {
            "gridcolor": "white",
            "linecolor": "white",
            "ticks": ""
           },
           "bgcolor": "#E5ECF6",
           "caxis": {
            "gridcolor": "white",
            "linecolor": "white",
            "ticks": ""
           }
          },
          "title": {
           "x": 0.05
          },
          "xaxis": {
           "automargin": true,
           "gridcolor": "white",
           "linecolor": "white",
           "ticks": "",
           "title": {
            "standoff": 15
           },
           "zerolinecolor": "white",
           "zerolinewidth": 2
          },
          "yaxis": {
           "automargin": true,
           "gridcolor": "white",
           "linecolor": "white",
           "ticks": "",
           "title": {
            "standoff": 15
           },
           "zerolinecolor": "white",
           "zerolinewidth": 2
          }
         }
        },
        "title": {
         "text": "Slice Plot"
        },
        "xaxis": {
         "anchor": "y",
         "domain": [
          0,
          0.45
         ],
         "title": {
          "text": "max_depth"
         }
        },
        "xaxis2": {
         "anchor": "y2",
         "domain": [
          0.55,
          1
         ],
         "title": {
          "text": "n_estimators"
         }
        },
        "yaxis": {
         "anchor": "x",
         "domain": [
          0,
          1
         ],
         "title": {
          "text": "Objective Value"
         }
        },
        "yaxis2": {
         "anchor": "x2",
         "domain": [
          0,
          1
         ],
         "matches": "y",
         "showticklabels": false
        }
       }
      }
     },
     "metadata": {},
     "output_type": "display_data"
    }
   ],
   "source": [
    "# 3. Slice Plot\n",
    "plot_slice(study).show()"
   ]
  },
  {
   "cell_type": "code",
   "execution_count": 22,
   "id": "bd2a05bd",
   "metadata": {},
   "outputs": [
    {
     "data": {
      "application/vnd.plotly.v1+json": {
       "config": {
        "plotlyServerURL": "https://plot.ly"
       },
       "data": [
        {
         "colorbar": {
          "title": {
           "text": "Objective Value"
          }
         },
         "colorscale": [
          [
           0,
           "rgb(247,251,255)"
          ],
          [
           0.125,
           "rgb(222,235,247)"
          ],
          [
           0.25,
           "rgb(198,219,239)"
          ],
          [
           0.375,
           "rgb(158,202,225)"
          ],
          [
           0.5,
           "rgb(107,174,214)"
          ],
          [
           0.625,
           "rgb(66,146,198)"
          ],
          [
           0.75,
           "rgb(33,113,181)"
          ],
          [
           0.875,
           "rgb(8,81,156)"
          ],
          [
           1,
           "rgb(8,48,107)"
          ]
         ],
         "connectgaps": true,
         "contours": {
          "coloring": "heatmap"
         },
         "hoverinfo": "none",
         "line": {
          "smoothing": 1.3
         },
         "reversescale": false,
         "type": "contour",
         "x": [
          4.25,
          5,
          10,
          15,
          20,
          20.75
         ],
         "y": [
          42.5,
          50,
          100,
          150,
          200,
          207.5
         ],
         "z": {
          "bdata": "AAAAAAAA+H8AAAAAAAD4fwAAAAAAAPh/AAAAAAAA+H8AAAAAAAD4fwAAAAAAAPh/AAAAAAAA+H8YJ95eIcroP8iTWpLVQOg/nU9BD+C66D8jeKS/nqvoPwAAAAAAAPh/AAAAAAAA+H+ooAdwXZzoP71ClDFYX+g/s/HN0Np96D+ooAdwXZzoPwAAAAAAAPh/AAAAAAAA+H+z8c3Q2n3oPy3JaiAcjeg/nU9BD+C66D+dT0EP4LroPwAAAAAAAPh/AAAAAAAA+H+ooAdwXZzoPyN4pL+eq+g/nU9BD+C66D+dT0EP4LroPwAAAAAAAPh/AAAAAAAA+H8AAAAAAAD4fwAAAAAAAPh/AAAAAAAA+H8AAAAAAAD4fwAAAAAAAPh/",
          "dtype": "f8",
          "shape": "6, 6"
         }
        },
        {
         "marker": {
          "color": "black",
          "line": {
           "color": "Gray",
           "width": 2
          }
         },
         "mode": "markers",
         "name": "Feasible Trial",
         "showlegend": false,
         "type": "scatter",
         "x": [
          5,
          10,
          15,
          15,
          20,
          10,
          5,
          20,
          15,
          10,
          20,
          15,
          5,
          5,
          10,
          20
         ],
         "y": [
          100,
          150,
          50,
          100,
          100,
          50,
          150,
          150,
          150,
          200,
          200,
          200,
          200,
          50,
          100,
          50
         ]
        },
        {
         "marker": {
          "color": "#cccccc",
          "line": {
           "color": "Gray",
           "width": 2
          }
         },
         "mode": "markers",
         "name": "Infeasible Trial",
         "showlegend": false,
         "type": "scatter",
         "x": [],
         "y": []
        }
       ],
       "layout": {
        "template": {
         "data": {
          "bar": [
           {
            "error_x": {
             "color": "#2a3f5f"
            },
            "error_y": {
             "color": "#2a3f5f"
            },
            "marker": {
             "line": {
              "color": "#E5ECF6",
              "width": 0.5
             },
             "pattern": {
              "fillmode": "overlay",
              "size": 10,
              "solidity": 0.2
             }
            },
            "type": "bar"
           }
          ],
          "barpolar": [
           {
            "marker": {
             "line": {
              "color": "#E5ECF6",
              "width": 0.5
             },
             "pattern": {
              "fillmode": "overlay",
              "size": 10,
              "solidity": 0.2
             }
            },
            "type": "barpolar"
           }
          ],
          "carpet": [
           {
            "aaxis": {
             "endlinecolor": "#2a3f5f",
             "gridcolor": "white",
             "linecolor": "white",
             "minorgridcolor": "white",
             "startlinecolor": "#2a3f5f"
            },
            "baxis": {
             "endlinecolor": "#2a3f5f",
             "gridcolor": "white",
             "linecolor": "white",
             "minorgridcolor": "white",
             "startlinecolor": "#2a3f5f"
            },
            "type": "carpet"
           }
          ],
          "choropleth": [
           {
            "colorbar": {
             "outlinewidth": 0,
             "ticks": ""
            },
            "type": "choropleth"
           }
          ],
          "contour": [
           {
            "colorbar": {
             "outlinewidth": 0,
             "ticks": ""
            },
            "colorscale": [
             [
              0,
              "#0d0887"
             ],
             [
              0.1111111111111111,
              "#46039f"
             ],
             [
              0.2222222222222222,
              "#7201a8"
             ],
             [
              0.3333333333333333,
              "#9c179e"
             ],
             [
              0.4444444444444444,
              "#bd3786"
             ],
             [
              0.5555555555555556,
              "#d8576b"
             ],
             [
              0.6666666666666666,
              "#ed7953"
             ],
             [
              0.7777777777777778,
              "#fb9f3a"
             ],
             [
              0.8888888888888888,
              "#fdca26"
             ],
             [
              1,
              "#f0f921"
             ]
            ],
            "type": "contour"
           }
          ],
          "contourcarpet": [
           {
            "colorbar": {
             "outlinewidth": 0,
             "ticks": ""
            },
            "type": "contourcarpet"
           }
          ],
          "heatmap": [
           {
            "colorbar": {
             "outlinewidth": 0,
             "ticks": ""
            },
            "colorscale": [
             [
              0,
              "#0d0887"
             ],
             [
              0.1111111111111111,
              "#46039f"
             ],
             [
              0.2222222222222222,
              "#7201a8"
             ],
             [
              0.3333333333333333,
              "#9c179e"
             ],
             [
              0.4444444444444444,
              "#bd3786"
             ],
             [
              0.5555555555555556,
              "#d8576b"
             ],
             [
              0.6666666666666666,
              "#ed7953"
             ],
             [
              0.7777777777777778,
              "#fb9f3a"
             ],
             [
              0.8888888888888888,
              "#fdca26"
             ],
             [
              1,
              "#f0f921"
             ]
            ],
            "type": "heatmap"
           }
          ],
          "histogram": [
           {
            "marker": {
             "pattern": {
              "fillmode": "overlay",
              "size": 10,
              "solidity": 0.2
             }
            },
            "type": "histogram"
           }
          ],
          "histogram2d": [
           {
            "colorbar": {
             "outlinewidth": 0,
             "ticks": ""
            },
            "colorscale": [
             [
              0,
              "#0d0887"
             ],
             [
              0.1111111111111111,
              "#46039f"
             ],
             [
              0.2222222222222222,
              "#7201a8"
             ],
             [
              0.3333333333333333,
              "#9c179e"
             ],
             [
              0.4444444444444444,
              "#bd3786"
             ],
             [
              0.5555555555555556,
              "#d8576b"
             ],
             [
              0.6666666666666666,
              "#ed7953"
             ],
             [
              0.7777777777777778,
              "#fb9f3a"
             ],
             [
              0.8888888888888888,
              "#fdca26"
             ],
             [
              1,
              "#f0f921"
             ]
            ],
            "type": "histogram2d"
           }
          ],
          "histogram2dcontour": [
           {
            "colorbar": {
             "outlinewidth": 0,
             "ticks": ""
            },
            "colorscale": [
             [
              0,
              "#0d0887"
             ],
             [
              0.1111111111111111,
              "#46039f"
             ],
             [
              0.2222222222222222,
              "#7201a8"
             ],
             [
              0.3333333333333333,
              "#9c179e"
             ],
             [
              0.4444444444444444,
              "#bd3786"
             ],
             [
              0.5555555555555556,
              "#d8576b"
             ],
             [
              0.6666666666666666,
              "#ed7953"
             ],
             [
              0.7777777777777778,
              "#fb9f3a"
             ],
             [
              0.8888888888888888,
              "#fdca26"
             ],
             [
              1,
              "#f0f921"
             ]
            ],
            "type": "histogram2dcontour"
           }
          ],
          "mesh3d": [
           {
            "colorbar": {
             "outlinewidth": 0,
             "ticks": ""
            },
            "type": "mesh3d"
           }
          ],
          "parcoords": [
           {
            "line": {
             "colorbar": {
              "outlinewidth": 0,
              "ticks": ""
             }
            },
            "type": "parcoords"
           }
          ],
          "pie": [
           {
            "automargin": true,
            "type": "pie"
           }
          ],
          "scatter": [
           {
            "fillpattern": {
             "fillmode": "overlay",
             "size": 10,
             "solidity": 0.2
            },
            "type": "scatter"
           }
          ],
          "scatter3d": [
           {
            "line": {
             "colorbar": {
              "outlinewidth": 0,
              "ticks": ""
             }
            },
            "marker": {
             "colorbar": {
              "outlinewidth": 0,
              "ticks": ""
             }
            },
            "type": "scatter3d"
           }
          ],
          "scattercarpet": [
           {
            "marker": {
             "colorbar": {
              "outlinewidth": 0,
              "ticks": ""
             }
            },
            "type": "scattercarpet"
           }
          ],
          "scattergeo": [
           {
            "marker": {
             "colorbar": {
              "outlinewidth": 0,
              "ticks": ""
             }
            },
            "type": "scattergeo"
           }
          ],
          "scattergl": [
           {
            "marker": {
             "colorbar": {
              "outlinewidth": 0,
              "ticks": ""
             }
            },
            "type": "scattergl"
           }
          ],
          "scattermap": [
           {
            "marker": {
             "colorbar": {
              "outlinewidth": 0,
              "ticks": ""
             }
            },
            "type": "scattermap"
           }
          ],
          "scattermapbox": [
           {
            "marker": {
             "colorbar": {
              "outlinewidth": 0,
              "ticks": ""
             }
            },
            "type": "scattermapbox"
           }
          ],
          "scatterpolar": [
           {
            "marker": {
             "colorbar": {
              "outlinewidth": 0,
              "ticks": ""
             }
            },
            "type": "scatterpolar"
           }
          ],
          "scatterpolargl": [
           {
            "marker": {
             "colorbar": {
              "outlinewidth": 0,
              "ticks": ""
             }
            },
            "type": "scatterpolargl"
           }
          ],
          "scatterternary": [
           {
            "marker": {
             "colorbar": {
              "outlinewidth": 0,
              "ticks": ""
             }
            },
            "type": "scatterternary"
           }
          ],
          "surface": [
           {
            "colorbar": {
             "outlinewidth": 0,
             "ticks": ""
            },
            "colorscale": [
             [
              0,
              "#0d0887"
             ],
             [
              0.1111111111111111,
              "#46039f"
             ],
             [
              0.2222222222222222,
              "#7201a8"
             ],
             [
              0.3333333333333333,
              "#9c179e"
             ],
             [
              0.4444444444444444,
              "#bd3786"
             ],
             [
              0.5555555555555556,
              "#d8576b"
             ],
             [
              0.6666666666666666,
              "#ed7953"
             ],
             [
              0.7777777777777778,
              "#fb9f3a"
             ],
             [
              0.8888888888888888,
              "#fdca26"
             ],
             [
              1,
              "#f0f921"
             ]
            ],
            "type": "surface"
           }
          ],
          "table": [
           {
            "cells": {
             "fill": {
              "color": "#EBF0F8"
             },
             "line": {
              "color": "white"
             }
            },
            "header": {
             "fill": {
              "color": "#C8D4E3"
             },
             "line": {
              "color": "white"
             }
            },
            "type": "table"
           }
          ]
         },
         "layout": {
          "annotationdefaults": {
           "arrowcolor": "#2a3f5f",
           "arrowhead": 0,
           "arrowwidth": 1
          },
          "autotypenumbers": "strict",
          "coloraxis": {
           "colorbar": {
            "outlinewidth": 0,
            "ticks": ""
           }
          },
          "colorscale": {
           "diverging": [
            [
             0,
             "#8e0152"
            ],
            [
             0.1,
             "#c51b7d"
            ],
            [
             0.2,
             "#de77ae"
            ],
            [
             0.3,
             "#f1b6da"
            ],
            [
             0.4,
             "#fde0ef"
            ],
            [
             0.5,
             "#f7f7f7"
            ],
            [
             0.6,
             "#e6f5d0"
            ],
            [
             0.7,
             "#b8e186"
            ],
            [
             0.8,
             "#7fbc41"
            ],
            [
             0.9,
             "#4d9221"
            ],
            [
             1,
             "#276419"
            ]
           ],
           "sequential": [
            [
             0,
             "#0d0887"
            ],
            [
             0.1111111111111111,
             "#46039f"
            ],
            [
             0.2222222222222222,
             "#7201a8"
            ],
            [
             0.3333333333333333,
             "#9c179e"
            ],
            [
             0.4444444444444444,
             "#bd3786"
            ],
            [
             0.5555555555555556,
             "#d8576b"
            ],
            [
             0.6666666666666666,
             "#ed7953"
            ],
            [
             0.7777777777777778,
             "#fb9f3a"
            ],
            [
             0.8888888888888888,
             "#fdca26"
            ],
            [
             1,
             "#f0f921"
            ]
           ],
           "sequentialminus": [
            [
             0,
             "#0d0887"
            ],
            [
             0.1111111111111111,
             "#46039f"
            ],
            [
             0.2222222222222222,
             "#7201a8"
            ],
            [
             0.3333333333333333,
             "#9c179e"
            ],
            [
             0.4444444444444444,
             "#bd3786"
            ],
            [
             0.5555555555555556,
             "#d8576b"
            ],
            [
             0.6666666666666666,
             "#ed7953"
            ],
            [
             0.7777777777777778,
             "#fb9f3a"
            ],
            [
             0.8888888888888888,
             "#fdca26"
            ],
            [
             1,
             "#f0f921"
            ]
           ]
          },
          "colorway": [
           "#636efa",
           "#EF553B",
           "#00cc96",
           "#ab63fa",
           "#FFA15A",
           "#19d3f3",
           "#FF6692",
           "#B6E880",
           "#FF97FF",
           "#FECB52"
          ],
          "font": {
           "color": "#2a3f5f"
          },
          "geo": {
           "bgcolor": "white",
           "lakecolor": "white",
           "landcolor": "#E5ECF6",
           "showlakes": true,
           "showland": true,
           "subunitcolor": "white"
          },
          "hoverlabel": {
           "align": "left"
          },
          "hovermode": "closest",
          "mapbox": {
           "style": "light"
          },
          "paper_bgcolor": "white",
          "plot_bgcolor": "#E5ECF6",
          "polar": {
           "angularaxis": {
            "gridcolor": "white",
            "linecolor": "white",
            "ticks": ""
           },
           "bgcolor": "#E5ECF6",
           "radialaxis": {
            "gridcolor": "white",
            "linecolor": "white",
            "ticks": ""
           }
          },
          "scene": {
           "xaxis": {
            "backgroundcolor": "#E5ECF6",
            "gridcolor": "white",
            "gridwidth": 2,
            "linecolor": "white",
            "showbackground": true,
            "ticks": "",
            "zerolinecolor": "white"
           },
           "yaxis": {
            "backgroundcolor": "#E5ECF6",
            "gridcolor": "white",
            "gridwidth": 2,
            "linecolor": "white",
            "showbackground": true,
            "ticks": "",
            "zerolinecolor": "white"
           },
           "zaxis": {
            "backgroundcolor": "#E5ECF6",
            "gridcolor": "white",
            "gridwidth": 2,
            "linecolor": "white",
            "showbackground": true,
            "ticks": "",
            "zerolinecolor": "white"
           }
          },
          "shapedefaults": {
           "line": {
            "color": "#2a3f5f"
           }
          },
          "ternary": {
           "aaxis": {
            "gridcolor": "white",
            "linecolor": "white",
            "ticks": ""
           },
           "baxis": {
            "gridcolor": "white",
            "linecolor": "white",
            "ticks": ""
           },
           "bgcolor": "#E5ECF6",
           "caxis": {
            "gridcolor": "white",
            "linecolor": "white",
            "ticks": ""
           }
          },
          "title": {
           "x": 0.05
          },
          "xaxis": {
           "automargin": true,
           "gridcolor": "white",
           "linecolor": "white",
           "ticks": "",
           "title": {
            "standoff": 15
           },
           "zerolinecolor": "white",
           "zerolinewidth": 2
          },
          "yaxis": {
           "automargin": true,
           "gridcolor": "white",
           "linecolor": "white",
           "ticks": "",
           "title": {
            "standoff": 15
           },
           "zerolinecolor": "white",
           "zerolinewidth": 2
          }
         }
        },
        "title": {
         "text": "Contour Plot"
        },
        "xaxis": {
         "range": [
          4.25,
          20.75
         ],
         "title": {
          "text": "max_depth"
         }
        },
        "yaxis": {
         "range": [
          42.5,
          207.5
         ],
         "title": {
          "text": "n_estimators"
         }
        }
       }
      }
     },
     "metadata": {},
     "output_type": "display_data"
    }
   ],
   "source": [
    "# 4. Contour Plot\n",
    "plot_contour(study).show()"
   ]
  },
  {
   "cell_type": "code",
   "execution_count": 23,
   "id": "f90ecd34",
   "metadata": {},
   "outputs": [
    {
     "data": {
      "application/vnd.plotly.v1+json": {
       "config": {
        "plotlyServerURL": "https://plot.ly"
       },
       "data": [
        {
         "cliponaxis": false,
         "hovertemplate": [
          "n_estimators (IntDistribution): 0.4508910485494328<extra></extra>",
          "max_depth (IntDistribution): 0.5491089514505672<extra></extra>"
         ],
         "name": "Objective Value",
         "orientation": "h",
         "text": [
          "0.45",
          "0.55"
         ],
         "textposition": "outside",
         "type": "bar",
         "x": [
          0.4508910485494328,
          0.5491089514505672
         ],
         "y": [
          "n_estimators",
          "max_depth"
         ]
        }
       ],
       "layout": {
        "template": {
         "data": {
          "bar": [
           {
            "error_x": {
             "color": "#2a3f5f"
            },
            "error_y": {
             "color": "#2a3f5f"
            },
            "marker": {
             "line": {
              "color": "#E5ECF6",
              "width": 0.5
             },
             "pattern": {
              "fillmode": "overlay",
              "size": 10,
              "solidity": 0.2
             }
            },
            "type": "bar"
           }
          ],
          "barpolar": [
           {
            "marker": {
             "line": {
              "color": "#E5ECF6",
              "width": 0.5
             },
             "pattern": {
              "fillmode": "overlay",
              "size": 10,
              "solidity": 0.2
             }
            },
            "type": "barpolar"
           }
          ],
          "carpet": [
           {
            "aaxis": {
             "endlinecolor": "#2a3f5f",
             "gridcolor": "white",
             "linecolor": "white",
             "minorgridcolor": "white",
             "startlinecolor": "#2a3f5f"
            },
            "baxis": {
             "endlinecolor": "#2a3f5f",
             "gridcolor": "white",
             "linecolor": "white",
             "minorgridcolor": "white",
             "startlinecolor": "#2a3f5f"
            },
            "type": "carpet"
           }
          ],
          "choropleth": [
           {
            "colorbar": {
             "outlinewidth": 0,
             "ticks": ""
            },
            "type": "choropleth"
           }
          ],
          "contour": [
           {
            "colorbar": {
             "outlinewidth": 0,
             "ticks": ""
            },
            "colorscale": [
             [
              0,
              "#0d0887"
             ],
             [
              0.1111111111111111,
              "#46039f"
             ],
             [
              0.2222222222222222,
              "#7201a8"
             ],
             [
              0.3333333333333333,
              "#9c179e"
             ],
             [
              0.4444444444444444,
              "#bd3786"
             ],
             [
              0.5555555555555556,
              "#d8576b"
             ],
             [
              0.6666666666666666,
              "#ed7953"
             ],
             [
              0.7777777777777778,
              "#fb9f3a"
             ],
             [
              0.8888888888888888,
              "#fdca26"
             ],
             [
              1,
              "#f0f921"
             ]
            ],
            "type": "contour"
           }
          ],
          "contourcarpet": [
           {
            "colorbar": {
             "outlinewidth": 0,
             "ticks": ""
            },
            "type": "contourcarpet"
           }
          ],
          "heatmap": [
           {
            "colorbar": {
             "outlinewidth": 0,
             "ticks": ""
            },
            "colorscale": [
             [
              0,
              "#0d0887"
             ],
             [
              0.1111111111111111,
              "#46039f"
             ],
             [
              0.2222222222222222,
              "#7201a8"
             ],
             [
              0.3333333333333333,
              "#9c179e"
             ],
             [
              0.4444444444444444,
              "#bd3786"
             ],
             [
              0.5555555555555556,
              "#d8576b"
             ],
             [
              0.6666666666666666,
              "#ed7953"
             ],
             [
              0.7777777777777778,
              "#fb9f3a"
             ],
             [
              0.8888888888888888,
              "#fdca26"
             ],
             [
              1,
              "#f0f921"
             ]
            ],
            "type": "heatmap"
           }
          ],
          "histogram": [
           {
            "marker": {
             "pattern": {
              "fillmode": "overlay",
              "size": 10,
              "solidity": 0.2
             }
            },
            "type": "histogram"
           }
          ],
          "histogram2d": [
           {
            "colorbar": {
             "outlinewidth": 0,
             "ticks": ""
            },
            "colorscale": [
             [
              0,
              "#0d0887"
             ],
             [
              0.1111111111111111,
              "#46039f"
             ],
             [
              0.2222222222222222,
              "#7201a8"
             ],
             [
              0.3333333333333333,
              "#9c179e"
             ],
             [
              0.4444444444444444,
              "#bd3786"
             ],
             [
              0.5555555555555556,
              "#d8576b"
             ],
             [
              0.6666666666666666,
              "#ed7953"
             ],
             [
              0.7777777777777778,
              "#fb9f3a"
             ],
             [
              0.8888888888888888,
              "#fdca26"
             ],
             [
              1,
              "#f0f921"
             ]
            ],
            "type": "histogram2d"
           }
          ],
          "histogram2dcontour": [
           {
            "colorbar": {
             "outlinewidth": 0,
             "ticks": ""
            },
            "colorscale": [
             [
              0,
              "#0d0887"
             ],
             [
              0.1111111111111111,
              "#46039f"
             ],
             [
              0.2222222222222222,
              "#7201a8"
             ],
             [
              0.3333333333333333,
              "#9c179e"
             ],
             [
              0.4444444444444444,
              "#bd3786"
             ],
             [
              0.5555555555555556,
              "#d8576b"
             ],
             [
              0.6666666666666666,
              "#ed7953"
             ],
             [
              0.7777777777777778,
              "#fb9f3a"
             ],
             [
              0.8888888888888888,
              "#fdca26"
             ],
             [
              1,
              "#f0f921"
             ]
            ],
            "type": "histogram2dcontour"
           }
          ],
          "mesh3d": [
           {
            "colorbar": {
             "outlinewidth": 0,
             "ticks": ""
            },
            "type": "mesh3d"
           }
          ],
          "parcoords": [
           {
            "line": {
             "colorbar": {
              "outlinewidth": 0,
              "ticks": ""
             }
            },
            "type": "parcoords"
           }
          ],
          "pie": [
           {
            "automargin": true,
            "type": "pie"
           }
          ],
          "scatter": [
           {
            "fillpattern": {
             "fillmode": "overlay",
             "size": 10,
             "solidity": 0.2
            },
            "type": "scatter"
           }
          ],
          "scatter3d": [
           {
            "line": {
             "colorbar": {
              "outlinewidth": 0,
              "ticks": ""
             }
            },
            "marker": {
             "colorbar": {
              "outlinewidth": 0,
              "ticks": ""
             }
            },
            "type": "scatter3d"
           }
          ],
          "scattercarpet": [
           {
            "marker": {
             "colorbar": {
              "outlinewidth": 0,
              "ticks": ""
             }
            },
            "type": "scattercarpet"
           }
          ],
          "scattergeo": [
           {
            "marker": {
             "colorbar": {
              "outlinewidth": 0,
              "ticks": ""
             }
            },
            "type": "scattergeo"
           }
          ],
          "scattergl": [
           {
            "marker": {
             "colorbar": {
              "outlinewidth": 0,
              "ticks": ""
             }
            },
            "type": "scattergl"
           }
          ],
          "scattermap": [
           {
            "marker": {
             "colorbar": {
              "outlinewidth": 0,
              "ticks": ""
             }
            },
            "type": "scattermap"
           }
          ],
          "scattermapbox": [
           {
            "marker": {
             "colorbar": {
              "outlinewidth": 0,
              "ticks": ""
             }
            },
            "type": "scattermapbox"
           }
          ],
          "scatterpolar": [
           {
            "marker": {
             "colorbar": {
              "outlinewidth": 0,
              "ticks": ""
             }
            },
            "type": "scatterpolar"
           }
          ],
          "scatterpolargl": [
           {
            "marker": {
             "colorbar": {
              "outlinewidth": 0,
              "ticks": ""
             }
            },
            "type": "scatterpolargl"
           }
          ],
          "scatterternary": [
           {
            "marker": {
             "colorbar": {
              "outlinewidth": 0,
              "ticks": ""
             }
            },
            "type": "scatterternary"
           }
          ],
          "surface": [
           {
            "colorbar": {
             "outlinewidth": 0,
             "ticks": ""
            },
            "colorscale": [
             [
              0,
              "#0d0887"
             ],
             [
              0.1111111111111111,
              "#46039f"
             ],
             [
              0.2222222222222222,
              "#7201a8"
             ],
             [
              0.3333333333333333,
              "#9c179e"
             ],
             [
              0.4444444444444444,
              "#bd3786"
             ],
             [
              0.5555555555555556,
              "#d8576b"
             ],
             [
              0.6666666666666666,
              "#ed7953"
             ],
             [
              0.7777777777777778,
              "#fb9f3a"
             ],
             [
              0.8888888888888888,
              "#fdca26"
             ],
             [
              1,
              "#f0f921"
             ]
            ],
            "type": "surface"
           }
          ],
          "table": [
           {
            "cells": {
             "fill": {
              "color": "#EBF0F8"
             },
             "line": {
              "color": "white"
             }
            },
            "header": {
             "fill": {
              "color": "#C8D4E3"
             },
             "line": {
              "color": "white"
             }
            },
            "type": "table"
           }
          ]
         },
         "layout": {
          "annotationdefaults": {
           "arrowcolor": "#2a3f5f",
           "arrowhead": 0,
           "arrowwidth": 1
          },
          "autotypenumbers": "strict",
          "coloraxis": {
           "colorbar": {
            "outlinewidth": 0,
            "ticks": ""
           }
          },
          "colorscale": {
           "diverging": [
            [
             0,
             "#8e0152"
            ],
            [
             0.1,
             "#c51b7d"
            ],
            [
             0.2,
             "#de77ae"
            ],
            [
             0.3,
             "#f1b6da"
            ],
            [
             0.4,
             "#fde0ef"
            ],
            [
             0.5,
             "#f7f7f7"
            ],
            [
             0.6,
             "#e6f5d0"
            ],
            [
             0.7,
             "#b8e186"
            ],
            [
             0.8,
             "#7fbc41"
            ],
            [
             0.9,
             "#4d9221"
            ],
            [
             1,
             "#276419"
            ]
           ],
           "sequential": [
            [
             0,
             "#0d0887"
            ],
            [
             0.1111111111111111,
             "#46039f"
            ],
            [
             0.2222222222222222,
             "#7201a8"
            ],
            [
             0.3333333333333333,
             "#9c179e"
            ],
            [
             0.4444444444444444,
             "#bd3786"
            ],
            [
             0.5555555555555556,
             "#d8576b"
            ],
            [
             0.6666666666666666,
             "#ed7953"
            ],
            [
             0.7777777777777778,
             "#fb9f3a"
            ],
            [
             0.8888888888888888,
             "#fdca26"
            ],
            [
             1,
             "#f0f921"
            ]
           ],
           "sequentialminus": [
            [
             0,
             "#0d0887"
            ],
            [
             0.1111111111111111,
             "#46039f"
            ],
            [
             0.2222222222222222,
             "#7201a8"
            ],
            [
             0.3333333333333333,
             "#9c179e"
            ],
            [
             0.4444444444444444,
             "#bd3786"
            ],
            [
             0.5555555555555556,
             "#d8576b"
            ],
            [
             0.6666666666666666,
             "#ed7953"
            ],
            [
             0.7777777777777778,
             "#fb9f3a"
            ],
            [
             0.8888888888888888,
             "#fdca26"
            ],
            [
             1,
             "#f0f921"
            ]
           ]
          },
          "colorway": [
           "#636efa",
           "#EF553B",
           "#00cc96",
           "#ab63fa",
           "#FFA15A",
           "#19d3f3",
           "#FF6692",
           "#B6E880",
           "#FF97FF",
           "#FECB52"
          ],
          "font": {
           "color": "#2a3f5f"
          },
          "geo": {
           "bgcolor": "white",
           "lakecolor": "white",
           "landcolor": "#E5ECF6",
           "showlakes": true,
           "showland": true,
           "subunitcolor": "white"
          },
          "hoverlabel": {
           "align": "left"
          },
          "hovermode": "closest",
          "mapbox": {
           "style": "light"
          },
          "paper_bgcolor": "white",
          "plot_bgcolor": "#E5ECF6",
          "polar": {
           "angularaxis": {
            "gridcolor": "white",
            "linecolor": "white",
            "ticks": ""
           },
           "bgcolor": "#E5ECF6",
           "radialaxis": {
            "gridcolor": "white",
            "linecolor": "white",
            "ticks": ""
           }
          },
          "scene": {
           "xaxis": {
            "backgroundcolor": "#E5ECF6",
            "gridcolor": "white",
            "gridwidth": 2,
            "linecolor": "white",
            "showbackground": true,
            "ticks": "",
            "zerolinecolor": "white"
           },
           "yaxis": {
            "backgroundcolor": "#E5ECF6",
            "gridcolor": "white",
            "gridwidth": 2,
            "linecolor": "white",
            "showbackground": true,
            "ticks": "",
            "zerolinecolor": "white"
           },
           "zaxis": {
            "backgroundcolor": "#E5ECF6",
            "gridcolor": "white",
            "gridwidth": 2,
            "linecolor": "white",
            "showbackground": true,
            "ticks": "",
            "zerolinecolor": "white"
           }
          },
          "shapedefaults": {
           "line": {
            "color": "#2a3f5f"
           }
          },
          "ternary": {
           "aaxis": {
            "gridcolor": "white",
            "linecolor": "white",
            "ticks": ""
           },
           "baxis": {
            "gridcolor": "white",
            "linecolor": "white",
            "ticks": ""
           },
           "bgcolor": "#E5ECF6",
           "caxis": {
            "gridcolor": "white",
            "linecolor": "white",
            "ticks": ""
           }
          },
          "title": {
           "x": 0.05
          },
          "xaxis": {
           "automargin": true,
           "gridcolor": "white",
           "linecolor": "white",
           "ticks": "",
           "title": {
            "standoff": 15
           },
           "zerolinecolor": "white",
           "zerolinewidth": 2
          },
          "yaxis": {
           "automargin": true,
           "gridcolor": "white",
           "linecolor": "white",
           "ticks": "",
           "title": {
            "standoff": 15
           },
           "zerolinecolor": "white",
           "zerolinewidth": 2
          }
         }
        },
        "title": {
         "text": "Hyperparameter Importances"
        },
        "xaxis": {
         "title": {
          "text": "Hyperparameter Importance"
         }
        },
        "yaxis": {
         "title": {
          "text": "Hyperparameter"
         }
        }
       }
      }
     },
     "metadata": {},
     "output_type": "display_data"
    }
   ],
   "source": [
    "# 5. Hyperparameter Importance\n",
    "plot_param_importances(study).show()"
   ]
  },
  {
   "cell_type": "markdown",
   "id": "391c5980",
   "metadata": {},
   "source": [
    "## Optimizing Multiple ML Models"
   ]
  },
  {
   "cell_type": "code",
   "execution_count": 24,
   "id": "44d867b3",
   "metadata": {},
   "outputs": [],
   "source": [
    "# Importing the required libraries\n",
    "from sklearn.ensemble import RandomForestClassifier, GradientBoostingClassifier\n",
    "from sklearn.svm import SVC"
   ]
  },
  {
   "cell_type": "code",
   "execution_count": 25,
   "id": "9809e204",
   "metadata": {},
   "outputs": [],
   "source": [
    "# Define the objective function for Optuna\n",
    "def objective(trial):\n",
    "    # Choose the algorithm to tune\n",
    "    classifier_name = trial.suggest_categorical('classifier', ['SVM', 'RandomForest', 'GradientBoosting'])\n",
    "\n",
    "    if classifier_name == 'SVM':\n",
    "        # SVM hyperparameters\n",
    "        c = trial.suggest_float('C', 0.1, 100, log=True)\n",
    "        kernel = trial.suggest_categorical('kernel', ['linear', 'rbf', 'poly', 'sigmoid'])\n",
    "        gamma = trial.suggest_categorical('gamma', ['scale', 'auto'])\n",
    "\n",
    "        model = SVC(C=c, kernel=kernel, gamma=gamma, random_state=42)\n",
    "\n",
    "    elif classifier_name == 'RandomForest':\n",
    "        # Random Forest hyperparameters\n",
    "        n_estimators = trial.suggest_int('n_estimators', 50, 300)\n",
    "        max_depth = trial.suggest_int('max_depth', 3, 20)\n",
    "        min_samples_split = trial.suggest_int('min_samples_split', 2, 10)\n",
    "        min_samples_leaf = trial.suggest_int('min_samples_leaf', 1, 10)\n",
    "        bootstrap = trial.suggest_categorical('bootstrap', [True, False])\n",
    "\n",
    "        model = RandomForestClassifier(\n",
    "            n_estimators=n_estimators,\n",
    "            max_depth=max_depth,\n",
    "            min_samples_split=min_samples_split,\n",
    "            min_samples_leaf=min_samples_leaf,\n",
    "            bootstrap=bootstrap,\n",
    "            random_state=42\n",
    "        )\n",
    "\n",
    "    elif classifier_name == 'GradientBoosting':\n",
    "        # Gradient Boosting hyperparameters\n",
    "        n_estimators = trial.suggest_int('n_estimators', 50, 300)\n",
    "        learning_rate = trial.suggest_float('learning_rate', 0.01, 0.3, log=True)\n",
    "        max_depth = trial.suggest_int('max_depth', 3, 20)\n",
    "        min_samples_split = trial.suggest_int('min_samples_split', 2, 10)\n",
    "        min_samples_leaf = trial.suggest_int('min_samples_leaf', 1, 10)\n",
    "\n",
    "        model = GradientBoostingClassifier(\n",
    "            n_estimators=n_estimators,\n",
    "            learning_rate=learning_rate,\n",
    "            max_depth=max_depth,\n",
    "            min_samples_split=min_samples_split,\n",
    "            min_samples_leaf=min_samples_leaf,\n",
    "            random_state=42\n",
    "        )\n",
    "\n",
    "    # Perform cross-validation and return the mean accuracy\n",
    "    score = cross_val_score(model, X_train, y_train, cv=3, scoring='accuracy').mean()\n",
    "    return score"
   ]
  },
  {
   "cell_type": "code",
   "execution_count": 26,
   "id": "701e4552",
   "metadata": {},
   "outputs": [
    {
     "name": "stderr",
     "output_type": "stream",
     "text": [
      "[I 2025-09-19 17:50:15,260] A new study created in memory with name: no-name-d9f5e0c0-c718-4f30-ac50-79a405d2df65\n",
      "[I 2025-09-19 17:50:15,333] Trial 0 finished with value: 0.7094972067039106 and parameters: {'classifier': 'SVM', 'C': 10.742680208433027, 'kernel': 'poly', 'gamma': 'scale'}. Best is trial 0 with value: 0.7094972067039106.\n",
      "[I 2025-09-19 17:50:19,738] Trial 1 finished with value: 0.7467411545623835 and parameters: {'classifier': 'GradientBoosting', 'n_estimators': 200, 'learning_rate': 0.05855703509770304, 'max_depth': 15, 'min_samples_split': 9, 'min_samples_leaf': 2}. Best is trial 1 with value: 0.7467411545623835.\n",
      "[I 2025-09-19 17:50:21,524] Trial 2 finished with value: 0.7579143389199254 and parameters: {'classifier': 'RandomForest', 'n_estimators': 293, 'max_depth': 11, 'min_samples_split': 9, 'min_samples_leaf': 7, 'bootstrap': True}. Best is trial 2 with value: 0.7579143389199254.\n",
      "[I 2025-09-19 17:50:22,458] Trial 3 finished with value: 0.7504655493482307 and parameters: {'classifier': 'GradientBoosting', 'n_estimators': 78, 'learning_rate': 0.29240950154439593, 'max_depth': 8, 'min_samples_split': 5, 'min_samples_leaf': 7}. Best is trial 2 with value: 0.7579143389199254.\n",
      "[I 2025-09-19 17:50:26,029] Trial 4 finished with value: 0.756052141527002 and parameters: {'classifier': 'GradientBoosting', 'n_estimators': 286, 'learning_rate': 0.04150206394414198, 'max_depth': 9, 'min_samples_split': 10, 'min_samples_leaf': 7}. Best is trial 2 with value: 0.7579143389199254.\n",
      "[I 2025-09-19 17:50:29,626] Trial 5 finished with value: 0.7411545623836128 and parameters: {'classifier': 'GradientBoosting', 'n_estimators': 160, 'learning_rate': 0.046116294765193196, 'max_depth': 9, 'min_samples_split': 5, 'min_samples_leaf': 1}. Best is trial 2 with value: 0.7579143389199254.\n",
      "[I 2025-09-19 17:50:30,814] Trial 6 finished with value: 0.7579143389199254 and parameters: {'classifier': 'RandomForest', 'n_estimators': 185, 'max_depth': 8, 'min_samples_split': 3, 'min_samples_leaf': 6, 'bootstrap': True}. Best is trial 2 with value: 0.7579143389199254.\n",
      "[I 2025-09-19 17:50:33,549] Trial 7 finished with value: 0.7392923649906891 and parameters: {'classifier': 'GradientBoosting', 'n_estimators': 233, 'learning_rate': 0.08929064255036376, 'max_depth': 10, 'min_samples_split': 4, 'min_samples_leaf': 10}. Best is trial 2 with value: 0.7579143389199254.\n",
      "[I 2025-09-19 17:50:34,346] Trial 8 finished with value: 0.7411545623836128 and parameters: {'classifier': 'GradientBoosting', 'n_estimators': 59, 'learning_rate': 0.03730705099370321, 'max_depth': 7, 'min_samples_split': 5, 'min_samples_leaf': 5}. Best is trial 2 with value: 0.7579143389199254.\n",
      "[I 2025-09-19 17:50:35,684] Trial 9 finished with value: 0.7653631284916201 and parameters: {'classifier': 'RandomForest', 'n_estimators': 211, 'max_depth': 8, 'min_samples_split': 8, 'min_samples_leaf': 2, 'bootstrap': True}. Best is trial 9 with value: 0.7653631284916201.\n",
      "[I 2025-09-19 17:50:36,309] Trial 10 finished with value: 0.7486033519553073 and parameters: {'classifier': 'RandomForest', 'n_estimators': 129, 'max_depth': 3, 'min_samples_split': 7, 'min_samples_leaf': 3, 'bootstrap': False}. Best is trial 9 with value: 0.7653631284916201.\n",
      "[I 2025-09-19 17:50:38,135] Trial 11 finished with value: 0.7541899441340781 and parameters: {'classifier': 'RandomForest', 'n_estimators': 297, 'max_depth': 14, 'min_samples_split': 8, 'min_samples_leaf': 9, 'bootstrap': True}. Best is trial 9 with value: 0.7653631284916201.\n",
      "[I 2025-09-19 17:50:39,726] Trial 12 finished with value: 0.7616387337057727 and parameters: {'classifier': 'RandomForest', 'n_estimators': 246, 'max_depth': 18, 'min_samples_split': 8, 'min_samples_leaf': 4, 'bootstrap': True}. Best is trial 9 with value: 0.7653631284916201.\n",
      "[I 2025-09-19 17:50:41,298] Trial 13 finished with value: 0.7635009310986964 and parameters: {'classifier': 'RandomForest', 'n_estimators': 239, 'max_depth': 19, 'min_samples_split': 7, 'min_samples_leaf': 4, 'bootstrap': True}. Best is trial 9 with value: 0.7653631284916201.\n",
      "[I 2025-09-19 17:50:41,347] Trial 14 finished with value: 0.7281191806331471 and parameters: {'classifier': 'SVM', 'C': 0.11006345578652284, 'kernel': 'rbf', 'gamma': 'auto'}. Best is trial 9 with value: 0.7653631284916201.\n",
      "[I 2025-09-19 17:50:42,843] Trial 15 finished with value: 0.7690875232774674 and parameters: {'classifier': 'RandomForest', 'n_estimators': 234, 'max_depth': 18, 'min_samples_split': 7, 'min_samples_leaf': 3, 'bootstrap': True}. Best is trial 15 with value: 0.7690875232774674.\n",
      "[I 2025-09-19 17:50:43,881] Trial 16 finished with value: 0.7783985102420856 and parameters: {'classifier': 'RandomForest', 'n_estimators': 212, 'max_depth': 4, 'min_samples_split': 7, 'min_samples_leaf': 1, 'bootstrap': False}. Best is trial 16 with value: 0.7783985102420856.\n",
      "[I 2025-09-19 17:50:43,920] Trial 17 finished with value: 0.6890130353817505 and parameters: {'classifier': 'SVM', 'C': 99.82714096847796, 'kernel': 'sigmoid', 'gamma': 'auto'}. Best is trial 16 with value: 0.7783985102420856.\n",
      "[I 2025-09-19 17:50:44,526] Trial 18 finished with value: 0.7486033519553073 and parameters: {'classifier': 'RandomForest', 'n_estimators': 128, 'max_depth': 3, 'min_samples_split': 2, 'min_samples_leaf': 1, 'bootstrap': False}. Best is trial 16 with value: 0.7783985102420856.\n",
      "[I 2025-09-19 17:50:45,996] Trial 19 finished with value: 0.7597765363128491 and parameters: {'classifier': 'RandomForest', 'n_estimators': 257, 'max_depth': 15, 'min_samples_split': 6, 'min_samples_leaf': 3, 'bootstrap': False}. Best is trial 16 with value: 0.7783985102420856.\n",
      "[I 2025-09-19 17:50:46,770] Trial 20 finished with value: 0.7746741154562384 and parameters: {'classifier': 'RandomForest', 'n_estimators': 158, 'max_depth': 5, 'min_samples_split': 6, 'min_samples_leaf': 2, 'bootstrap': False}. Best is trial 16 with value: 0.7783985102420856.\n",
      "[I 2025-09-19 17:50:47,586] Trial 21 finished with value: 0.7802607076350093 and parameters: {'classifier': 'RandomForest', 'n_estimators': 163, 'max_depth': 5, 'min_samples_split': 6, 'min_samples_leaf': 2, 'bootstrap': False}. Best is trial 21 with value: 0.7802607076350093.\n",
      "[I 2025-09-19 17:50:48,333] Trial 22 finished with value: 0.7746741154562384 and parameters: {'classifier': 'RandomForest', 'n_estimators': 149, 'max_depth': 5, 'min_samples_split': 6, 'min_samples_leaf': 1, 'bootstrap': False}. Best is trial 21 with value: 0.7802607076350093.\n",
      "[I 2025-09-19 17:50:48,941] Trial 23 finished with value: 0.7746741154562384 and parameters: {'classifier': 'RandomForest', 'n_estimators': 116, 'max_depth': 5, 'min_samples_split': 6, 'min_samples_leaf': 2, 'bootstrap': False}. Best is trial 21 with value: 0.7802607076350093.\n",
      "[I 2025-09-19 17:50:49,820] Trial 24 finished with value: 0.7783985102420857 and parameters: {'classifier': 'RandomForest', 'n_estimators': 173, 'max_depth': 5, 'min_samples_split': 4, 'min_samples_leaf': 1, 'bootstrap': False}. Best is trial 21 with value: 0.7802607076350093.\n",
      "[I 2025-09-19 17:50:49,853] Trial 25 finished with value: 0.7877094972067038 and parameters: {'classifier': 'SVM', 'C': 0.1575268592647569, 'kernel': 'linear', 'gamma': 'scale'}. Best is trial 25 with value: 0.7877094972067038.\n",
      "[I 2025-09-19 17:50:49,886] Trial 26 finished with value: 0.7877094972067038 and parameters: {'classifier': 'SVM', 'C': 0.16540649814293407, 'kernel': 'linear', 'gamma': 'scale'}. Best is trial 25 with value: 0.7877094972067038.\n",
      "[I 2025-09-19 17:50:49,924] Trial 27 finished with value: 0.7877094972067038 and parameters: {'classifier': 'SVM', 'C': 0.1071850694807699, 'kernel': 'linear', 'gamma': 'scale'}. Best is trial 25 with value: 0.7877094972067038.\n",
      "[I 2025-09-19 17:50:49,958] Trial 28 finished with value: 0.7895716945996275 and parameters: {'classifier': 'SVM', 'C': 0.11174035581175237, 'kernel': 'linear', 'gamma': 'scale'}. Best is trial 28 with value: 0.7895716945996275.\n",
      "[I 2025-09-19 17:50:49,996] Trial 29 finished with value: 0.7839851024208566 and parameters: {'classifier': 'SVM', 'C': 0.3442869646567542, 'kernel': 'linear', 'gamma': 'scale'}. Best is trial 28 with value: 0.7895716945996275.\n",
      "[I 2025-09-19 17:50:50,031] Trial 30 finished with value: 0.7858472998137803 and parameters: {'classifier': 'SVM', 'C': 0.7011158433182411, 'kernel': 'linear', 'gamma': 'scale'}. Best is trial 28 with value: 0.7895716945996275.\n",
      "[I 2025-09-19 17:50:50,060] Trial 31 finished with value: 0.7877094972067038 and parameters: {'classifier': 'SVM', 'C': 0.10189117206756282, 'kernel': 'linear', 'gamma': 'scale'}. Best is trial 28 with value: 0.7895716945996275.\n",
      "[I 2025-09-19 17:50:50,107] Trial 32 finished with value: 0.7895716945996275 and parameters: {'classifier': 'SVM', 'C': 0.11099777410851343, 'kernel': 'linear', 'gamma': 'scale'}. Best is trial 28 with value: 0.7895716945996275.\n",
      "[I 2025-09-19 17:50:50,139] Trial 33 finished with value: 0.7839851024208566 and parameters: {'classifier': 'SVM', 'C': 0.44518782059491957, 'kernel': 'linear', 'gamma': 'scale'}. Best is trial 28 with value: 0.7895716945996275.\n",
      "[I 2025-09-19 17:50:50,171] Trial 34 finished with value: 0.7858472998137803 and parameters: {'classifier': 'SVM', 'C': 0.30956664496291375, 'kernel': 'linear', 'gamma': 'scale'}. Best is trial 28 with value: 0.7895716945996275.\n",
      "[I 2025-09-19 17:50:50,206] Trial 35 finished with value: 0.7858472998137803 and parameters: {'classifier': 'SVM', 'C': 0.19841544917785212, 'kernel': 'linear', 'gamma': 'scale'}. Best is trial 28 with value: 0.7895716945996275.\n",
      "[I 2025-09-19 17:50:50,249] Trial 36 finished with value: 0.7839851024208566 and parameters: {'classifier': 'SVM', 'C': 1.3543733782923222, 'kernel': 'linear', 'gamma': 'scale'}. Best is trial 28 with value: 0.7895716945996275.\n",
      "[I 2025-09-19 17:50:50,287] Trial 37 finished with value: 0.7858472998137803 and parameters: {'classifier': 'SVM', 'C': 0.2004620779808841, 'kernel': 'linear', 'gamma': 'scale'}. Best is trial 28 with value: 0.7895716945996275.\n",
      "[I 2025-09-19 17:50:50,329] Trial 38 finished with value: 0.7374301675977654 and parameters: {'classifier': 'SVM', 'C': 4.53736084932485, 'kernel': 'poly', 'gamma': 'scale'}. Best is trial 28 with value: 0.7895716945996275.\n",
      "[I 2025-09-19 17:50:50,371] Trial 39 finished with value: 0.7783985102420856 and parameters: {'classifier': 'SVM', 'C': 0.19435594644544266, 'kernel': 'sigmoid', 'gamma': 'scale'}. Best is trial 28 with value: 0.7895716945996275.\n",
      "[I 2025-09-19 17:50:50,422] Trial 40 finished with value: 0.7709497206703911 and parameters: {'classifier': 'SVM', 'C': 1.109697787530378, 'kernel': 'rbf', 'gamma': 'auto'}. Best is trial 28 with value: 0.7895716945996275.\n",
      "[I 2025-09-19 17:50:50,457] Trial 41 finished with value: 0.7895716945996275 and parameters: {'classifier': 'SVM', 'C': 0.11331357515883152, 'kernel': 'linear', 'gamma': 'scale'}. Best is trial 28 with value: 0.7895716945996275.\n",
      "[I 2025-09-19 17:50:50,490] Trial 42 finished with value: 0.7877094972067038 and parameters: {'classifier': 'SVM', 'C': 0.10879523929433389, 'kernel': 'linear', 'gamma': 'scale'}. Best is trial 28 with value: 0.7895716945996275.\n",
      "[I 2025-09-19 17:50:50,521] Trial 43 finished with value: 0.7877094972067038 and parameters: {'classifier': 'SVM', 'C': 0.18587140975910008, 'kernel': 'linear', 'gamma': 'scale'}. Best is trial 28 with value: 0.7895716945996275.\n",
      "[I 2025-09-19 17:50:51,625] Trial 44 finished with value: 0.7523277467411545 and parameters: {'classifier': 'GradientBoosting', 'n_estimators': 95, 'learning_rate': 0.010762241882659508, 'max_depth': 12, 'min_samples_split': 2, 'min_samples_leaf': 9}. Best is trial 28 with value: 0.7895716945996275.\n",
      "[I 2025-09-19 17:50:51,715] Trial 45 finished with value: 0.7858472998137803 and parameters: {'classifier': 'SVM', 'C': 0.2991993165489086, 'kernel': 'linear', 'gamma': 'scale'}. Best is trial 28 with value: 0.7895716945996275.\n",
      "[I 2025-09-19 17:50:51,749] Trial 46 finished with value: 0.7877094972067038 and parameters: {'classifier': 'SVM', 'C': 0.10026903530515939, 'kernel': 'linear', 'gamma': 'scale'}. Best is trial 28 with value: 0.7895716945996275.\n",
      "[I 2025-09-19 17:50:52,522] Trial 47 finished with value: 0.7392923649906891 and parameters: {'classifier': 'GradientBoosting', 'n_estimators': 72, 'learning_rate': 0.010081890739366607, 'max_depth': 13, 'min_samples_split': 10, 'min_samples_leaf': 10}. Best is trial 28 with value: 0.7895716945996275.\n",
      "[I 2025-09-19 17:50:52,557] Trial 48 finished with value: 0.7839851024208566 and parameters: {'classifier': 'SVM', 'C': 0.5688514132798868, 'kernel': 'linear', 'gamma': 'scale'}. Best is trial 28 with value: 0.7895716945996275.\n",
      "[I 2025-09-19 17:50:52,596] Trial 49 finished with value: 0.7858472998137803 and parameters: {'classifier': 'SVM', 'C': 0.21984593304082595, 'kernel': 'linear', 'gamma': 'scale'}. Best is trial 28 with value: 0.7895716945996275.\n",
      "[I 2025-09-19 17:50:52,633] Trial 50 finished with value: 0.7877094972067038 and parameters: {'classifier': 'SVM', 'C': 0.17419162628857635, 'kernel': 'linear', 'gamma': 'scale'}. Best is trial 28 with value: 0.7895716945996275.\n",
      "[I 2025-09-19 17:50:52,671] Trial 51 finished with value: 0.7877094972067038 and parameters: {'classifier': 'SVM', 'C': 0.10007225671048718, 'kernel': 'linear', 'gamma': 'scale'}. Best is trial 28 with value: 0.7895716945996275.\n",
      "[I 2025-09-19 17:50:52,708] Trial 52 finished with value: 0.7877094972067038 and parameters: {'classifier': 'SVM', 'C': 0.1576502059869281, 'kernel': 'linear', 'gamma': 'scale'}. Best is trial 28 with value: 0.7895716945996275.\n",
      "[I 2025-09-19 17:50:52,741] Trial 53 finished with value: 0.7895716945996275 and parameters: {'classifier': 'SVM', 'C': 0.15368889550218853, 'kernel': 'linear', 'gamma': 'scale'}. Best is trial 28 with value: 0.7895716945996275.\n",
      "[I 2025-09-19 17:50:52,777] Trial 54 finished with value: 0.7262569832402234 and parameters: {'classifier': 'SVM', 'C': 0.29838489286652264, 'kernel': 'poly', 'gamma': 'scale'}. Best is trial 28 with value: 0.7895716945996275.\n",
      "[I 2025-09-19 17:50:55,751] Trial 55 finished with value: 0.7281191806331471 and parameters: {'classifier': 'GradientBoosting', 'n_estimators': 271, 'learning_rate': 0.236182019559949, 'max_depth': 20, 'min_samples_split': 3, 'min_samples_leaf': 8}. Best is trial 28 with value: 0.7895716945996275.\n",
      "[I 2025-09-19 17:50:55,795] Trial 56 finished with value: 0.750465549348231 and parameters: {'classifier': 'SVM', 'C': 0.15069195646703026, 'kernel': 'rbf', 'gamma': 'auto'}. Best is trial 28 with value: 0.7895716945996275.\n",
      "[I 2025-09-19 17:50:55,833] Trial 57 finished with value: 0.7001862197392924 and parameters: {'classifier': 'SVM', 'C': 3.6227335030525576, 'kernel': 'sigmoid', 'gamma': 'scale'}. Best is trial 28 with value: 0.7895716945996275.\n",
      "[I 2025-09-19 17:50:55,955] Trial 58 finished with value: 0.7858472998137801 and parameters: {'classifier': 'SVM', 'C': 21.868244673759232, 'kernel': 'linear', 'gamma': 'scale'}. Best is trial 28 with value: 0.7895716945996275.\n",
      "[I 2025-09-19 17:50:55,993] Trial 59 finished with value: 0.7243947858472998 and parameters: {'classifier': 'SVM', 'C': 0.27183967523720787, 'kernel': 'poly', 'gamma': 'scale'}. Best is trial 28 with value: 0.7895716945996275.\n",
      "[I 2025-09-19 17:50:56,025] Trial 60 finished with value: 0.7895716945996275 and parameters: {'classifier': 'SVM', 'C': 0.14248433634330782, 'kernel': 'linear', 'gamma': 'auto'}. Best is trial 28 with value: 0.7895716945996275.\n",
      "[I 2025-09-19 17:50:56,060] Trial 61 finished with value: 0.7895716945996275 and parameters: {'classifier': 'SVM', 'C': 0.14252582788357007, 'kernel': 'linear', 'gamma': 'auto'}. Best is trial 28 with value: 0.7895716945996275.\n",
      "[I 2025-09-19 17:50:56,097] Trial 62 finished with value: 0.7895716945996275 and parameters: {'classifier': 'SVM', 'C': 0.14855278177778058, 'kernel': 'linear', 'gamma': 'auto'}. Best is trial 28 with value: 0.7895716945996275.\n",
      "[I 2025-09-19 17:50:56,130] Trial 63 finished with value: 0.7895716945996275 and parameters: {'classifier': 'SVM', 'C': 0.14051139374656316, 'kernel': 'linear', 'gamma': 'auto'}. Best is trial 28 with value: 0.7895716945996275.\n",
      "[I 2025-09-19 17:50:56,181] Trial 64 finished with value: 0.7486033519553073 and parameters: {'classifier': 'SVM', 'C': 0.1428057598854896, 'kernel': 'rbf', 'gamma': 'auto'}. Best is trial 28 with value: 0.7895716945996275.\n",
      "[I 2025-09-19 17:50:56,324] Trial 65 finished with value: 0.7858472998137801 and parameters: {'classifier': 'SVM', 'C': 25.845617078797435, 'kernel': 'linear', 'gamma': 'auto'}. Best is trial 28 with value: 0.7895716945996275.\n",
      "[I 2025-09-19 17:50:58,016] Trial 66 finished with value: 0.7486033519553073 and parameters: {'classifier': 'GradientBoosting', 'n_estimators': 101, 'learning_rate': 0.02312000398672672, 'max_depth': 17, 'min_samples_split': 3, 'min_samples_leaf': 5}. Best is trial 28 with value: 0.7895716945996275.\n",
      "[I 2025-09-19 17:50:58,056] Trial 67 finished with value: 0.7839851024208566 and parameters: {'classifier': 'SVM', 'C': 0.41835237477235276, 'kernel': 'linear', 'gamma': 'auto'}. Best is trial 28 with value: 0.7895716945996275.\n",
      "[I 2025-09-19 17:50:58,100] Trial 68 finished with value: 0.7728119180633147 and parameters: {'classifier': 'SVM', 'C': 0.13498622899617602, 'kernel': 'sigmoid', 'gamma': 'auto'}. Best is trial 28 with value: 0.7895716945996275.\n",
      "[I 2025-09-19 17:50:58,136] Trial 69 finished with value: 0.7858472998137803 and parameters: {'classifier': 'SVM', 'C': 0.24533414258002906, 'kernel': 'linear', 'gamma': 'auto'}. Best is trial 28 with value: 0.7895716945996275.\n",
      "[I 2025-09-19 17:50:58,175] Trial 70 finished with value: 0.7895716945996275 and parameters: {'classifier': 'SVM', 'C': 0.12932133444117408, 'kernel': 'linear', 'gamma': 'auto'}. Best is trial 28 with value: 0.7895716945996275.\n",
      "[I 2025-09-19 17:50:58,210] Trial 71 finished with value: 0.7895716945996275 and parameters: {'classifier': 'SVM', 'C': 0.14515759623613933, 'kernel': 'linear', 'gamma': 'auto'}. Best is trial 28 with value: 0.7895716945996275.\n",
      "[I 2025-09-19 17:50:58,243] Trial 72 finished with value: 0.7895716945996275 and parameters: {'classifier': 'SVM', 'C': 0.13345719416250273, 'kernel': 'linear', 'gamma': 'auto'}. Best is trial 28 with value: 0.7895716945996275.\n",
      "[I 2025-09-19 17:50:58,278] Trial 73 finished with value: 0.7877094972067038 and parameters: {'classifier': 'SVM', 'C': 0.10034397061811533, 'kernel': 'linear', 'gamma': 'auto'}. Best is trial 28 with value: 0.7895716945996275.\n",
      "[I 2025-09-19 17:50:58,327] Trial 74 finished with value: 0.7858472998137803 and parameters: {'classifier': 'SVM', 'C': 0.24705547287326918, 'kernel': 'linear', 'gamma': 'auto'}. Best is trial 28 with value: 0.7895716945996275.\n",
      "[I 2025-09-19 17:50:58,361] Trial 75 finished with value: 0.7858472998137803 and parameters: {'classifier': 'SVM', 'C': 0.19597295123204608, 'kernel': 'linear', 'gamma': 'auto'}. Best is trial 28 with value: 0.7895716945996275.\n",
      "[I 2025-09-19 17:50:58,396] Trial 76 finished with value: 0.7821229050279329 and parameters: {'classifier': 'SVM', 'C': 0.377331110934774, 'kernel': 'linear', 'gamma': 'auto'}. Best is trial 28 with value: 0.7895716945996275.\n",
      "[I 2025-09-19 17:50:58,433] Trial 77 finished with value: 0.7895716945996275 and parameters: {'classifier': 'SVM', 'C': 0.13330604581955238, 'kernel': 'linear', 'gamma': 'auto'}. Best is trial 28 with value: 0.7895716945996275.\n",
      "[I 2025-09-19 17:50:58,466] Trial 78 finished with value: 0.7858472998137803 and parameters: {'classifier': 'SVM', 'C': 0.6049059730396752, 'kernel': 'linear', 'gamma': 'auto'}. Best is trial 28 with value: 0.7895716945996275.\n",
      "[I 2025-09-19 17:50:59,271] Trial 79 finished with value: 0.7448789571694601 and parameters: {'classifier': 'GradientBoosting', 'n_estimators': 50, 'learning_rate': 0.12006425122786053, 'max_depth': 16, 'min_samples_split': 9, 'min_samples_leaf': 6}. Best is trial 28 with value: 0.7895716945996275.\n",
      "[I 2025-09-19 17:50:59,308] Trial 80 finished with value: 0.7858472998137803 and parameters: {'classifier': 'SVM', 'C': 0.22156522106449544, 'kernel': 'linear', 'gamma': 'auto'}. Best is trial 28 with value: 0.7895716945996275.\n",
      "[I 2025-09-19 17:50:59,343] Trial 81 finished with value: 0.7895716945996275 and parameters: {'classifier': 'SVM', 'C': 0.14330833253841213, 'kernel': 'linear', 'gamma': 'auto'}. Best is trial 28 with value: 0.7895716945996275.\n",
      "[I 2025-09-19 17:50:59,379] Trial 82 finished with value: 0.7895716945996275 and parameters: {'classifier': 'SVM', 'C': 0.12188679799133505, 'kernel': 'linear', 'gamma': 'auto'}. Best is trial 28 with value: 0.7895716945996275.\n",
      "[I 2025-09-19 17:50:59,417] Trial 83 finished with value: 0.7877094972067038 and parameters: {'classifier': 'SVM', 'C': 0.17583830254875749, 'kernel': 'linear', 'gamma': 'auto'}. Best is trial 28 with value: 0.7895716945996275.\n",
      "[I 2025-09-19 17:50:59,846] Trial 84 finished with value: 0.7858472998137801 and parameters: {'classifier': 'SVM', 'C': 97.26531923134827, 'kernel': 'linear', 'gamma': 'auto'}. Best is trial 28 with value: 0.7895716945996275.\n",
      "[I 2025-09-19 17:50:59,886] Trial 85 finished with value: 0.7094972067039107 and parameters: {'classifier': 'SVM', 'C': 0.11620285040348312, 'kernel': 'poly', 'gamma': 'auto'}. Best is trial 28 with value: 0.7895716945996275.\n",
      "[I 2025-09-19 17:50:59,921] Trial 86 finished with value: 0.7858472998137803 and parameters: {'classifier': 'SVM', 'C': 0.1928198467001815, 'kernel': 'linear', 'gamma': 'scale'}. Best is trial 28 with value: 0.7895716945996275.\n",
      "[I 2025-09-19 17:50:59,962] Trial 87 finished with value: 0.7839851024208566 and parameters: {'classifier': 'SVM', 'C': 1.397608312590334, 'kernel': 'linear', 'gamma': 'auto'}. Best is trial 28 with value: 0.7895716945996275.\n",
      "[I 2025-09-19 17:51:00,018] Trial 88 finished with value: 0.7430167597765363 and parameters: {'classifier': 'SVM', 'C': 0.11904941509275942, 'kernel': 'rbf', 'gamma': 'scale'}. Best is trial 28 with value: 0.7895716945996275.\n",
      "[I 2025-09-19 17:51:01,232] Trial 89 finished with value: 0.7635009310986964 and parameters: {'classifier': 'RandomForest', 'n_estimators': 199, 'max_depth': 13, 'min_samples_split': 4, 'min_samples_leaf': 8, 'bootstrap': True}. Best is trial 28 with value: 0.7895716945996275.\n",
      "[I 2025-09-19 17:51:01,275] Trial 90 finished with value: 0.7709497206703911 and parameters: {'classifier': 'SVM', 'C': 0.16701725901630632, 'kernel': 'sigmoid', 'gamma': 'scale'}. Best is trial 28 with value: 0.7895716945996275.\n",
      "[I 2025-09-19 17:51:01,310] Trial 91 finished with value: 0.7895716945996275 and parameters: {'classifier': 'SVM', 'C': 0.15143417904150544, 'kernel': 'linear', 'gamma': 'auto'}. Best is trial 28 with value: 0.7895716945996275.\n",
      "[I 2025-09-19 17:51:01,351] Trial 92 finished with value: 0.7858472998137803 and parameters: {'classifier': 'SVM', 'C': 0.23649591959897248, 'kernel': 'linear', 'gamma': 'auto'}. Best is trial 28 with value: 0.7895716945996275.\n",
      "[I 2025-09-19 17:51:01,388] Trial 93 finished with value: 0.7895716945996275 and parameters: {'classifier': 'SVM', 'C': 0.11898256187468027, 'kernel': 'linear', 'gamma': 'auto'}. Best is trial 28 with value: 0.7895716945996275.\n",
      "[I 2025-09-19 17:51:01,423] Trial 94 finished with value: 0.7877094972067038 and parameters: {'classifier': 'SVM', 'C': 0.15705788159061365, 'kernel': 'linear', 'gamma': 'auto'}. Best is trial 28 with value: 0.7895716945996275.\n",
      "[I 2025-09-19 17:51:01,458] Trial 95 finished with value: 0.7877094972067038 and parameters: {'classifier': 'SVM', 'C': 0.10344554652775545, 'kernel': 'linear', 'gamma': 'scale'}. Best is trial 28 with value: 0.7895716945996275.\n",
      "[I 2025-09-19 17:51:01,498] Trial 96 finished with value: 0.7858472998137803 and parameters: {'classifier': 'SVM', 'C': 0.3317391921128905, 'kernel': 'linear', 'gamma': 'scale'}. Best is trial 28 with value: 0.7895716945996275.\n",
      "[I 2025-09-19 17:51:01,532] Trial 97 finished with value: 0.7858472998137803 and parameters: {'classifier': 'SVM', 'C': 0.1951673563471598, 'kernel': 'linear', 'gamma': 'auto'}. Best is trial 28 with value: 0.7895716945996275.\n",
      "[I 2025-09-19 17:51:04,964] Trial 98 finished with value: 0.750465549348231 and parameters: {'classifier': 'GradientBoosting', 'n_estimators': 272, 'learning_rate': 0.022300873270712996, 'max_depth': 11, 'min_samples_split': 9, 'min_samples_leaf': 8}. Best is trial 28 with value: 0.7895716945996275.\n",
      "[I 2025-09-19 17:51:05,002] Trial 99 finished with value: 0.7858472998137803 and parameters: {'classifier': 'SVM', 'C': 0.2764191529234851, 'kernel': 'linear', 'gamma': 'scale'}. Best is trial 28 with value: 0.7895716945996275.\n"
     ]
    }
   ],
   "source": [
    "# Create a study and optimize it using CmaEsSampler\n",
    "study = optuna.create_study(direction='maximize')\n",
    "study.optimize(objective, n_trials=100)"
   ]
  },
  {
   "cell_type": "code",
   "execution_count": 27,
   "id": "1cd36e56",
   "metadata": {},
   "outputs": [
    {
     "name": "stdout",
     "output_type": "stream",
     "text": [
      "Best trial parameters: {'classifier': 'SVM', 'C': 0.11174035581175237, 'kernel': 'linear', 'gamma': 'scale'}\n",
      "Best trial accuracy: 0.7895716945996275\n"
     ]
    }
   ],
   "source": [
    "# Retrieve the best trial\n",
    "best_trial = study.best_trial\n",
    "print(\"Best trial parameters:\", best_trial.params)\n",
    "print(\"Best trial accuracy:\", best_trial.value)"
   ]
  },
  {
   "cell_type": "code",
   "execution_count": 28,
   "id": "0336d52c",
   "metadata": {},
   "outputs": [
    {
     "data": {
      "application/vnd.microsoft.datawrangler.viewer.v0+json": {
       "columns": [
        {
         "name": "index",
         "rawType": "int64",
         "type": "integer"
        },
        {
         "name": "number",
         "rawType": "int64",
         "type": "integer"
        },
        {
         "name": "value",
         "rawType": "float64",
         "type": "float"
        },
        {
         "name": "datetime_start",
         "rawType": "datetime64[ns]",
         "type": "datetime"
        },
        {
         "name": "datetime_complete",
         "rawType": "datetime64[ns]",
         "type": "datetime"
        },
        {
         "name": "duration",
         "rawType": "timedelta64[ns]",
         "type": "unknown"
        },
        {
         "name": "params_C",
         "rawType": "float64",
         "type": "float"
        },
        {
         "name": "params_bootstrap",
         "rawType": "object",
         "type": "unknown"
        },
        {
         "name": "params_classifier",
         "rawType": "object",
         "type": "string"
        },
        {
         "name": "params_gamma",
         "rawType": "object",
         "type": "unknown"
        },
        {
         "name": "params_kernel",
         "rawType": "object",
         "type": "unknown"
        },
        {
         "name": "params_learning_rate",
         "rawType": "float64",
         "type": "float"
        },
        {
         "name": "params_max_depth",
         "rawType": "float64",
         "type": "float"
        },
        {
         "name": "params_min_samples_leaf",
         "rawType": "float64",
         "type": "float"
        },
        {
         "name": "params_min_samples_split",
         "rawType": "float64",
         "type": "float"
        },
        {
         "name": "params_n_estimators",
         "rawType": "float64",
         "type": "float"
        },
        {
         "name": "state",
         "rawType": "object",
         "type": "string"
        }
       ],
       "ref": "f4742d85-f157-4ccc-85c0-a21708c27c15",
       "rows": [
        [
         "0",
         "0",
         "0.7094972067039106",
         "2025-09-19 17:50:15.263207",
         "2025-09-19 17:50:15.332112",
         "0 days 00:00:00.068905",
         "10.742680208433027",
         null,
         "SVM",
         "scale",
         "poly",
         null,
         null,
         null,
         null,
         null,
         "COMPLETE"
        ],
        [
         "1",
         "1",
         "0.7467411545623835",
         "2025-09-19 17:50:15.333112",
         "2025-09-19 17:50:19.738065",
         "0 days 00:00:04.404953",
         null,
         null,
         "GradientBoosting",
         null,
         null,
         "0.05855703509770304",
         "15.0",
         "2.0",
         "9.0",
         "200.0",
         "COMPLETE"
        ],
        [
         "2",
         "2",
         "0.7579143389199254",
         "2025-09-19 17:50:19.739062",
         "2025-09-19 17:50:21.524029",
         "0 days 00:00:01.784967",
         null,
         "True",
         "RandomForest",
         null,
         null,
         null,
         "11.0",
         "7.0",
         "9.0",
         "293.0",
         "COMPLETE"
        ],
        [
         "3",
         "3",
         "0.7504655493482307",
         "2025-09-19 17:50:21.525035",
         "2025-09-19 17:50:22.458103",
         "0 days 00:00:00.933068",
         null,
         null,
         "GradientBoosting",
         null,
         null,
         "0.29240950154439593",
         "8.0",
         "7.0",
         "5.0",
         "78.0",
         "COMPLETE"
        ],
        [
         "4",
         "4",
         "0.756052141527002",
         "2025-09-19 17:50:22.459105",
         "2025-09-19 17:50:26.029649",
         "0 days 00:00:03.570544",
         null,
         null,
         "GradientBoosting",
         null,
         null,
         "0.04150206394414198",
         "9.0",
         "7.0",
         "10.0",
         "286.0",
         "COMPLETE"
        ],
        [
         "5",
         "5",
         "0.7411545623836128",
         "2025-09-19 17:50:26.030650",
         "2025-09-19 17:50:29.626357",
         "0 days 00:00:03.595707",
         null,
         null,
         "GradientBoosting",
         null,
         null,
         "0.046116294765193196",
         "9.0",
         "1.0",
         "5.0",
         "160.0",
         "COMPLETE"
        ],
        [
         "6",
         "6",
         "0.7579143389199254",
         "2025-09-19 17:50:29.627361",
         "2025-09-19 17:50:30.814046",
         "0 days 00:00:01.186685",
         null,
         "True",
         "RandomForest",
         null,
         null,
         null,
         "8.0",
         "6.0",
         "3.0",
         "185.0",
         "COMPLETE"
        ],
        [
         "7",
         "7",
         "0.7392923649906891",
         "2025-09-19 17:50:30.815506",
         "2025-09-19 17:50:33.548802",
         "0 days 00:00:02.733296",
         null,
         null,
         "GradientBoosting",
         null,
         null,
         "0.08929064255036376",
         "10.0",
         "10.0",
         "4.0",
         "233.0",
         "COMPLETE"
        ],
        [
         "8",
         "8",
         "0.7411545623836128",
         "2025-09-19 17:50:33.549821",
         "2025-09-19 17:50:34.346315",
         "0 days 00:00:00.796494",
         null,
         null,
         "GradientBoosting",
         null,
         null,
         "0.03730705099370321",
         "7.0",
         "5.0",
         "5.0",
         "59.0",
         "COMPLETE"
        ],
        [
         "9",
         "9",
         "0.7653631284916201",
         "2025-09-19 17:50:34.346864",
         "2025-09-19 17:50:35.684472",
         "0 days 00:00:01.337608",
         null,
         "True",
         "RandomForest",
         null,
         null,
         null,
         "8.0",
         "2.0",
         "8.0",
         "211.0",
         "COMPLETE"
        ],
        [
         "10",
         "10",
         "0.7486033519553073",
         "2025-09-19 17:50:35.685934",
         "2025-09-19 17:50:36.309121",
         "0 days 00:00:00.623187",
         null,
         "False",
         "RandomForest",
         null,
         null,
         null,
         "3.0",
         "3.0",
         "7.0",
         "129.0",
         "COMPLETE"
        ],
        [
         "11",
         "11",
         "0.7541899441340781",
         "2025-09-19 17:50:36.311571",
         "2025-09-19 17:50:38.135293",
         "0 days 00:00:01.823722",
         null,
         "True",
         "RandomForest",
         null,
         null,
         null,
         "14.0",
         "9.0",
         "8.0",
         "297.0",
         "COMPLETE"
        ],
        [
         "12",
         "12",
         "0.7616387337057727",
         "2025-09-19 17:50:38.136316",
         "2025-09-19 17:50:39.726013",
         "0 days 00:00:01.589697",
         null,
         "True",
         "RandomForest",
         null,
         null,
         null,
         "18.0",
         "4.0",
         "8.0",
         "246.0",
         "COMPLETE"
        ],
        [
         "13",
         "13",
         "0.7635009310986964",
         "2025-09-19 17:50:39.727019",
         "2025-09-19 17:50:41.298006",
         "0 days 00:00:01.570987",
         null,
         "True",
         "RandomForest",
         null,
         null,
         null,
         "19.0",
         "4.0",
         "7.0",
         "239.0",
         "COMPLETE"
        ],
        [
         "14",
         "14",
         "0.7281191806331471",
         "2025-09-19 17:50:41.300024",
         "2025-09-19 17:50:41.347072",
         "0 days 00:00:00.047048",
         "0.11006345578652284",
         null,
         "SVM",
         "auto",
         "rbf",
         null,
         null,
         null,
         null,
         null,
         "COMPLETE"
        ],
        [
         "15",
         "15",
         "0.7690875232774674",
         "2025-09-19 17:50:41.347072",
         "2025-09-19 17:50:42.843620",
         "0 days 00:00:01.496548",
         null,
         "True",
         "RandomForest",
         null,
         null,
         null,
         "18.0",
         "3.0",
         "7.0",
         "234.0",
         "COMPLETE"
        ],
        [
         "16",
         "16",
         "0.7783985102420856",
         "2025-09-19 17:50:42.844616",
         "2025-09-19 17:50:43.881014",
         "0 days 00:00:01.036398",
         null,
         "False",
         "RandomForest",
         null,
         null,
         null,
         "4.0",
         "1.0",
         "7.0",
         "212.0",
         "COMPLETE"
        ],
        [
         "17",
         "17",
         "0.6890130353817505",
         "2025-09-19 17:50:43.882022",
         "2025-09-19 17:50:43.920360",
         "0 days 00:00:00.038338",
         "99.82714096847796",
         null,
         "SVM",
         "auto",
         "sigmoid",
         null,
         null,
         null,
         null,
         null,
         "COMPLETE"
        ],
        [
         "18",
         "18",
         "0.7486033519553073",
         "2025-09-19 17:50:43.920360",
         "2025-09-19 17:50:44.526223",
         "0 days 00:00:00.605863",
         null,
         "False",
         "RandomForest",
         null,
         null,
         null,
         "3.0",
         "1.0",
         "2.0",
         "128.0",
         "COMPLETE"
        ],
        [
         "19",
         "19",
         "0.7597765363128491",
         "2025-09-19 17:50:44.527278",
         "2025-09-19 17:50:45.996980",
         "0 days 00:00:01.469702",
         null,
         "False",
         "RandomForest",
         null,
         null,
         null,
         "15.0",
         "3.0",
         "6.0",
         "257.0",
         "COMPLETE"
        ],
        [
         "20",
         "20",
         "0.7746741154562384",
         "2025-09-19 17:50:45.998166",
         "2025-09-19 17:50:46.770037",
         "0 days 00:00:00.771871",
         null,
         "False",
         "RandomForest",
         null,
         null,
         null,
         "5.0",
         "2.0",
         "6.0",
         "158.0",
         "COMPLETE"
        ],
        [
         "21",
         "21",
         "0.7802607076350093",
         "2025-09-19 17:50:46.771032",
         "2025-09-19 17:50:47.586120",
         "0 days 00:00:00.815088",
         null,
         "False",
         "RandomForest",
         null,
         null,
         null,
         "5.0",
         "2.0",
         "6.0",
         "163.0",
         "COMPLETE"
        ],
        [
         "22",
         "22",
         "0.7746741154562384",
         "2025-09-19 17:50:47.587120",
         "2025-09-19 17:50:48.332408",
         "0 days 00:00:00.745288",
         null,
         "False",
         "RandomForest",
         null,
         null,
         null,
         "5.0",
         "1.0",
         "6.0",
         "149.0",
         "COMPLETE"
        ],
        [
         "23",
         "23",
         "0.7746741154562384",
         "2025-09-19 17:50:48.333404",
         "2025-09-19 17:50:48.941137",
         "0 days 00:00:00.607733",
         null,
         "False",
         "RandomForest",
         null,
         null,
         null,
         "5.0",
         "2.0",
         "6.0",
         "116.0",
         "COMPLETE"
        ],
        [
         "24",
         "24",
         "0.7783985102420857",
         "2025-09-19 17:50:48.941137",
         "2025-09-19 17:50:49.820321",
         "0 days 00:00:00.879184",
         null,
         "False",
         "RandomForest",
         null,
         null,
         null,
         "5.0",
         "1.0",
         "4.0",
         "173.0",
         "COMPLETE"
        ],
        [
         "25",
         "25",
         "0.7877094972067038",
         "2025-09-19 17:50:49.821327",
         "2025-09-19 17:50:49.853218",
         "0 days 00:00:00.031891",
         "0.1575268592647569",
         null,
         "SVM",
         "scale",
         "linear",
         null,
         null,
         null,
         null,
         null,
         "COMPLETE"
        ],
        [
         "26",
         "26",
         "0.7877094972067038",
         "2025-09-19 17:50:49.854234",
         "2025-09-19 17:50:49.886957",
         "0 days 00:00:00.032723",
         "0.16540649814293407",
         null,
         "SVM",
         "scale",
         "linear",
         null,
         null,
         null,
         null,
         null,
         "COMPLETE"
        ],
        [
         "27",
         "27",
         "0.7877094972067038",
         "2025-09-19 17:50:49.887990",
         "2025-09-19 17:50:49.924007",
         "0 days 00:00:00.036017",
         "0.1071850694807699",
         null,
         "SVM",
         "scale",
         "linear",
         null,
         null,
         null,
         null,
         null,
         "COMPLETE"
        ],
        [
         "28",
         "28",
         "0.7895716945996275",
         "2025-09-19 17:50:49.925008",
         "2025-09-19 17:50:49.958376",
         "0 days 00:00:00.033368",
         "0.11174035581175237",
         null,
         "SVM",
         "scale",
         "linear",
         null,
         null,
         null,
         null,
         null,
         "COMPLETE"
        ],
        [
         "29",
         "29",
         "0.7839851024208566",
         "2025-09-19 17:50:49.959377",
         "2025-09-19 17:50:49.996931",
         "0 days 00:00:00.037554",
         "0.3442869646567542",
         null,
         "SVM",
         "scale",
         "linear",
         null,
         null,
         null,
         null,
         null,
         "COMPLETE"
        ],
        [
         "30",
         "30",
         "0.7858472998137803",
         "2025-09-19 17:50:49.998701",
         "2025-09-19 17:50:50.030530",
         "0 days 00:00:00.031829",
         "0.7011158433182411",
         null,
         "SVM",
         "scale",
         "linear",
         null,
         null,
         null,
         null,
         null,
         "COMPLETE"
        ],
        [
         "31",
         "31",
         "0.7877094972067038",
         "2025-09-19 17:50:50.032583",
         "2025-09-19 17:50:50.059774",
         "0 days 00:00:00.027191",
         "0.10189117206756282",
         null,
         "SVM",
         "scale",
         "linear",
         null,
         null,
         null,
         null,
         null,
         "COMPLETE"
        ],
        [
         "32",
         "32",
         "0.7895716945996275",
         "2025-09-19 17:50:50.060979",
         "2025-09-19 17:50:50.107448",
         "0 days 00:00:00.046469",
         "0.11099777410851343",
         null,
         "SVM",
         "scale",
         "linear",
         null,
         null,
         null,
         null,
         null,
         "COMPLETE"
        ],
        [
         "33",
         "33",
         "0.7839851024208566",
         "2025-09-19 17:50:50.108495",
         "2025-09-19 17:50:50.139051",
         "0 days 00:00:00.030556",
         "0.44518782059491957",
         null,
         "SVM",
         "scale",
         "linear",
         null,
         null,
         null,
         null,
         null,
         "COMPLETE"
        ],
        [
         "34",
         "34",
         "0.7858472998137803",
         "2025-09-19 17:50:50.140071",
         "2025-09-19 17:50:50.171499",
         "0 days 00:00:00.031428",
         "0.30956664496291375",
         null,
         "SVM",
         "scale",
         "linear",
         null,
         null,
         null,
         null,
         null,
         "COMPLETE"
        ],
        [
         "35",
         "35",
         "0.7858472998137803",
         "2025-09-19 17:50:50.172873",
         "2025-09-19 17:50:50.206079",
         "0 days 00:00:00.033206",
         "0.19841544917785212",
         null,
         "SVM",
         "scale",
         "linear",
         null,
         null,
         null,
         null,
         null,
         "COMPLETE"
        ],
        [
         "36",
         "36",
         "0.7839851024208566",
         "2025-09-19 17:50:50.207146",
         "2025-09-19 17:50:50.249131",
         "0 days 00:00:00.041985",
         "1.3543733782923222",
         null,
         "SVM",
         "scale",
         "linear",
         null,
         null,
         null,
         null,
         null,
         "COMPLETE"
        ],
        [
         "37",
         "37",
         "0.7858472998137803",
         "2025-09-19 17:50:50.249131",
         "2025-09-19 17:50:50.287986",
         "0 days 00:00:00.038855",
         "0.2004620779808841",
         null,
         "SVM",
         "scale",
         "linear",
         null,
         null,
         null,
         null,
         null,
         "COMPLETE"
        ],
        [
         "38",
         "38",
         "0.7374301675977654",
         "2025-09-19 17:50:50.288985",
         "2025-09-19 17:50:50.329825",
         "0 days 00:00:00.040840",
         "4.53736084932485",
         null,
         "SVM",
         "scale",
         "poly",
         null,
         null,
         null,
         null,
         null,
         "COMPLETE"
        ],
        [
         "39",
         "39",
         "0.7783985102420856",
         "2025-09-19 17:50:50.330845",
         "2025-09-19 17:50:50.371909",
         "0 days 00:00:00.041064",
         "0.19435594644544266",
         null,
         "SVM",
         "scale",
         "sigmoid",
         null,
         null,
         null,
         null,
         null,
         "COMPLETE"
        ],
        [
         "40",
         "40",
         "0.7709497206703911",
         "2025-09-19 17:50:50.372914",
         "2025-09-19 17:50:50.422862",
         "0 days 00:00:00.049948",
         "1.109697787530378",
         null,
         "SVM",
         "auto",
         "rbf",
         null,
         null,
         null,
         null,
         null,
         "COMPLETE"
        ],
        [
         "41",
         "41",
         "0.7895716945996275",
         "2025-09-19 17:50:50.424106",
         "2025-09-19 17:50:50.457278",
         "0 days 00:00:00.033172",
         "0.11331357515883152",
         null,
         "SVM",
         "scale",
         "linear",
         null,
         null,
         null,
         null,
         null,
         "COMPLETE"
        ],
        [
         "42",
         "42",
         "0.7877094972067038",
         "2025-09-19 17:50:50.457278",
         "2025-09-19 17:50:50.490764",
         "0 days 00:00:00.033486",
         "0.10879523929433389",
         null,
         "SVM",
         "scale",
         "linear",
         null,
         null,
         null,
         null,
         null,
         "COMPLETE"
        ],
        [
         "43",
         "43",
         "0.7877094972067038",
         "2025-09-19 17:50:50.492040",
         "2025-09-19 17:50:50.521806",
         "0 days 00:00:00.029766",
         "0.18587140975910008",
         null,
         "SVM",
         "scale",
         "linear",
         null,
         null,
         null,
         null,
         null,
         "COMPLETE"
        ],
        [
         "44",
         "44",
         "0.7523277467411545",
         "2025-09-19 17:50:50.522806",
         "2025-09-19 17:50:51.625568",
         "0 days 00:00:01.102762",
         null,
         null,
         "GradientBoosting",
         null,
         null,
         "0.010762241882659508",
         "12.0",
         "9.0",
         "2.0",
         "95.0",
         "COMPLETE"
        ],
        [
         "45",
         "45",
         "0.7858472998137803",
         "2025-09-19 17:50:51.626568",
         "2025-09-19 17:50:51.715707",
         "0 days 00:00:00.089139",
         "0.2991993165489086",
         null,
         "SVM",
         "scale",
         "linear",
         null,
         null,
         null,
         null,
         null,
         "COMPLETE"
        ],
        [
         "46",
         "46",
         "0.7877094972067038",
         "2025-09-19 17:50:51.718959",
         "2025-09-19 17:50:51.749533",
         "0 days 00:00:00.030574",
         "0.10026903530515939",
         null,
         "SVM",
         "scale",
         "linear",
         null,
         null,
         null,
         null,
         null,
         "COMPLETE"
        ],
        [
         "47",
         "47",
         "0.7392923649906891",
         "2025-09-19 17:50:51.750528",
         "2025-09-19 17:50:52.522897",
         "0 days 00:00:00.772369",
         null,
         null,
         "GradientBoosting",
         null,
         null,
         "0.010081890739366607",
         "13.0",
         "10.0",
         "10.0",
         "72.0",
         "COMPLETE"
        ],
        [
         "48",
         "48",
         "0.7839851024208566",
         "2025-09-19 17:50:52.523894",
         "2025-09-19 17:50:52.557334",
         "0 days 00:00:00.033440",
         "0.5688514132798868",
         null,
         "SVM",
         "scale",
         "linear",
         null,
         null,
         null,
         null,
         null,
         "COMPLETE"
        ],
        [
         "49",
         "49",
         "0.7858472998137803",
         "2025-09-19 17:50:52.558339",
         "2025-09-19 17:50:52.596210",
         "0 days 00:00:00.037871",
         "0.21984593304082595",
         null,
         "SVM",
         "scale",
         "linear",
         null,
         null,
         null,
         null,
         null,
         "COMPLETE"
        ]
       ],
       "shape": {
        "columns": 16,
        "rows": 100
       }
      },
      "text/html": [
       "<div>\n",
       "<style scoped>\n",
       "    .dataframe tbody tr th:only-of-type {\n",
       "        vertical-align: middle;\n",
       "    }\n",
       "\n",
       "    .dataframe tbody tr th {\n",
       "        vertical-align: top;\n",
       "    }\n",
       "\n",
       "    .dataframe thead th {\n",
       "        text-align: right;\n",
       "    }\n",
       "</style>\n",
       "<table border=\"1\" class=\"dataframe\">\n",
       "  <thead>\n",
       "    <tr style=\"text-align: right;\">\n",
       "      <th></th>\n",
       "      <th>number</th>\n",
       "      <th>value</th>\n",
       "      <th>datetime_start</th>\n",
       "      <th>datetime_complete</th>\n",
       "      <th>duration</th>\n",
       "      <th>params_C</th>\n",
       "      <th>params_bootstrap</th>\n",
       "      <th>params_classifier</th>\n",
       "      <th>params_gamma</th>\n",
       "      <th>params_kernel</th>\n",
       "      <th>params_learning_rate</th>\n",
       "      <th>params_max_depth</th>\n",
       "      <th>params_min_samples_leaf</th>\n",
       "      <th>params_min_samples_split</th>\n",
       "      <th>params_n_estimators</th>\n",
       "      <th>state</th>\n",
       "    </tr>\n",
       "  </thead>\n",
       "  <tbody>\n",
       "    <tr>\n",
       "      <th>0</th>\n",
       "      <td>0</td>\n",
       "      <td>0.709497</td>\n",
       "      <td>2025-09-19 17:50:15.263207</td>\n",
       "      <td>2025-09-19 17:50:15.332112</td>\n",
       "      <td>0 days 00:00:00.068905</td>\n",
       "      <td>10.742680</td>\n",
       "      <td>NaN</td>\n",
       "      <td>SVM</td>\n",
       "      <td>scale</td>\n",
       "      <td>poly</td>\n",
       "      <td>NaN</td>\n",
       "      <td>NaN</td>\n",
       "      <td>NaN</td>\n",
       "      <td>NaN</td>\n",
       "      <td>NaN</td>\n",
       "      <td>COMPLETE</td>\n",
       "    </tr>\n",
       "    <tr>\n",
       "      <th>1</th>\n",
       "      <td>1</td>\n",
       "      <td>0.746741</td>\n",
       "      <td>2025-09-19 17:50:15.333112</td>\n",
       "      <td>2025-09-19 17:50:19.738065</td>\n",
       "      <td>0 days 00:00:04.404953</td>\n",
       "      <td>NaN</td>\n",
       "      <td>NaN</td>\n",
       "      <td>GradientBoosting</td>\n",
       "      <td>NaN</td>\n",
       "      <td>NaN</td>\n",
       "      <td>0.058557</td>\n",
       "      <td>15.0</td>\n",
       "      <td>2.0</td>\n",
       "      <td>9.0</td>\n",
       "      <td>200.0</td>\n",
       "      <td>COMPLETE</td>\n",
       "    </tr>\n",
       "    <tr>\n",
       "      <th>2</th>\n",
       "      <td>2</td>\n",
       "      <td>0.757914</td>\n",
       "      <td>2025-09-19 17:50:19.739062</td>\n",
       "      <td>2025-09-19 17:50:21.524029</td>\n",
       "      <td>0 days 00:00:01.784967</td>\n",
       "      <td>NaN</td>\n",
       "      <td>True</td>\n",
       "      <td>RandomForest</td>\n",
       "      <td>NaN</td>\n",
       "      <td>NaN</td>\n",
       "      <td>NaN</td>\n",
       "      <td>11.0</td>\n",
       "      <td>7.0</td>\n",
       "      <td>9.0</td>\n",
       "      <td>293.0</td>\n",
       "      <td>COMPLETE</td>\n",
       "    </tr>\n",
       "    <tr>\n",
       "      <th>3</th>\n",
       "      <td>3</td>\n",
       "      <td>0.750466</td>\n",
       "      <td>2025-09-19 17:50:21.525035</td>\n",
       "      <td>2025-09-19 17:50:22.458103</td>\n",
       "      <td>0 days 00:00:00.933068</td>\n",
       "      <td>NaN</td>\n",
       "      <td>NaN</td>\n",
       "      <td>GradientBoosting</td>\n",
       "      <td>NaN</td>\n",
       "      <td>NaN</td>\n",
       "      <td>0.292410</td>\n",
       "      <td>8.0</td>\n",
       "      <td>7.0</td>\n",
       "      <td>5.0</td>\n",
       "      <td>78.0</td>\n",
       "      <td>COMPLETE</td>\n",
       "    </tr>\n",
       "    <tr>\n",
       "      <th>4</th>\n",
       "      <td>4</td>\n",
       "      <td>0.756052</td>\n",
       "      <td>2025-09-19 17:50:22.459105</td>\n",
       "      <td>2025-09-19 17:50:26.029649</td>\n",
       "      <td>0 days 00:00:03.570544</td>\n",
       "      <td>NaN</td>\n",
       "      <td>NaN</td>\n",
       "      <td>GradientBoosting</td>\n",
       "      <td>NaN</td>\n",
       "      <td>NaN</td>\n",
       "      <td>0.041502</td>\n",
       "      <td>9.0</td>\n",
       "      <td>7.0</td>\n",
       "      <td>10.0</td>\n",
       "      <td>286.0</td>\n",
       "      <td>COMPLETE</td>\n",
       "    </tr>\n",
       "    <tr>\n",
       "      <th>...</th>\n",
       "      <td>...</td>\n",
       "      <td>...</td>\n",
       "      <td>...</td>\n",
       "      <td>...</td>\n",
       "      <td>...</td>\n",
       "      <td>...</td>\n",
       "      <td>...</td>\n",
       "      <td>...</td>\n",
       "      <td>...</td>\n",
       "      <td>...</td>\n",
       "      <td>...</td>\n",
       "      <td>...</td>\n",
       "      <td>...</td>\n",
       "      <td>...</td>\n",
       "      <td>...</td>\n",
       "      <td>...</td>\n",
       "    </tr>\n",
       "    <tr>\n",
       "      <th>95</th>\n",
       "      <td>95</td>\n",
       "      <td>0.787709</td>\n",
       "      <td>2025-09-19 17:51:01.424919</td>\n",
       "      <td>2025-09-19 17:51:01.458907</td>\n",
       "      <td>0 days 00:00:00.033988</td>\n",
       "      <td>0.103446</td>\n",
       "      <td>NaN</td>\n",
       "      <td>SVM</td>\n",
       "      <td>scale</td>\n",
       "      <td>linear</td>\n",
       "      <td>NaN</td>\n",
       "      <td>NaN</td>\n",
       "      <td>NaN</td>\n",
       "      <td>NaN</td>\n",
       "      <td>NaN</td>\n",
       "      <td>COMPLETE</td>\n",
       "    </tr>\n",
       "    <tr>\n",
       "      <th>96</th>\n",
       "      <td>96</td>\n",
       "      <td>0.785847</td>\n",
       "      <td>2025-09-19 17:51:01.459928</td>\n",
       "      <td>2025-09-19 17:51:01.498118</td>\n",
       "      <td>0 days 00:00:00.038190</td>\n",
       "      <td>0.331739</td>\n",
       "      <td>NaN</td>\n",
       "      <td>SVM</td>\n",
       "      <td>scale</td>\n",
       "      <td>linear</td>\n",
       "      <td>NaN</td>\n",
       "      <td>NaN</td>\n",
       "      <td>NaN</td>\n",
       "      <td>NaN</td>\n",
       "      <td>NaN</td>\n",
       "      <td>COMPLETE</td>\n",
       "    </tr>\n",
       "    <tr>\n",
       "      <th>97</th>\n",
       "      <td>97</td>\n",
       "      <td>0.785847</td>\n",
       "      <td>2025-09-19 17:51:01.499118</td>\n",
       "      <td>2025-09-19 17:51:01.532544</td>\n",
       "      <td>0 days 00:00:00.033426</td>\n",
       "      <td>0.195167</td>\n",
       "      <td>NaN</td>\n",
       "      <td>SVM</td>\n",
       "      <td>auto</td>\n",
       "      <td>linear</td>\n",
       "      <td>NaN</td>\n",
       "      <td>NaN</td>\n",
       "      <td>NaN</td>\n",
       "      <td>NaN</td>\n",
       "      <td>NaN</td>\n",
       "      <td>COMPLETE</td>\n",
       "    </tr>\n",
       "    <tr>\n",
       "      <th>98</th>\n",
       "      <td>98</td>\n",
       "      <td>0.750466</td>\n",
       "      <td>2025-09-19 17:51:01.533543</td>\n",
       "      <td>2025-09-19 17:51:04.964224</td>\n",
       "      <td>0 days 00:00:03.430681</td>\n",
       "      <td>NaN</td>\n",
       "      <td>NaN</td>\n",
       "      <td>GradientBoosting</td>\n",
       "      <td>NaN</td>\n",
       "      <td>NaN</td>\n",
       "      <td>0.022301</td>\n",
       "      <td>11.0</td>\n",
       "      <td>8.0</td>\n",
       "      <td>9.0</td>\n",
       "      <td>272.0</td>\n",
       "      <td>COMPLETE</td>\n",
       "    </tr>\n",
       "    <tr>\n",
       "      <th>99</th>\n",
       "      <td>99</td>\n",
       "      <td>0.785847</td>\n",
       "      <td>2025-09-19 17:51:04.965589</td>\n",
       "      <td>2025-09-19 17:51:05.002528</td>\n",
       "      <td>0 days 00:00:00.036939</td>\n",
       "      <td>0.276419</td>\n",
       "      <td>NaN</td>\n",
       "      <td>SVM</td>\n",
       "      <td>scale</td>\n",
       "      <td>linear</td>\n",
       "      <td>NaN</td>\n",
       "      <td>NaN</td>\n",
       "      <td>NaN</td>\n",
       "      <td>NaN</td>\n",
       "      <td>NaN</td>\n",
       "      <td>COMPLETE</td>\n",
       "    </tr>\n",
       "  </tbody>\n",
       "</table>\n",
       "<p>100 rows × 16 columns</p>\n",
       "</div>"
      ],
      "text/plain": [
       "    number     value             datetime_start          datetime_complete  \\\n",
       "0        0  0.709497 2025-09-19 17:50:15.263207 2025-09-19 17:50:15.332112   \n",
       "1        1  0.746741 2025-09-19 17:50:15.333112 2025-09-19 17:50:19.738065   \n",
       "2        2  0.757914 2025-09-19 17:50:19.739062 2025-09-19 17:50:21.524029   \n",
       "3        3  0.750466 2025-09-19 17:50:21.525035 2025-09-19 17:50:22.458103   \n",
       "4        4  0.756052 2025-09-19 17:50:22.459105 2025-09-19 17:50:26.029649   \n",
       "..     ...       ...                        ...                        ...   \n",
       "95      95  0.787709 2025-09-19 17:51:01.424919 2025-09-19 17:51:01.458907   \n",
       "96      96  0.785847 2025-09-19 17:51:01.459928 2025-09-19 17:51:01.498118   \n",
       "97      97  0.785847 2025-09-19 17:51:01.499118 2025-09-19 17:51:01.532544   \n",
       "98      98  0.750466 2025-09-19 17:51:01.533543 2025-09-19 17:51:04.964224   \n",
       "99      99  0.785847 2025-09-19 17:51:04.965589 2025-09-19 17:51:05.002528   \n",
       "\n",
       "                 duration   params_C params_bootstrap params_classifier  \\\n",
       "0  0 days 00:00:00.068905  10.742680              NaN               SVM   \n",
       "1  0 days 00:00:04.404953        NaN              NaN  GradientBoosting   \n",
       "2  0 days 00:00:01.784967        NaN             True      RandomForest   \n",
       "3  0 days 00:00:00.933068        NaN              NaN  GradientBoosting   \n",
       "4  0 days 00:00:03.570544        NaN              NaN  GradientBoosting   \n",
       "..                    ...        ...              ...               ...   \n",
       "95 0 days 00:00:00.033988   0.103446              NaN               SVM   \n",
       "96 0 days 00:00:00.038190   0.331739              NaN               SVM   \n",
       "97 0 days 00:00:00.033426   0.195167              NaN               SVM   \n",
       "98 0 days 00:00:03.430681        NaN              NaN  GradientBoosting   \n",
       "99 0 days 00:00:00.036939   0.276419              NaN               SVM   \n",
       "\n",
       "   params_gamma params_kernel  params_learning_rate  params_max_depth  \\\n",
       "0         scale          poly                   NaN               NaN   \n",
       "1           NaN           NaN              0.058557              15.0   \n",
       "2           NaN           NaN                   NaN              11.0   \n",
       "3           NaN           NaN              0.292410               8.0   \n",
       "4           NaN           NaN              0.041502               9.0   \n",
       "..          ...           ...                   ...               ...   \n",
       "95        scale        linear                   NaN               NaN   \n",
       "96        scale        linear                   NaN               NaN   \n",
       "97         auto        linear                   NaN               NaN   \n",
       "98          NaN           NaN              0.022301              11.0   \n",
       "99        scale        linear                   NaN               NaN   \n",
       "\n",
       "    params_min_samples_leaf  params_min_samples_split  params_n_estimators  \\\n",
       "0                       NaN                       NaN                  NaN   \n",
       "1                       2.0                       9.0                200.0   \n",
       "2                       7.0                       9.0                293.0   \n",
       "3                       7.0                       5.0                 78.0   \n",
       "4                       7.0                      10.0                286.0   \n",
       "..                      ...                       ...                  ...   \n",
       "95                      NaN                       NaN                  NaN   \n",
       "96                      NaN                       NaN                  NaN   \n",
       "97                      NaN                       NaN                  NaN   \n",
       "98                      8.0                       9.0                272.0   \n",
       "99                      NaN                       NaN                  NaN   \n",
       "\n",
       "       state  \n",
       "0   COMPLETE  \n",
       "1   COMPLETE  \n",
       "2   COMPLETE  \n",
       "3   COMPLETE  \n",
       "4   COMPLETE  \n",
       "..       ...  \n",
       "95  COMPLETE  \n",
       "96  COMPLETE  \n",
       "97  COMPLETE  \n",
       "98  COMPLETE  \n",
       "99  COMPLETE  \n",
       "\n",
       "[100 rows x 16 columns]"
      ]
     },
     "execution_count": 28,
     "metadata": {},
     "output_type": "execute_result"
    }
   ],
   "source": [
    "study.trials_dataframe()"
   ]
  },
  {
   "cell_type": "code",
   "execution_count": 29,
   "id": "5a4f3906",
   "metadata": {},
   "outputs": [
    {
     "data": {
      "application/vnd.microsoft.datawrangler.viewer.v0+json": {
       "columns": [
        {
         "name": "params_classifier",
         "rawType": "object",
         "type": "string"
        },
        {
         "name": "count",
         "rawType": "int64",
         "type": "integer"
        }
       ],
       "ref": "512953ed-8221-4cea-a672-9adc7a0a3c25",
       "rows": [
        [
         "SVM",
         "71"
        ],
        [
         "RandomForest",
         "17"
        ],
        [
         "GradientBoosting",
         "12"
        ]
       ],
       "shape": {
        "columns": 1,
        "rows": 3
       }
      },
      "text/plain": [
       "params_classifier\n",
       "SVM                 71\n",
       "RandomForest        17\n",
       "GradientBoosting    12\n",
       "Name: count, dtype: int64"
      ]
     },
     "execution_count": 29,
     "metadata": {},
     "output_type": "execute_result"
    }
   ],
   "source": [
    "study.trials_dataframe()['params_classifier'].value_counts()"
   ]
  },
  {
   "cell_type": "code",
   "execution_count": 30,
   "id": "73ff41ef",
   "metadata": {},
   "outputs": [
    {
     "data": {
      "application/vnd.microsoft.datawrangler.viewer.v0+json": {
       "columns": [
        {
         "name": "params_classifier",
         "rawType": "object",
         "type": "string"
        },
        {
         "name": "value",
         "rawType": "float64",
         "type": "float"
        }
       ],
       "ref": "3d5f5454-2f70-43f3-9bc4-bea4c58530d3",
       "rows": [
        [
         "GradientBoosting",
         "0.74487895716946"
        ],
        [
         "RandomForest",
         "0.7653631284916201"
        ],
        [
         "SVM",
         "0.7765887691137513"
        ]
       ],
       "shape": {
        "columns": 1,
        "rows": 3
       }
      },
      "text/plain": [
       "params_classifier\n",
       "GradientBoosting    0.744879\n",
       "RandomForest        0.765363\n",
       "SVM                 0.776589\n",
       "Name: value, dtype: float64"
      ]
     },
     "execution_count": 30,
     "metadata": {},
     "output_type": "execute_result"
    }
   ],
   "source": [
    "study.trials_dataframe().groupby('params_classifier')['value'].mean()"
   ]
  }
 ],
 "metadata": {
  "kernelspec": {
   "display_name": "dsenv",
   "language": "python",
   "name": "python3"
  },
  "language_info": {
   "codemirror_mode": {
    "name": "ipython",
    "version": 3
   },
   "file_extension": ".py",
   "mimetype": "text/x-python",
   "name": "python",
   "nbconvert_exporter": "python",
   "pygments_lexer": "ipython3",
   "version": "3.11.13"
  }
 },
 "nbformat": 4,
 "nbformat_minor": 5
}
