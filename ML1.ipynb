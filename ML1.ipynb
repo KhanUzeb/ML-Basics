{
 "cells": [
  {
   "cell_type": "markdown",
   "id": "5afece14",
   "metadata": {},
   "source": [
    "# ML STARTS"
   ]
  },
  {
   "cell_type": "code",
   "execution_count": 64,
   "id": "fa75733f",
   "metadata": {},
   "outputs": [],
   "source": [
    "import numpy as np\n",
    "import pandas as pd"
   ]
  },
  {
   "cell_type": "code",
   "execution_count": 65,
   "id": "9a008659",
   "metadata": {},
   "outputs": [
    {
     "data": {
      "application/vnd.microsoft.datawrangler.viewer.v0+json": {
       "columns": [
        {
         "name": "index",
         "rawType": "int64",
         "type": "integer"
        },
        {
         "name": "Unnamed: 0",
         "rawType": "int64",
         "type": "integer"
        },
        {
         "name": "cgpa",
         "rawType": "float64",
         "type": "float"
        },
        {
         "name": "iq",
         "rawType": "float64",
         "type": "float"
        },
        {
         "name": "placement",
         "rawType": "int64",
         "type": "integer"
        }
       ],
       "ref": "f3e1cdac-fde1-4253-9dac-851ebbd7abb1",
       "rows": [
        [
         "0",
         "0",
         "6.8",
         "123.0",
         "1"
        ],
        [
         "1",
         "1",
         "5.9",
         "106.0",
         "0"
        ],
        [
         "2",
         "2",
         "5.3",
         "121.0",
         "0"
        ],
        [
         "3",
         "3",
         "7.4",
         "132.0",
         "1"
        ],
        [
         "4",
         "4",
         "5.8",
         "142.0",
         "0"
        ],
        [
         "5",
         "5",
         "7.1",
         "48.0",
         "1"
        ],
        [
         "6",
         "6",
         "5.7",
         "143.0",
         "0"
        ],
        [
         "7",
         "7",
         "5.0",
         "63.0",
         "0"
        ],
        [
         "8",
         "8",
         "6.1",
         "156.0",
         "0"
        ],
        [
         "9",
         "9",
         "5.1",
         "66.0",
         "0"
        ],
        [
         "10",
         "10",
         "6.0",
         "45.0",
         "1"
        ],
        [
         "11",
         "11",
         "6.9",
         "138.0",
         "1"
        ],
        [
         "12",
         "12",
         "5.4",
         "139.0",
         "0"
        ],
        [
         "13",
         "13",
         "6.4",
         "116.0",
         "1"
        ],
        [
         "14",
         "14",
         "6.1",
         "103.0",
         "0"
        ],
        [
         "15",
         "15",
         "5.1",
         "176.0",
         "0"
        ],
        [
         "16",
         "16",
         "5.2",
         "224.0",
         "0"
        ],
        [
         "17",
         "17",
         "3.3",
         "183.0",
         "0"
        ],
        [
         "18",
         "18",
         "4.0",
         "100.0",
         "0"
        ],
        [
         "19",
         "19",
         "5.2",
         "132.0",
         "0"
        ],
        [
         "20",
         "20",
         "6.6",
         "120.0",
         "1"
        ],
        [
         "21",
         "21",
         "7.1",
         "151.0",
         "1"
        ],
        [
         "22",
         "22",
         "4.9",
         "120.0",
         "0"
        ],
        [
         "23",
         "23",
         "4.7",
         "87.0",
         "0"
        ],
        [
         "24",
         "24",
         "4.7",
         "121.0",
         "0"
        ],
        [
         "25",
         "25",
         "5.0",
         "91.0",
         "0"
        ],
        [
         "26",
         "26",
         "7.0",
         "199.0",
         "1"
        ],
        [
         "27",
         "27",
         "6.0",
         "124.0",
         "1"
        ],
        [
         "28",
         "28",
         "5.2",
         "90.0",
         "0"
        ],
        [
         "29",
         "29",
         "7.0",
         "112.0",
         "1"
        ],
        [
         "30",
         "30",
         "7.6",
         "128.0",
         "1"
        ],
        [
         "31",
         "31",
         "3.9",
         "109.0",
         "0"
        ],
        [
         "32",
         "32",
         "7.0",
         "139.0",
         "1"
        ],
        [
         "33",
         "33",
         "6.0",
         "149.0",
         "0"
        ],
        [
         "34",
         "34",
         "4.8",
         "163.0",
         "0"
        ],
        [
         "35",
         "35",
         "6.8",
         "90.0",
         "1"
        ],
        [
         "36",
         "36",
         "5.7",
         "140.0",
         "0"
        ],
        [
         "37",
         "37",
         "8.1",
         "149.0",
         "1"
        ],
        [
         "38",
         "38",
         "6.5",
         "160.0",
         "1"
        ],
        [
         "39",
         "39",
         "4.6",
         "146.0",
         "0"
        ],
        [
         "40",
         "40",
         "4.9",
         "134.0",
         "0"
        ],
        [
         "41",
         "41",
         "5.4",
         "114.0",
         "0"
        ],
        [
         "42",
         "42",
         "7.6",
         "89.0",
         "1"
        ],
        [
         "43",
         "43",
         "6.8",
         "141.0",
         "1"
        ],
        [
         "44",
         "44",
         "7.5",
         "61.0",
         "1"
        ],
        [
         "45",
         "45",
         "6.0",
         "66.0",
         "1"
        ],
        [
         "46",
         "46",
         "5.3",
         "114.0",
         "0"
        ],
        [
         "47",
         "47",
         "5.2",
         "161.0",
         "0"
        ],
        [
         "48",
         "48",
         "6.6",
         "138.0",
         "1"
        ],
        [
         "49",
         "49",
         "5.4",
         "135.0",
         "0"
        ]
       ],
       "shape": {
        "columns": 4,
        "rows": 100
       }
      },
      "text/html": [
       "<div>\n",
       "<style scoped>\n",
       "    .dataframe tbody tr th:only-of-type {\n",
       "        vertical-align: middle;\n",
       "    }\n",
       "\n",
       "    .dataframe tbody tr th {\n",
       "        vertical-align: top;\n",
       "    }\n",
       "\n",
       "    .dataframe thead th {\n",
       "        text-align: right;\n",
       "    }\n",
       "</style>\n",
       "<table border=\"1\" class=\"dataframe\">\n",
       "  <thead>\n",
       "    <tr style=\"text-align: right;\">\n",
       "      <th></th>\n",
       "      <th>Unnamed: 0</th>\n",
       "      <th>cgpa</th>\n",
       "      <th>iq</th>\n",
       "      <th>placement</th>\n",
       "    </tr>\n",
       "  </thead>\n",
       "  <tbody>\n",
       "    <tr>\n",
       "      <th>0</th>\n",
       "      <td>0</td>\n",
       "      <td>6.8</td>\n",
       "      <td>123.0</td>\n",
       "      <td>1</td>\n",
       "    </tr>\n",
       "    <tr>\n",
       "      <th>1</th>\n",
       "      <td>1</td>\n",
       "      <td>5.9</td>\n",
       "      <td>106.0</td>\n",
       "      <td>0</td>\n",
       "    </tr>\n",
       "    <tr>\n",
       "      <th>2</th>\n",
       "      <td>2</td>\n",
       "      <td>5.3</td>\n",
       "      <td>121.0</td>\n",
       "      <td>0</td>\n",
       "    </tr>\n",
       "    <tr>\n",
       "      <th>3</th>\n",
       "      <td>3</td>\n",
       "      <td>7.4</td>\n",
       "      <td>132.0</td>\n",
       "      <td>1</td>\n",
       "    </tr>\n",
       "    <tr>\n",
       "      <th>4</th>\n",
       "      <td>4</td>\n",
       "      <td>5.8</td>\n",
       "      <td>142.0</td>\n",
       "      <td>0</td>\n",
       "    </tr>\n",
       "    <tr>\n",
       "      <th>...</th>\n",
       "      <td>...</td>\n",
       "      <td>...</td>\n",
       "      <td>...</td>\n",
       "      <td>...</td>\n",
       "    </tr>\n",
       "    <tr>\n",
       "      <th>95</th>\n",
       "      <td>95</td>\n",
       "      <td>4.3</td>\n",
       "      <td>200.0</td>\n",
       "      <td>0</td>\n",
       "    </tr>\n",
       "    <tr>\n",
       "      <th>96</th>\n",
       "      <td>96</td>\n",
       "      <td>4.4</td>\n",
       "      <td>42.0</td>\n",
       "      <td>0</td>\n",
       "    </tr>\n",
       "    <tr>\n",
       "      <th>97</th>\n",
       "      <td>97</td>\n",
       "      <td>6.7</td>\n",
       "      <td>182.0</td>\n",
       "      <td>1</td>\n",
       "    </tr>\n",
       "    <tr>\n",
       "      <th>98</th>\n",
       "      <td>98</td>\n",
       "      <td>6.3</td>\n",
       "      <td>103.0</td>\n",
       "      <td>1</td>\n",
       "    </tr>\n",
       "    <tr>\n",
       "      <th>99</th>\n",
       "      <td>99</td>\n",
       "      <td>6.2</td>\n",
       "      <td>113.0</td>\n",
       "      <td>1</td>\n",
       "    </tr>\n",
       "  </tbody>\n",
       "</table>\n",
       "<p>100 rows × 4 columns</p>\n",
       "</div>"
      ],
      "text/plain": [
       "    Unnamed: 0  cgpa     iq  placement\n",
       "0            0   6.8  123.0          1\n",
       "1            1   5.9  106.0          0\n",
       "2            2   5.3  121.0          0\n",
       "3            3   7.4  132.0          1\n",
       "4            4   5.8  142.0          0\n",
       "..         ...   ...    ...        ...\n",
       "95          95   4.3  200.0          0\n",
       "96          96   4.4   42.0          0\n",
       "97          97   6.7  182.0          1\n",
       "98          98   6.3  103.0          1\n",
       "99          99   6.2  113.0          1\n",
       "\n",
       "[100 rows x 4 columns]"
      ]
     },
     "execution_count": 65,
     "metadata": {},
     "output_type": "execute_result"
    }
   ],
   "source": [
    "df=pd.read_csv('placement.csv')\n",
    "df"
   ]
  },
  {
   "cell_type": "markdown",
   "id": "a445b889",
   "metadata": {},
   "source": [
    "## Steps\n",
    "\n",
    "- 0. Preprocess + EDA + Feature Selection\n",
    "- 1. Extract input and output cols\n",
    "- 2. Scale the values\n",
    "- 3. Train test split\n",
    "- 4. Train the model\n",
    "- 5. Evaluate the model/model selection\n",
    "- 6. Deploy the model"
   ]
  },
  {
   "cell_type": "code",
   "execution_count": 66,
   "id": "e19517e1",
   "metadata": {},
   "outputs": [
    {
     "data": {
      "application/vnd.microsoft.datawrangler.viewer.v0+json": {
       "columns": [
        {
         "name": "index",
         "rawType": "int64",
         "type": "integer"
        },
        {
         "name": "cgpa",
         "rawType": "float64",
         "type": "float"
        },
        {
         "name": "iq",
         "rawType": "float64",
         "type": "float"
        },
        {
         "name": "placement",
         "rawType": "int64",
         "type": "integer"
        }
       ],
       "ref": "dc50cc80-f3d3-4cc5-90d7-a6502e5cce34",
       "rows": [
        [
         "0",
         "6.8",
         "123.0",
         "1"
        ],
        [
         "1",
         "5.9",
         "106.0",
         "0"
        ],
        [
         "2",
         "5.3",
         "121.0",
         "0"
        ],
        [
         "3",
         "7.4",
         "132.0",
         "1"
        ],
        [
         "4",
         "5.8",
         "142.0",
         "0"
        ],
        [
         "5",
         "7.1",
         "48.0",
         "1"
        ],
        [
         "6",
         "5.7",
         "143.0",
         "0"
        ],
        [
         "7",
         "5.0",
         "63.0",
         "0"
        ],
        [
         "8",
         "6.1",
         "156.0",
         "0"
        ],
        [
         "9",
         "5.1",
         "66.0",
         "0"
        ],
        [
         "10",
         "6.0",
         "45.0",
         "1"
        ],
        [
         "11",
         "6.9",
         "138.0",
         "1"
        ],
        [
         "12",
         "5.4",
         "139.0",
         "0"
        ],
        [
         "13",
         "6.4",
         "116.0",
         "1"
        ],
        [
         "14",
         "6.1",
         "103.0",
         "0"
        ],
        [
         "15",
         "5.1",
         "176.0",
         "0"
        ],
        [
         "16",
         "5.2",
         "224.0",
         "0"
        ],
        [
         "17",
         "3.3",
         "183.0",
         "0"
        ],
        [
         "18",
         "4.0",
         "100.0",
         "0"
        ],
        [
         "19",
         "5.2",
         "132.0",
         "0"
        ],
        [
         "20",
         "6.6",
         "120.0",
         "1"
        ],
        [
         "21",
         "7.1",
         "151.0",
         "1"
        ],
        [
         "22",
         "4.9",
         "120.0",
         "0"
        ],
        [
         "23",
         "4.7",
         "87.0",
         "0"
        ],
        [
         "24",
         "4.7",
         "121.0",
         "0"
        ],
        [
         "25",
         "5.0",
         "91.0",
         "0"
        ],
        [
         "26",
         "7.0",
         "199.0",
         "1"
        ],
        [
         "27",
         "6.0",
         "124.0",
         "1"
        ],
        [
         "28",
         "5.2",
         "90.0",
         "0"
        ],
        [
         "29",
         "7.0",
         "112.0",
         "1"
        ],
        [
         "30",
         "7.6",
         "128.0",
         "1"
        ],
        [
         "31",
         "3.9",
         "109.0",
         "0"
        ],
        [
         "32",
         "7.0",
         "139.0",
         "1"
        ],
        [
         "33",
         "6.0",
         "149.0",
         "0"
        ],
        [
         "34",
         "4.8",
         "163.0",
         "0"
        ],
        [
         "35",
         "6.8",
         "90.0",
         "1"
        ],
        [
         "36",
         "5.7",
         "140.0",
         "0"
        ],
        [
         "37",
         "8.1",
         "149.0",
         "1"
        ],
        [
         "38",
         "6.5",
         "160.0",
         "1"
        ],
        [
         "39",
         "4.6",
         "146.0",
         "0"
        ],
        [
         "40",
         "4.9",
         "134.0",
         "0"
        ],
        [
         "41",
         "5.4",
         "114.0",
         "0"
        ],
        [
         "42",
         "7.6",
         "89.0",
         "1"
        ],
        [
         "43",
         "6.8",
         "141.0",
         "1"
        ],
        [
         "44",
         "7.5",
         "61.0",
         "1"
        ],
        [
         "45",
         "6.0",
         "66.0",
         "1"
        ],
        [
         "46",
         "5.3",
         "114.0",
         "0"
        ],
        [
         "47",
         "5.2",
         "161.0",
         "0"
        ],
        [
         "48",
         "6.6",
         "138.0",
         "1"
        ],
        [
         "49",
         "5.4",
         "135.0",
         "0"
        ]
       ],
       "shape": {
        "columns": 3,
        "rows": 100
       }
      },
      "text/html": [
       "<div>\n",
       "<style scoped>\n",
       "    .dataframe tbody tr th:only-of-type {\n",
       "        vertical-align: middle;\n",
       "    }\n",
       "\n",
       "    .dataframe tbody tr th {\n",
       "        vertical-align: top;\n",
       "    }\n",
       "\n",
       "    .dataframe thead th {\n",
       "        text-align: right;\n",
       "    }\n",
       "</style>\n",
       "<table border=\"1\" class=\"dataframe\">\n",
       "  <thead>\n",
       "    <tr style=\"text-align: right;\">\n",
       "      <th></th>\n",
       "      <th>cgpa</th>\n",
       "      <th>iq</th>\n",
       "      <th>placement</th>\n",
       "    </tr>\n",
       "  </thead>\n",
       "  <tbody>\n",
       "    <tr>\n",
       "      <th>0</th>\n",
       "      <td>6.8</td>\n",
       "      <td>123.0</td>\n",
       "      <td>1</td>\n",
       "    </tr>\n",
       "    <tr>\n",
       "      <th>1</th>\n",
       "      <td>5.9</td>\n",
       "      <td>106.0</td>\n",
       "      <td>0</td>\n",
       "    </tr>\n",
       "    <tr>\n",
       "      <th>2</th>\n",
       "      <td>5.3</td>\n",
       "      <td>121.0</td>\n",
       "      <td>0</td>\n",
       "    </tr>\n",
       "    <tr>\n",
       "      <th>3</th>\n",
       "      <td>7.4</td>\n",
       "      <td>132.0</td>\n",
       "      <td>1</td>\n",
       "    </tr>\n",
       "    <tr>\n",
       "      <th>4</th>\n",
       "      <td>5.8</td>\n",
       "      <td>142.0</td>\n",
       "      <td>0</td>\n",
       "    </tr>\n",
       "    <tr>\n",
       "      <th>...</th>\n",
       "      <td>...</td>\n",
       "      <td>...</td>\n",
       "      <td>...</td>\n",
       "    </tr>\n",
       "    <tr>\n",
       "      <th>95</th>\n",
       "      <td>4.3</td>\n",
       "      <td>200.0</td>\n",
       "      <td>0</td>\n",
       "    </tr>\n",
       "    <tr>\n",
       "      <th>96</th>\n",
       "      <td>4.4</td>\n",
       "      <td>42.0</td>\n",
       "      <td>0</td>\n",
       "    </tr>\n",
       "    <tr>\n",
       "      <th>97</th>\n",
       "      <td>6.7</td>\n",
       "      <td>182.0</td>\n",
       "      <td>1</td>\n",
       "    </tr>\n",
       "    <tr>\n",
       "      <th>98</th>\n",
       "      <td>6.3</td>\n",
       "      <td>103.0</td>\n",
       "      <td>1</td>\n",
       "    </tr>\n",
       "    <tr>\n",
       "      <th>99</th>\n",
       "      <td>6.2</td>\n",
       "      <td>113.0</td>\n",
       "      <td>1</td>\n",
       "    </tr>\n",
       "  </tbody>\n",
       "</table>\n",
       "<p>100 rows × 3 columns</p>\n",
       "</div>"
      ],
      "text/plain": [
       "    cgpa     iq  placement\n",
       "0    6.8  123.0          1\n",
       "1    5.9  106.0          0\n",
       "2    5.3  121.0          0\n",
       "3    7.4  132.0          1\n",
       "4    5.8  142.0          0\n",
       "..   ...    ...        ...\n",
       "95   4.3  200.0          0\n",
       "96   4.4   42.0          0\n",
       "97   6.7  182.0          1\n",
       "98   6.3  103.0          1\n",
       "99   6.2  113.0          1\n",
       "\n",
       "[100 rows x 3 columns]"
      ]
     },
     "execution_count": 66,
     "metadata": {},
     "output_type": "execute_result"
    }
   ],
   "source": [
    "df.drop('Unnamed: 0',axis=1,inplace=True)\n",
    "df"
   ]
  },
  {
   "cell_type": "code",
   "execution_count": 67,
   "id": "666a084d",
   "metadata": {},
   "outputs": [],
   "source": [
    "import matplotlib.pyplot as plt"
   ]
  },
  {
   "cell_type": "code",
   "execution_count": 68,
   "id": "00490df2",
   "metadata": {},
   "outputs": [
    {
     "data": {
      "image/png": "[encoded data removed]",
      "text/plain": [
       "<Figure size 640x480 with 1 Axes>"
      ]
     },
     "metadata": {},
     "output_type": "display_data"
    }
   ],
   "source": [
    "plt.scatter(df['cgpa'],df['iq'],c=df['placement'])\n",
    "plt.xlabel('cgpa',)\n",
    "plt.ylabel('iq')\n",
    "plt.show()"
   ]
  },
  {
   "cell_type": "code",
   "execution_count": 69,
   "id": "2c68df4e",
   "metadata": {},
   "outputs": [],
   "source": [
    "X = df.iloc[:,0:2]\n",
    "y = df.iloc[:,-1]"
   ]
  },
  {
   "cell_type": "code",
   "execution_count": 70,
   "id": "05991d02",
   "metadata": {},
   "outputs": [],
   "source": [
    "from sklearn.model_selection import train_test_split\n",
    "x_train,x_test,y_train,y_test=train_test_split(x,y,test_size=0.1)"
   ]
  },
  {
   "cell_type": "code",
   "execution_count": 71,
   "id": "abd5beeb",
   "metadata": {},
   "outputs": [
    {
     "data": {
      "application/vnd.microsoft.datawrangler.viewer.v0+json": {
       "columns": [
        {
         "name": "index",
         "rawType": "int64",
         "type": "integer"
        },
        {
         "name": "cgpa",
         "rawType": "float64",
         "type": "float"
        },
        {
         "name": "iq",
         "rawType": "float64",
         "type": "float"
        },
        {
         "name": "placement",
         "rawType": "int64",
         "type": "integer"
        }
       ],
       "ref": "3cde635e-2589-4bb2-97b7-d7d240bb7dec",
       "rows": [
        [
         "24",
         "4.7",
         "121.0",
         "0"
        ],
        [
         "37",
         "8.1",
         "149.0",
         "1"
        ],
        [
         "85",
         "5.8",
         "166.0",
         "1"
        ],
        [
         "89",
         "4.9",
         "151.0",
         "0"
        ],
        [
         "23",
         "4.7",
         "87.0",
         "0"
        ],
        [
         "57",
         "6.5",
         "130.0",
         "1"
        ],
        [
         "64",
         "7.0",
         "64.0",
         "1"
        ],
        [
         "86",
         "5.1",
         "128.0",
         "0"
        ],
        [
         "28",
         "5.2",
         "90.0",
         "0"
        ],
        [
         "15",
         "5.1",
         "176.0",
         "0"
        ],
        [
         "70",
         "6.3",
         "127.0",
         "1"
        ],
        [
         "79",
         "6.5",
         "90.0",
         "1"
        ],
        [
         "93",
         "6.8",
         "112.0",
         "1"
        ],
        [
         "66",
         "6.9",
         "96.0",
         "1"
        ],
        [
         "43",
         "6.8",
         "141.0",
         "1"
        ],
        [
         "88",
         "4.4",
         "149.0",
         "0"
        ],
        [
         "9",
         "5.1",
         "66.0",
         "0"
        ],
        [
         "32",
         "7.0",
         "139.0",
         "1"
        ],
        [
         "3",
         "7.4",
         "132.0",
         "1"
        ],
        [
         "68",
         "4.0",
         "75.0",
         "0"
        ],
        [
         "60",
         "6.9",
         "139.0",
         "1"
        ],
        [
         "83",
         "7.5",
         "130.0",
         "1"
        ],
        [
         "2",
         "5.3",
         "121.0",
         "0"
        ],
        [
         "25",
         "5.0",
         "91.0",
         "0"
        ],
        [
         "34",
         "4.8",
         "163.0",
         "0"
        ],
        [
         "54",
         "6.4",
         "141.0",
         "1"
        ],
        [
         "27",
         "6.0",
         "124.0",
         "1"
        ],
        [
         "35",
         "6.8",
         "90.0",
         "1"
        ],
        [
         "10",
         "6.0",
         "45.0",
         "1"
        ],
        [
         "77",
         "7.3",
         "50.0",
         "1"
        ],
        [
         "18",
         "4.0",
         "100.0",
         "0"
        ],
        [
         "82",
         "6.5",
         "37.0",
         "1"
        ],
        [
         "62",
         "6.0",
         "102.0",
         "0"
        ],
        [
         "14",
         "6.1",
         "103.0",
         "0"
        ],
        [
         "8",
         "6.1",
         "156.0",
         "0"
        ],
        [
         "84",
         "5.7",
         "169.0",
         "0"
        ],
        [
         "4",
         "5.8",
         "142.0",
         "0"
        ],
        [
         "71",
         "6.1",
         "132.0",
         "1"
        ],
        [
         "96",
         "4.4",
         "42.0",
         "0"
        ],
        [
         "17",
         "3.3",
         "183.0",
         "0"
        ],
        [
         "42",
         "7.6",
         "89.0",
         "1"
        ],
        [
         "91",
         "7.5",
         "158.0",
         "1"
        ],
        [
         "38",
         "6.5",
         "160.0",
         "1"
        ],
        [
         "90",
         "7.3",
         "86.0",
         "1"
        ],
        [
         "31",
         "3.9",
         "109.0",
         "0"
        ],
        [
         "76",
         "4.9",
         "155.0",
         "0"
        ],
        [
         "74",
         "6.7",
         "154.0",
         "1"
        ],
        [
         "52",
         "7.0",
         "175.0",
         "1"
        ],
        [
         "46",
         "5.3",
         "114.0",
         "0"
        ],
        [
         "16",
         "5.2",
         "224.0",
         "0"
        ]
       ],
       "shape": {
        "columns": 3,
        "rows": 90
       }
      },
      "text/html": [
       "<div>\n",
       "<style scoped>\n",
       "    .dataframe tbody tr th:only-of-type {\n",
       "        vertical-align: middle;\n",
       "    }\n",
       "\n",
       "    .dataframe tbody tr th {\n",
       "        vertical-align: top;\n",
       "    }\n",
       "\n",
       "    .dataframe thead th {\n",
       "        text-align: right;\n",
       "    }\n",
       "</style>\n",
       "<table border=\"1\" class=\"dataframe\">\n",
       "  <thead>\n",
       "    <tr style=\"text-align: right;\">\n",
       "      <th></th>\n",
       "      <th>cgpa</th>\n",
       "      <th>iq</th>\n",
       "      <th>placement</th>\n",
       "    </tr>\n",
       "  </thead>\n",
       "  <tbody>\n",
       "    <tr>\n",
       "      <th>24</th>\n",
       "      <td>4.7</td>\n",
       "      <td>121.0</td>\n",
       "      <td>0</td>\n",
       "    </tr>\n",
       "    <tr>\n",
       "      <th>37</th>\n",
       "      <td>8.1</td>\n",
       "      <td>149.0</td>\n",
       "      <td>1</td>\n",
       "    </tr>\n",
       "    <tr>\n",
       "      <th>85</th>\n",
       "      <td>5.8</td>\n",
       "      <td>166.0</td>\n",
       "      <td>1</td>\n",
       "    </tr>\n",
       "    <tr>\n",
       "      <th>89</th>\n",
       "      <td>4.9</td>\n",
       "      <td>151.0</td>\n",
       "      <td>0</td>\n",
       "    </tr>\n",
       "    <tr>\n",
       "      <th>23</th>\n",
       "      <td>4.7</td>\n",
       "      <td>87.0</td>\n",
       "      <td>0</td>\n",
       "    </tr>\n",
       "    <tr>\n",
       "      <th>...</th>\n",
       "      <td>...</td>\n",
       "      <td>...</td>\n",
       "      <td>...</td>\n",
       "    </tr>\n",
       "    <tr>\n",
       "      <th>81</th>\n",
       "      <td>5.4</td>\n",
       "      <td>107.0</td>\n",
       "      <td>0</td>\n",
       "    </tr>\n",
       "    <tr>\n",
       "      <th>45</th>\n",
       "      <td>6.0</td>\n",
       "      <td>66.0</td>\n",
       "      <td>1</td>\n",
       "    </tr>\n",
       "    <tr>\n",
       "      <th>72</th>\n",
       "      <td>7.3</td>\n",
       "      <td>116.0</td>\n",
       "      <td>1</td>\n",
       "    </tr>\n",
       "    <tr>\n",
       "      <th>65</th>\n",
       "      <td>8.1</td>\n",
       "      <td>166.0</td>\n",
       "      <td>1</td>\n",
       "    </tr>\n",
       "    <tr>\n",
       "      <th>36</th>\n",
       "      <td>5.7</td>\n",
       "      <td>140.0</td>\n",
       "      <td>0</td>\n",
       "    </tr>\n",
       "  </tbody>\n",
       "</table>\n",
       "<p>90 rows × 3 columns</p>\n",
       "</div>"
      ],
      "text/plain": [
       "    cgpa     iq  placement\n",
       "24   4.7  121.0          0\n",
       "37   8.1  149.0          1\n",
       "85   5.8  166.0          1\n",
       "89   4.9  151.0          0\n",
       "23   4.7   87.0          0\n",
       "..   ...    ...        ...\n",
       "81   5.4  107.0          0\n",
       "45   6.0   66.0          1\n",
       "72   7.3  116.0          1\n",
       "65   8.1  166.0          1\n",
       "36   5.7  140.0          0\n",
       "\n",
       "[90 rows x 3 columns]"
      ]
     },
     "execution_count": 71,
     "metadata": {},
     "output_type": "execute_result"
    }
   ],
   "source": [
    "x_train"
   ]
  },
  {
   "cell_type": "code",
   "execution_count": 72,
   "id": "304c2c3a",
   "metadata": {},
   "outputs": [
    {
     "data": {
      "application/vnd.microsoft.datawrangler.viewer.v0+json": {
       "columns": [
        {
         "name": "index",
         "rawType": "int64",
         "type": "integer"
        },
        {
         "name": "placement",
         "rawType": "int64",
         "type": "integer"
        }
       ],
       "ref": "505955cb-85a3-4216-b28d-fe1c1ad9d652",
       "rows": [
        [
         "24",
         "0"
        ],
        [
         "37",
         "1"
        ],
        [
         "85",
         "1"
        ],
        [
         "89",
         "0"
        ],
        [
         "23",
         "0"
        ],
        [
         "57",
         "1"
        ],
        [
         "64",
         "1"
        ],
        [
         "86",
         "0"
        ],
        [
         "28",
         "0"
        ],
        [
         "15",
         "0"
        ],
        [
         "70",
         "1"
        ],
        [
         "79",
         "1"
        ],
        [
         "93",
         "1"
        ],
        [
         "66",
         "1"
        ],
        [
         "43",
         "1"
        ],
        [
         "88",
         "0"
        ],
        [
         "9",
         "0"
        ],
        [
         "32",
         "1"
        ],
        [
         "3",
         "1"
        ],
        [
         "68",
         "0"
        ],
        [
         "60",
         "1"
        ],
        [
         "83",
         "1"
        ],
        [
         "2",
         "0"
        ],
        [
         "25",
         "0"
        ],
        [
         "34",
         "0"
        ],
        [
         "54",
         "1"
        ],
        [
         "27",
         "1"
        ],
        [
         "35",
         "1"
        ],
        [
         "10",
         "1"
        ],
        [
         "77",
         "1"
        ],
        [
         "18",
         "0"
        ],
        [
         "82",
         "1"
        ],
        [
         "62",
         "0"
        ],
        [
         "14",
         "0"
        ],
        [
         "8",
         "0"
        ],
        [
         "84",
         "0"
        ],
        [
         "4",
         "0"
        ],
        [
         "71",
         "1"
        ],
        [
         "96",
         "0"
        ],
        [
         "17",
         "0"
        ],
        [
         "42",
         "1"
        ],
        [
         "91",
         "1"
        ],
        [
         "38",
         "1"
        ],
        [
         "90",
         "1"
        ],
        [
         "31",
         "0"
        ],
        [
         "76",
         "0"
        ],
        [
         "74",
         "1"
        ],
        [
         "52",
         "1"
        ],
        [
         "46",
         "0"
        ],
        [
         "16",
         "0"
        ]
       ],
       "shape": {
        "columns": 1,
        "rows": 90
       }
      },
      "text/plain": [
       "24    0\n",
       "37    1\n",
       "85    1\n",
       "89    0\n",
       "23    0\n",
       "     ..\n",
       "81    0\n",
       "45    1\n",
       "72    1\n",
       "65    1\n",
       "36    0\n",
       "Name: placement, Length: 90, dtype: int64"
      ]
     },
     "execution_count": 72,
     "metadata": {},
     "output_type": "execute_result"
    }
   ],
   "source": [
    "y_train"
   ]
  },
  {
   "cell_type": "code",
   "execution_count": 73,
   "id": "27838626",
   "metadata": {},
   "outputs": [
    {
     "data": {
      "application/vnd.microsoft.datawrangler.viewer.v0+json": {
       "columns": [
        {
         "name": "index",
         "rawType": "int64",
         "type": "integer"
        },
        {
         "name": "placement",
         "rawType": "int64",
         "type": "integer"
        }
       ],
       "ref": "93a39d75-2743-4aa5-a4af-d0d555d3210f",
       "rows": [
        [
         "24",
         "0"
        ],
        [
         "37",
         "1"
        ],
        [
         "85",
         "1"
        ],
        [
         "89",
         "0"
        ],
        [
         "23",
         "0"
        ],
        [
         "57",
         "1"
        ],
        [
         "64",
         "1"
        ],
        [
         "86",
         "0"
        ],
        [
         "28",
         "0"
        ],
        [
         "15",
         "0"
        ],
        [
         "70",
         "1"
        ],
        [
         "79",
         "1"
        ],
        [
         "93",
         "1"
        ],
        [
         "66",
         "1"
        ],
        [
         "43",
         "1"
        ],
        [
         "88",
         "0"
        ],
        [
         "9",
         "0"
        ],
        [
         "32",
         "1"
        ],
        [
         "3",
         "1"
        ],
        [
         "68",
         "0"
        ],
        [
         "60",
         "1"
        ],
        [
         "83",
         "1"
        ],
        [
         "2",
         "0"
        ],
        [
         "25",
         "0"
        ],
        [
         "34",
         "0"
        ],
        [
         "54",
         "1"
        ],
        [
         "27",
         "1"
        ],
        [
         "35",
         "1"
        ],
        [
         "10",
         "1"
        ],
        [
         "77",
         "1"
        ],
        [
         "18",
         "0"
        ],
        [
         "82",
         "1"
        ],
        [
         "62",
         "0"
        ],
        [
         "14",
         "0"
        ],
        [
         "8",
         "0"
        ],
        [
         "84",
         "0"
        ],
        [
         "4",
         "0"
        ],
        [
         "71",
         "1"
        ],
        [
         "96",
         "0"
        ],
        [
         "17",
         "0"
        ],
        [
         "42",
         "1"
        ],
        [
         "91",
         "1"
        ],
        [
         "38",
         "1"
        ],
        [
         "90",
         "1"
        ],
        [
         "31",
         "0"
        ],
        [
         "76",
         "0"
        ],
        [
         "74",
         "1"
        ],
        [
         "52",
         "1"
        ],
        [
         "46",
         "0"
        ],
        [
         "16",
         "0"
        ]
       ],
       "shape": {
        "columns": 1,
        "rows": 90
       }
      },
      "text/plain": [
       "24    0\n",
       "37    1\n",
       "85    1\n",
       "89    0\n",
       "23    0\n",
       "     ..\n",
       "81    0\n",
       "45    1\n",
       "72    1\n",
       "65    1\n",
       "36    0\n",
       "Name: placement, Length: 90, dtype: int64"
      ]
     },
     "execution_count": 73,
     "metadata": {},
     "output_type": "execute_result"
    }
   ],
   "source": [
    "y_train.squeeze()"
   ]
  },
  {
   "cell_type": "code",
   "execution_count": 74,
   "id": "00de9234",
   "metadata": {},
   "outputs": [],
   "source": [
    "from sklearn.preprocessing import StandardScaler\n",
    "sc=StandardScaler()"
   ]
  },
  {
   "cell_type": "code",
   "execution_count": 75,
   "id": "bb906f13",
   "metadata": {},
   "outputs": [
    {
     "data": {
      "text/plain": [
       "array([[-1.15927583e+00, -7.22557150e-02, -1.00000000e+00],\n",
       "       [ 1.87008714e+00,  6.44612008e-01,  1.00000000e+00],\n",
       "       [-1.79187809e-01,  1.07985313e+00,  1.00000000e+00],\n",
       "       [-9.81078005e-01,  6.95816846e-01, -1.00000000e+00],\n",
       "       [-1.15927583e+00, -9.42737950e-01, -1.00000000e+00],\n",
       "       [ 4.44504565e-01,  1.58166053e-01,  1.00000000e+00],\n",
       "       [ 8.89999119e-01, -1.53159358e+00,  1.00000000e+00],\n",
       "       [-8.02880184e-01,  1.06961216e-01, -1.00000000e+00],\n",
       "       [-7.13781273e-01, -8.65930694e-01, -1.00000000e+00],\n",
       "       [-8.02880184e-01,  1.33587731e+00, -1.00000000e+00],\n",
       "       [ 2.66306744e-01,  8.13587972e-02,  1.00000000e+00],\n",
       "       [ 4.44504565e-01, -8.65930694e-01,  1.00000000e+00],\n",
       "       [ 7.11801297e-01, -3.02677483e-01,  1.00000000e+00],\n",
       "       [ 8.00900208e-01, -7.12316182e-01,  1.00000000e+00],\n",
       "       [ 7.11801297e-01,  4.39792659e-01,  1.00000000e+00],\n",
       "       [-1.42657256e+00,  6.44612008e-01, -1.00000000e+00],\n",
       "       [-8.02880184e-01, -1.48038874e+00, -1.00000000e+00],\n",
       "       [ 8.89999119e-01,  3.88587821e-01,  1.00000000e+00],\n",
       "       [ 1.24639476e+00,  2.09370891e-01,  1.00000000e+00],\n",
       "       [-1.78296820e+00, -1.24996697e+00, -1.00000000e+00],\n",
       "       [ 8.00900208e-01,  3.88587821e-01,  1.00000000e+00],\n",
       "       [ 1.33549367e+00,  1.58166053e-01,  1.00000000e+00],\n",
       "       [-6.24682362e-01, -7.22557150e-02, -1.00000000e+00],\n",
       "       [-8.91979094e-01, -8.40328276e-01, -1.00000000e+00],\n",
       "       [-1.07017692e+00,  1.00304587e+00, -1.00000000e+00],\n",
       "       [ 3.55405655e-01,  4.39792659e-01,  1.00000000e+00],\n",
       "       [-9.89987896e-04,  4.55154110e-03,  1.00000000e+00],\n",
       "       [ 7.11801297e-01, -8.65930694e-01,  1.00000000e+00],\n",
       "       [-9.89987896e-04, -2.01803954e+00,  1.00000000e+00],\n",
       "       [ 1.15729585e+00, -1.89002744e+00,  1.00000000e+00],\n",
       "       [-1.78296820e+00, -6.09906507e-01, -1.00000000e+00],\n",
       "       [ 4.44504565e-01, -2.22285888e+00,  1.00000000e+00],\n",
       "       [-9.89987896e-04, -5.58701670e-01, -1.00000000e+00],\n",
       "       [ 8.81089227e-02, -5.33099251e-01, -1.00000000e+00],\n",
       "       [ 8.81089227e-02,  8.23828939e-01, -1.00000000e+00],\n",
       "       [-2.68286720e-01,  1.15666038e+00, -1.00000000e+00],\n",
       "       [-1.79187809e-01,  4.65395077e-01, -1.00000000e+00],\n",
       "       [ 8.81089227e-02,  2.09370891e-01,  1.00000000e+00],\n",
       "       [-1.42657256e+00, -2.09484679e+00, -1.00000000e+00],\n",
       "       [-2.40666058e+00,  1.51509424e+00, -1.00000000e+00],\n",
       "       [ 1.42459258e+00, -8.91533113e-01,  1.00000000e+00],\n",
       "       [ 1.33549367e+00,  8.75033776e-01,  1.00000000e+00],\n",
       "       [ 4.44504565e-01,  9.26238614e-01,  1.00000000e+00],\n",
       "       [ 1.15729585e+00, -9.68340369e-01,  1.00000000e+00],\n",
       "       [-1.87206711e+00, -3.79484739e-01, -1.00000000e+00],\n",
       "       [-9.81078005e-01,  7.98226520e-01, -1.00000000e+00],\n",
       "       [ 6.22702387e-01,  7.72624102e-01,  1.00000000e+00],\n",
       "       [ 8.89999119e-01,  1.31027489e+00,  1.00000000e+00],\n",
       "       [-6.24682362e-01, -2.51472646e-01, -1.00000000e+00],\n",
       "       [-7.13781273e-01,  2.56479341e+00, -1.00000000e+00],\n",
       "       [-9.81078005e-01,  2.60575728e-01, -1.00000000e+00],\n",
       "       [-8.91979094e-01, -1.55719600e+00, -1.00000000e+00],\n",
       "       [ 9.79098029e-01,  6.95816846e-01,  1.00000000e+00],\n",
       "       [-1.15927583e+00, -1.83882260e+00, -1.00000000e+00],\n",
       "       [ 8.89999119e-01, -3.02677483e-01,  1.00000000e+00],\n",
       "       [ 2.04828496e+00,  1.13105796e+00,  1.00000000e+00],\n",
       "       [ 6.22702387e-01,  1.48949182e+00,  1.00000000e+00],\n",
       "       [-1.51567147e+00,  1.95033536e+00, -1.00000000e+00],\n",
       "       [ 5.33603476e-01,  3.62985403e-01,  1.00000000e+00],\n",
       "       [-2.68286720e-01,  4.90997496e-01, -1.00000000e+00],\n",
       "       [-7.13781273e-01,  2.09370891e-01, -1.00000000e+00],\n",
       "       [ 2.22648278e+00, -9.78581336e-02,  1.00000000e+00],\n",
       "       [-5.35583452e-01, -2.51472646e-01, -1.00000000e+00],\n",
       "       [ 8.00900208e-01,  3.62985403e-01,  1.00000000e+00],\n",
       "       [-9.89987896e-04,  6.44612008e-01, -1.00000000e+00],\n",
       "       [-1.07017692e+00,  4.39792659e-01, -1.00000000e+00],\n",
       "       [-1.07017692e+00, -3.02677483e-01, -1.00000000e+00],\n",
       "       [ 8.81089227e-02, -1.50599116e+00, -1.00000000e+00],\n",
       "       [-9.81078005e-01, -1.60840084e+00, -1.00000000e+00],\n",
       "       [-9.00888985e-02, -4.56291995e-01, -1.00000000e+00],\n",
       "       [ 2.66306744e-01, -5.33099251e-01,  1.00000000e+00],\n",
       "       [-5.35583452e-01,  2.86178147e-01, -1.00000000e+00],\n",
       "       [-7.13781273e-01, -3.53882321e-01, -1.00000000e+00],\n",
       "       [ 1.15729585e+00,  3.37382984e-01,  1.00000000e+00],\n",
       "       [ 1.42459258e+00,  1.06961216e-01,  1.00000000e+00],\n",
       "       [-2.68286720e-01,  2.09370891e-01,  1.00000000e+00],\n",
       "       [ 8.89999119e-01,  1.92473294e+00,  1.00000000e+00],\n",
       "       [ 7.11801297e-01, -2.10508776e-02,  1.00000000e+00],\n",
       "       [-1.07017692e+00,  1.15666038e+00, -1.00000000e+00],\n",
       "       [ 5.33603476e-01, -9.78581336e-02,  1.00000000e+00],\n",
       "       [-7.13781273e-01,  9.51841032e-01, -1.00000000e+00],\n",
       "       [-9.81078005e-01, -9.78581336e-02, -1.00000000e+00],\n",
       "       [ 1.60279040e+00, -2.51472646e-01,  1.00000000e+00],\n",
       "       [-9.81078005e-01,  1.84792569e+00, -1.00000000e+00],\n",
       "       [ 9.79098029e-01, -1.94123228e+00,  1.00000000e+00],\n",
       "       [-5.35583452e-01, -4.30689577e-01, -1.00000000e+00],\n",
       "       [-9.89987896e-04, -1.48038874e+00,  1.00000000e+00],\n",
       "       [ 1.15729585e+00, -2.00267808e-01,  1.00000000e+00],\n",
       "       [ 1.87008714e+00,  1.07985313e+00,  1.00000000e+00],\n",
       "       [-2.68286720e-01,  4.14190240e-01, -1.00000000e+00]])"
      ]
     },
     "execution_count": 75,
     "metadata": {},
     "output_type": "execute_result"
    }
   ],
   "source": [
    "x_train=sc.fit_transform(x_train)\n",
    "x_train"
   ]
  },
  {
   "cell_type": "code",
   "execution_count": 76,
   "id": "bbfab3f4",
   "metadata": {},
   "outputs": [
    {
     "data": {
      "text/plain": [
       "array([[ 0.26630674,  0.10696122,  1.        ],\n",
       "       [ 0.35540565, -0.20026781,  1.        ],\n",
       "       [-0.89197909, -0.14906297, -1.        ],\n",
       "       [ 1.78098822, -1.1475573 ,  1.        ],\n",
       "       [-0.53558345,  0.38858782, -1.        ],\n",
       "       [ 0.17720783, -0.27707506,  1.        ],\n",
       "       [ 0.08810892, -1.09635246, -1.        ],\n",
       "       [-2.22846275,  2.79521518, -1.        ],\n",
       "       [-1.24837474,  0.56780475, -1.        ],\n",
       "       [ 1.33549367, -1.60840084,  1.        ]])"
      ]
     },
     "execution_count": 76,
     "metadata": {},
     "output_type": "execute_result"
    }
   ],
   "source": [
    "x_test=sc.transform(x_test)\n",
    "x_test"
   ]
  },
  {
   "cell_type": "code",
   "execution_count": 77,
   "id": "e4313221",
   "metadata": {},
   "outputs": [],
   "source": [
    "from sklearn.linear_model import LogisticRegression\n",
    "lr=LogisticRegression()"
   ]
  },
  {
   "cell_type": "code",
   "execution_count": 78,
   "id": "5b830367",
   "metadata": {},
   "outputs": [
    {
     "data": {
      "text/html": [
       "<style>#sk-container-id-3 {\n",
       "  /* Definition of color scheme common for light and dark mode */\n",
       "  --sklearn-color-text: #000;\n",
       "  --sklearn-color-text-muted: #666;\n",
       "  --sklearn-color-line: gray;\n",
       "  /* Definition of color scheme for unfitted estimators */\n",
       "  --sklearn-color-unfitted-level-0: #fff5e6;\n",
       "  --sklearn-color-unfitted-level-1: #f6e4d2;\n",
       "  --sklearn-color-unfitted-level-2: #ffe0b3;\n",
       "  --sklearn-color-unfitted-level-3: chocolate;\n",
       "  /* Definition of color scheme for fitted estimators */\n",
       "  --sklearn-color-fitted-level-0: #f0f8ff;\n",
       "  --sklearn-color-fitted-level-1: #d4ebff;\n",
       "  --sklearn-color-fitted-level-2: #b3dbfd;\n",
       "  --sklearn-color-fitted-level-3: cornflowerblue;\n",
       "\n",
       "  /* Specific color for light theme */\n",
       "  --sklearn-color-text-on-default-background: var(--sg-text-color, var(--theme-code-foreground, var(--jp-content-font-color1, black)));\n",
       "  --sklearn-color-background: var(--sg-background-color, var(--theme-background, var(--jp-layout-color0, white)));\n",
       "  --sklearn-color-border-box: var(--sg-text-color, var(--theme-code-foreground, var(--jp-content-font-color1, black)));\n",
       "  --sklearn-color-icon: #696969;\n",
       "\n",
       "  @media (prefers-color-scheme: dark) {\n",
       "    /* Redefinition of color scheme for dark theme */\n",
       "    --sklearn-color-text-on-default-background: var(--sg-text-color, var(--theme-code-foreground, var(--jp-content-font-color1, white)));\n",
       "    --sklearn-color-background: var(--sg-background-color, var(--theme-background, var(--jp-layout-color0, #111)));\n",
       "    --sklearn-color-border-box: var(--sg-text-color, var(--theme-code-foreground, var(--jp-content-font-color1, white)));\n",
       "    --sklearn-color-icon: #878787;\n",
       "  }\n",
       "}\n",
       "\n",
       "#sk-container-id-3 {\n",
       "  color: var(--sklearn-color-text);\n",
       "}\n",
       "\n",
       "#sk-container-id-3 pre {\n",
       "  padding: 0;\n",
       "}\n",
       "\n",
       "#sk-container-id-3 input.sk-hidden--visually {\n",
       "  border: 0;\n",
       "  clip: rect(1px 1px 1px 1px);\n",
       "  clip: rect(1px, 1px, 1px, 1px);\n",
       "  height: 1px;\n",
       "  margin: -1px;\n",
       "  overflow: hidden;\n",
       "  padding: 0;\n",
       "  position: absolute;\n",
       "  width: 1px;\n",
       "}\n",
       "\n",
       "#sk-container-id-3 div.sk-dashed-wrapped {\n",
       "  border: 1px dashed var(--sklearn-color-line);\n",
       "  margin: 0 0.4em 0.5em 0.4em;\n",
       "  box-sizing: border-box;\n",
       "  padding-bottom: 0.4em;\n",
       "  background-color: var(--sklearn-color-background);\n",
       "}\n",
       "\n",
       "#sk-container-id-3 div.sk-container {\n",
       "  /* jupyter's `normalize.less` sets `[hidden] { display: none; }`\n",
       "     but bootstrap.min.css set `[hidden] { display: none !important; }`\n",
       "     so we also need the `!important` here to be able to override the\n",
       "     default hidden behavior on the sphinx rendered scikit-learn.org.\n",
       "     See: https://github.com/scikit-learn/scikit-learn/issues/21755 */\n",
       "  display: inline-block !important;\n",
       "  position: relative;\n",
       "}\n",
       "\n",
       "#sk-container-id-3 div.sk-text-repr-fallback {\n",
       "  display: none;\n",
       "}\n",
       "\n",
       "div.sk-parallel-item,\n",
       "div.sk-serial,\n",
       "div.sk-item {\n",
       "  /* draw centered vertical line to link estimators */\n",
       "  background-image: linear-gradient(var(--sklearn-color-text-on-default-background), var(--sklearn-color-text-on-default-background));\n",
       "  background-size: 2px 100%;\n",
       "  background-repeat: no-repeat;\n",
       "  background-position: center center;\n",
       "}\n",
       "\n",
       "/* Parallel-specific style estimator block */\n",
       "\n",
       "#sk-container-id-3 div.sk-parallel-item::after {\n",
       "  content: \"\";\n",
       "  width: 100%;\n",
       "  border-bottom: 2px solid var(--sklearn-color-text-on-default-background);\n",
       "  flex-grow: 1;\n",
       "}\n",
       "\n",
       "#sk-container-id-3 div.sk-parallel {\n",
       "  display: flex;\n",
       "  align-items: stretch;\n",
       "  justify-content: center;\n",
       "  background-color: var(--sklearn-color-background);\n",
       "  position: relative;\n",
       "}\n",
       "\n",
       "#sk-container-id-3 div.sk-parallel-item {\n",
       "  display: flex;\n",
       "  flex-direction: column;\n",
       "}\n",
       "\n",
       "#sk-container-id-3 div.sk-parallel-item:first-child::after {\n",
       "  align-self: flex-end;\n",
       "  width: 50%;\n",
       "}\n",
       "\n",
       "#sk-container-id-3 div.sk-parallel-item:last-child::after {\n",
       "  align-self: flex-start;\n",
       "  width: 50%;\n",
       "}\n",
       "\n",
       "#sk-container-id-3 div.sk-parallel-item:only-child::after {\n",
       "  width: 0;\n",
       "}\n",
       "\n",
       "/* Serial-specific style estimator block */\n",
       "\n",
       "#sk-container-id-3 div.sk-serial {\n",
       "  display: flex;\n",
       "  flex-direction: column;\n",
       "  align-items: center;\n",
       "  background-color: var(--sklearn-color-background);\n",
       "  padding-right: 1em;\n",
       "  padding-left: 1em;\n",
       "}\n",
       "\n",
       "\n",
       "/* Toggleable style: style used for estimator/Pipeline/ColumnTransformer box that is\n",
       "clickable and can be expanded/collapsed.\n",
       "- Pipeline and ColumnTransformer use this feature and define the default style\n",
       "- Estimators will overwrite some part of the style using the `sk-estimator` class\n",
       "*/\n",
       "\n",
       "/* Pipeline and ColumnTransformer style (default) */\n",
       "\n",
       "#sk-container-id-3 div.sk-toggleable {\n",
       "  /* Default theme specific background. It is overwritten whether we have a\n",
       "  specific estimator or a Pipeline/ColumnTransformer */\n",
       "  background-color: var(--sklearn-color-background);\n",
       "}\n",
       "\n",
       "/* Toggleable label */\n",
       "#sk-container-id-3 label.sk-toggleable__label {\n",
       "  cursor: pointer;\n",
       "  display: flex;\n",
       "  width: 100%;\n",
       "  margin-bottom: 0;\n",
       "  padding: 0.5em;\n",
       "  box-sizing: border-box;\n",
       "  text-align: center;\n",
       "  align-items: start;\n",
       "  justify-content: space-between;\n",
       "  gap: 0.5em;\n",
       "}\n",
       "\n",
       "#sk-container-id-3 label.sk-toggleable__label .caption {\n",
       "  font-size: 0.6rem;\n",
       "  font-weight: lighter;\n",
       "  color: var(--sklearn-color-text-muted);\n",
       "}\n",
       "\n",
       "#sk-container-id-3 label.sk-toggleable__label-arrow:before {\n",
       "  /* Arrow on the left of the label */\n",
       "  content: \"▸\";\n",
       "  float: left;\n",
       "  margin-right: 0.25em;\n",
       "  color: var(--sklearn-color-icon);\n",
       "}\n",
       "\n",
       "#sk-container-id-3 label.sk-toggleable__label-arrow:hover:before {\n",
       "  color: var(--sklearn-color-text);\n",
       "}\n",
       "\n",
       "/* Toggleable content - dropdown */\n",
       "\n",
       "#sk-container-id-3 div.sk-toggleable__content {\n",
       "  display: none;\n",
       "  text-align: left;\n",
       "  /* unfitted */\n",
       "  background-color: var(--sklearn-color-unfitted-level-0);\n",
       "}\n",
       "\n",
       "#sk-container-id-3 div.sk-toggleable__content.fitted {\n",
       "  /* fitted */\n",
       "  background-color: var(--sklearn-color-fitted-level-0);\n",
       "}\n",
       "\n",
       "#sk-container-id-3 div.sk-toggleable__content pre {\n",
       "  margin: 0.2em;\n",
       "  border-radius: 0.25em;\n",
       "  color: var(--sklearn-color-text);\n",
       "  /* unfitted */\n",
       "  background-color: var(--sklearn-color-unfitted-level-0);\n",
       "}\n",
       "\n",
       "#sk-container-id-3 div.sk-toggleable__content.fitted pre {\n",
       "  /* unfitted */\n",
       "  background-color: var(--sklearn-color-fitted-level-0);\n",
       "}\n",
       "\n",
       "#sk-container-id-3 input.sk-toggleable__control:checked~div.sk-toggleable__content {\n",
       "  /* Expand drop-down */\n",
       "  display: block;\n",
       "  width: 100%;\n",
       "  overflow: visible;\n",
       "}\n",
       "\n",
       "#sk-container-id-3 input.sk-toggleable__control:checked~label.sk-toggleable__label-arrow:before {\n",
       "  content: \"▾\";\n",
       "}\n",
       "\n",
       "/* Pipeline/ColumnTransformer-specific style */\n",
       "\n",
       "#sk-container-id-3 div.sk-label input.sk-toggleable__control:checked~label.sk-toggleable__label {\n",
       "  color: var(--sklearn-color-text);\n",
       "  background-color: var(--sklearn-color-unfitted-level-2);\n",
       "}\n",
       "\n",
       "#sk-container-id-3 div.sk-label.fitted input.sk-toggleable__control:checked~label.sk-toggleable__label {\n",
       "  background-color: var(--sklearn-color-fitted-level-2);\n",
       "}\n",
       "\n",
       "/* Estimator-specific style */\n",
       "\n",
       "/* Colorize estimator box */\n",
       "#sk-container-id-3 div.sk-estimator input.sk-toggleable__control:checked~label.sk-toggleable__label {\n",
       "  /* unfitted */\n",
       "  background-color: var(--sklearn-color-unfitted-level-2);\n",
       "}\n",
       "\n",
       "#sk-container-id-3 div.sk-estimator.fitted input.sk-toggleable__control:checked~label.sk-toggleable__label {\n",
       "  /* fitted */\n",
       "  background-color: var(--sklearn-color-fitted-level-2);\n",
       "}\n",
       "\n",
       "#sk-container-id-3 div.sk-label label.sk-toggleable__label,\n",
       "#sk-container-id-3 div.sk-label label {\n",
       "  /* The background is the default theme color */\n",
       "  color: var(--sklearn-color-text-on-default-background);\n",
       "}\n",
       "\n",
       "/* On hover, darken the color of the background */\n",
       "#sk-container-id-3 div.sk-label:hover label.sk-toggleable__label {\n",
       "  color: var(--sklearn-color-text);\n",
       "  background-color: var(--sklearn-color-unfitted-level-2);\n",
       "}\n",
       "\n",
       "/* Label box, darken color on hover, fitted */\n",
       "#sk-container-id-3 div.sk-label.fitted:hover label.sk-toggleable__label.fitted {\n",
       "  color: var(--sklearn-color-text);\n",
       "  background-color: var(--sklearn-color-fitted-level-2);\n",
       "}\n",
       "\n",
       "/* Estimator label */\n",
       "\n",
       "#sk-container-id-3 div.sk-label label {\n",
       "  font-family: monospace;\n",
       "  font-weight: bold;\n",
       "  display: inline-block;\n",
       "  line-height: 1.2em;\n",
       "}\n",
       "\n",
       "#sk-container-id-3 div.sk-label-container {\n",
       "  text-align: center;\n",
       "}\n",
       "\n",
       "/* Estimator-specific */\n",
       "#sk-container-id-3 div.sk-estimator {\n",
       "  font-family: monospace;\n",
       "  border: 1px dotted var(--sklearn-color-border-box);\n",
       "  border-radius: 0.25em;\n",
       "  box-sizing: border-box;\n",
       "  margin-bottom: 0.5em;\n",
       "  /* unfitted */\n",
       "  background-color: var(--sklearn-color-unfitted-level-0);\n",
       "}\n",
       "\n",
       "#sk-container-id-3 div.sk-estimator.fitted {\n",
       "  /* fitted */\n",
       "  background-color: var(--sklearn-color-fitted-level-0);\n",
       "}\n",
       "\n",
       "/* on hover */\n",
       "#sk-container-id-3 div.sk-estimator:hover {\n",
       "  /* unfitted */\n",
       "  background-color: var(--sklearn-color-unfitted-level-2);\n",
       "}\n",
       "\n",
       "#sk-container-id-3 div.sk-estimator.fitted:hover {\n",
       "  /* fitted */\n",
       "  background-color: var(--sklearn-color-fitted-level-2);\n",
       "}\n",
       "\n",
       "/* Specification for estimator info (e.g. \"i\" and \"?\") */\n",
       "\n",
       "/* Common style for \"i\" and \"?\" */\n",
       "\n",
       ".sk-estimator-doc-link,\n",
       "a:link.sk-estimator-doc-link,\n",
       "a:visited.sk-estimator-doc-link {\n",
       "  float: right;\n",
       "  font-size: smaller;\n",
       "  line-height: 1em;\n",
       "  font-family: monospace;\n",
       "  background-color: var(--sklearn-color-background);\n",
       "  border-radius: 1em;\n",
       "  height: 1em;\n",
       "  width: 1em;\n",
       "  text-decoration: none !important;\n",
       "  margin-left: 0.5em;\n",
       "  text-align: center;\n",
       "  /* unfitted */\n",
       "  border: var(--sklearn-color-unfitted-level-1) 1pt solid;\n",
       "  color: var(--sklearn-color-unfitted-level-1);\n",
       "}\n",
       "\n",
       ".sk-estimator-doc-link.fitted,\n",
       "a:link.sk-estimator-doc-link.fitted,\n",
       "a:visited.sk-estimator-doc-link.fitted {\n",
       "  /* fitted */\n",
       "  border: var(--sklearn-color-fitted-level-1) 1pt solid;\n",
       "  color: var(--sklearn-color-fitted-level-1);\n",
       "}\n",
       "\n",
       "/* On hover */\n",
       "div.sk-estimator:hover .sk-estimator-doc-link:hover,\n",
       ".sk-estimator-doc-link:hover,\n",
       "div.sk-label-container:hover .sk-estimator-doc-link:hover,\n",
       ".sk-estimator-doc-link:hover {\n",
       "  /* unfitted */\n",
       "  background-color: var(--sklearn-color-unfitted-level-3);\n",
       "  color: var(--sklearn-color-background);\n",
       "  text-decoration: none;\n",
       "}\n",
       "\n",
       "div.sk-estimator.fitted:hover .sk-estimator-doc-link.fitted:hover,\n",
       ".sk-estimator-doc-link.fitted:hover,\n",
       "div.sk-label-container:hover .sk-estimator-doc-link.fitted:hover,\n",
       ".sk-estimator-doc-link.fitted:hover {\n",
       "  /* fitted */\n",
       "  background-color: var(--sklearn-color-fitted-level-3);\n",
       "  color: var(--sklearn-color-background);\n",
       "  text-decoration: none;\n",
       "}\n",
       "\n",
       "/* Span, style for the box shown on hovering the info icon */\n",
       ".sk-estimator-doc-link span {\n",
       "  display: none;\n",
       "  z-index: 9999;\n",
       "  position: relative;\n",
       "  font-weight: normal;\n",
       "  right: .2ex;\n",
       "  padding: .5ex;\n",
       "  margin: .5ex;\n",
       "  width: min-content;\n",
       "  min-width: 20ex;\n",
       "  max-width: 50ex;\n",
       "  color: var(--sklearn-color-text);\n",
       "  box-shadow: 2pt 2pt 4pt #999;\n",
       "  /* unfitted */\n",
       "  background: var(--sklearn-color-unfitted-level-0);\n",
       "  border: .5pt solid var(--sklearn-color-unfitted-level-3);\n",
       "}\n",
       "\n",
       ".sk-estimator-doc-link.fitted span {\n",
       "  /* fitted */\n",
       "  background: var(--sklearn-color-fitted-level-0);\n",
       "  border: var(--sklearn-color-fitted-level-3);\n",
       "}\n",
       "\n",
       ".sk-estimator-doc-link:hover span {\n",
       "  display: block;\n",
       "}\n",
       "\n",
       "/* \"?\"-specific style due to the `<a>` HTML tag */\n",
       "\n",
       "#sk-container-id-3 a.estimator_doc_link {\n",
       "  float: right;\n",
       "  font-size: 1rem;\n",
       "  line-height: 1em;\n",
       "  font-family: monospace;\n",
       "  background-color: var(--sklearn-color-background);\n",
       "  border-radius: 1rem;\n",
       "  height: 1rem;\n",
       "  width: 1rem;\n",
       "  text-decoration: none;\n",
       "  /* unfitted */\n",
       "  color: var(--sklearn-color-unfitted-level-1);\n",
       "  border: var(--sklearn-color-unfitted-level-1) 1pt solid;\n",
       "}\n",
       "\n",
       "#sk-container-id-3 a.estimator_doc_link.fitted {\n",
       "  /* fitted */\n",
       "  border: var(--sklearn-color-fitted-level-1) 1pt solid;\n",
       "  color: var(--sklearn-color-fitted-level-1);\n",
       "}\n",
       "\n",
       "/* On hover */\n",
       "#sk-container-id-3 a.estimator_doc_link:hover {\n",
       "  /* unfitted */\n",
       "  background-color: var(--sklearn-color-unfitted-level-3);\n",
       "  color: var(--sklearn-color-background);\n",
       "  text-decoration: none;\n",
       "}\n",
       "\n",
       "#sk-container-id-3 a.estimator_doc_link.fitted:hover {\n",
       "  /* fitted */\n",
       "  background-color: var(--sklearn-color-fitted-level-3);\n",
       "}\n",
       "\n",
       ".estimator-table summary {\n",
       "    padding: .5rem;\n",
       "    font-family: monospace;\n",
       "    cursor: pointer;\n",
       "}\n",
       "\n",
       ".estimator-table details[open] {\n",
       "    padding-left: 0.1rem;\n",
       "    padding-right: 0.1rem;\n",
       "    padding-bottom: 0.3rem;\n",
       "}\n",
       "\n",
       ".estimator-table .parameters-table {\n",
       "    margin-left: auto !important;\n",
       "    margin-right: auto !important;\n",
       "}\n",
       "\n",
       ".estimator-table .parameters-table tr:nth-child(odd) {\n",
       "    background-color: #fff;\n",
       "}\n",
       "\n",
       ".estimator-table .parameters-table tr:nth-child(even) {\n",
       "    background-color: #f6f6f6;\n",
       "}\n",
       "\n",
       ".estimator-table .parameters-table tr:hover {\n",
       "    background-color: #e0e0e0;\n",
       "}\n",
       "\n",
       ".estimator-table table td {\n",
       "    border: 1px solid rgba(106, 105, 104, 0.232);\n",
       "}\n",
       "\n",
       ".user-set td {\n",
       "    color:rgb(255, 94, 0);\n",
       "    text-align: left;\n",
       "}\n",
       "\n",
       ".user-set td.value pre {\n",
       "    color:rgb(255, 94, 0) !important;\n",
       "    background-color: transparent !important;\n",
       "}\n",
       "\n",
       ".default td {\n",
       "    color: black;\n",
       "    text-align: left;\n",
       "}\n",
       "\n",
       ".user-set td i,\n",
       ".default td i {\n",
       "    color: black;\n",
       "}\n",
       "\n",
       ".copy-paste-icon {\n",
       "    background-image: url(data:image/svg+xml;base64,PHN2ZyB4bWxucz0iaHR0cDovL3d3dy53My5vcmcvMjAwMC9zdmciIHZpZXdCb3g9IjAgMCA0NDggNTEyIj48IS0tIUZvbnQgQXdlc29tZSBGcmVlIDYuNy4yIGJ5IEBmb250YXdlc29tZSAtIGh0dHBzOi8vZm9udGF3ZXNvbWUuY29tIExpY2Vuc2UgLSBodHRwczovL2ZvbnRhd2Vzb21lLmNvbS9saWNlbnNlL2ZyZWUgQ29weXJpZ2h0IDIwMjUgRm9udGljb25zLCBJbmMuLS0+PHBhdGggZD0iTTIwOCAwTDMzMi4xIDBjMTIuNyAwIDI0LjkgNS4xIDMzLjkgMTQuMWw2Ny45IDY3LjljOSA5IDE0LjEgMjEuMiAxNC4xIDMzLjlMNDQ4IDMzNmMwIDI2LjUtMjEuNSA0OC00OCA0OGwtMTkyIDBjLTI2LjUgMC00OC0yMS41LTQ4LTQ4bDAtMjg4YzAtMjYuNSAyMS41LTQ4IDQ4LTQ4ek00OCAxMjhsODAgMCAwIDY0LTY0IDAgMCAyNTYgMTkyIDAgMC0zMiA2NCAwIDAgNDhjMCAyNi41LTIxLjUgNDgtNDggNDhMNDggNTEyYy0yNi41IDAtNDgtMjEuNS00OC00OEwwIDE3NmMwLTI2LjUgMjEuNS00OCA0OC00OHoiLz48L3N2Zz4=);\n",
       "    background-repeat: no-repeat;\n",
       "    background-size: 14px 14px;\n",
       "    background-position: 0;\n",
       "    display: inline-block;\n",
       "    width: 14px;\n",
       "    height: 14px;\n",
       "    cursor: pointer;\n",
       "}\n",
       "</style><body><div id=\"sk-container-id-3\" class=\"sk-top-container\"><div class=\"sk-text-repr-fallback\"><pre>LogisticRegression()</pre><b>In a Jupyter environment, please rerun this cell to show the HTML representation or trust the notebook. <br />On GitHub, the HTML representation is unable to render, please try loading this page with nbviewer.org.</b></div><div class=\"sk-container\" hidden><div class=\"sk-item\"><div class=\"sk-estimator fitted sk-toggleable\"><input class=\"sk-toggleable__control sk-hidden--visually\" id=\"sk-estimator-id-3\" type=\"checkbox\" checked><label for=\"sk-estimator-id-3\" class=\"sk-toggleable__label fitted sk-toggleable__label-arrow\"><div><div>LogisticRegression</div></div><div><a class=\"sk-estimator-doc-link fitted\" rel=\"noreferrer\" target=\"_blank\" href=\"https://scikit-learn.org/1.7/modules/generated/sklearn.linear_model.LogisticRegression.html\">?<span>Documentation for LogisticRegression</span></a><span class=\"sk-estimator-doc-link fitted\">i<span>Fitted</span></span></div></label><div class=\"sk-toggleable__content fitted\" data-param-prefix=\"\">\n",
       "        <div class=\"estimator-table\">\n",
       "            <details>\n",
       "                <summary>Parameters</summary>\n",
       "                <table class=\"parameters-table\">\n",
       "                  <tbody>\n",
       "                    \n",
       "        <tr class=\"default\">\n",
       "            <td><i class=\"copy-paste-icon\"\n",
       "                 onclick=\"copyToClipboard('penalty',\n",
       "                          this.parentElement.nextElementSibling)\"\n",
       "            ></i></td>\n",
       "            <td class=\"param\">penalty&nbsp;</td>\n",
       "            <td class=\"value\">&#x27;l2&#x27;</td>\n",
       "        </tr>\n",
       "    \n",
       "\n",
       "        <tr class=\"default\">\n",
       "            <td><i class=\"copy-paste-icon\"\n",
       "                 onclick=\"copyToClipboard('dual',\n",
       "                          this.parentElement.nextElementSibling)\"\n",
       "            ></i></td>\n",
       "            <td class=\"param\">dual&nbsp;</td>\n",
       "            <td class=\"value\">False</td>\n",
       "        </tr>\n",
       "    \n",
       "\n",
       "        <tr class=\"default\">\n",
       "            <td><i class=\"copy-paste-icon\"\n",
       "                 onclick=\"copyToClipboard('tol',\n",
       "                          this.parentElement.nextElementSibling)\"\n",
       "            ></i></td>\n",
       "            <td class=\"param\">tol&nbsp;</td>\n",
       "            <td class=\"value\">0.0001</td>\n",
       "        </tr>\n",
       "    \n",
       "\n",
       "        <tr class=\"default\">\n",
       "            <td><i class=\"copy-paste-icon\"\n",
       "                 onclick=\"copyToClipboard('C',\n",
       "                          this.parentElement.nextElementSibling)\"\n",
       "            ></i></td>\n",
       "            <td class=\"param\">C&nbsp;</td>\n",
       "            <td class=\"value\">1.0</td>\n",
       "        </tr>\n",
       "    \n",
       "\n",
       "        <tr class=\"default\">\n",
       "            <td><i class=\"copy-paste-icon\"\n",
       "                 onclick=\"copyToClipboard('fit_intercept',\n",
       "                          this.parentElement.nextElementSibling)\"\n",
       "            ></i></td>\n",
       "            <td class=\"param\">fit_intercept&nbsp;</td>\n",
       "            <td class=\"value\">True</td>\n",
       "        </tr>\n",
       "    \n",
       "\n",
       "        <tr class=\"default\">\n",
       "            <td><i class=\"copy-paste-icon\"\n",
       "                 onclick=\"copyToClipboard('intercept_scaling',\n",
       "                          this.parentElement.nextElementSibling)\"\n",
       "            ></i></td>\n",
       "            <td class=\"param\">intercept_scaling&nbsp;</td>\n",
       "            <td class=\"value\">1</td>\n",
       "        </tr>\n",
       "    \n",
       "\n",
       "        <tr class=\"default\">\n",
       "            <td><i class=\"copy-paste-icon\"\n",
       "                 onclick=\"copyToClipboard('class_weight',\n",
       "                          this.parentElement.nextElementSibling)\"\n",
       "            ></i></td>\n",
       "            <td class=\"param\">class_weight&nbsp;</td>\n",
       "            <td class=\"value\">None</td>\n",
       "        </tr>\n",
       "    \n",
       "\n",
       "        <tr class=\"default\">\n",
       "            <td><i class=\"copy-paste-icon\"\n",
       "                 onclick=\"copyToClipboard('random_state',\n",
       "                          this.parentElement.nextElementSibling)\"\n",
       "            ></i></td>\n",
       "            <td class=\"param\">random_state&nbsp;</td>\n",
       "            <td class=\"value\">None</td>\n",
       "        </tr>\n",
       "    \n",
       "\n",
       "        <tr class=\"default\">\n",
       "            <td><i class=\"copy-paste-icon\"\n",
       "                 onclick=\"copyToClipboard('solver',\n",
       "                          this.parentElement.nextElementSibling)\"\n",
       "            ></i></td>\n",
       "            <td class=\"param\">solver&nbsp;</td>\n",
       "            <td class=\"value\">&#x27;lbfgs&#x27;</td>\n",
       "        </tr>\n",
       "    \n",
       "\n",
       "        <tr class=\"default\">\n",
       "            <td><i class=\"copy-paste-icon\"\n",
       "                 onclick=\"copyToClipboard('max_iter',\n",
       "                          this.parentElement.nextElementSibling)\"\n",
       "            ></i></td>\n",
       "            <td class=\"param\">max_iter&nbsp;</td>\n",
       "            <td class=\"value\">100</td>\n",
       "        </tr>\n",
       "    \n",
       "\n",
       "        <tr class=\"default\">\n",
       "            <td><i class=\"copy-paste-icon\"\n",
       "                 onclick=\"copyToClipboard('multi_class',\n",
       "                          this.parentElement.nextElementSibling)\"\n",
       "            ></i></td>\n",
       "            <td class=\"param\">multi_class&nbsp;</td>\n",
       "            <td class=\"value\">&#x27;deprecated&#x27;</td>\n",
       "        </tr>\n",
       "    \n",
       "\n",
       "        <tr class=\"default\">\n",
       "            <td><i class=\"copy-paste-icon\"\n",
       "                 onclick=\"copyToClipboard('verbose',\n",
       "                          this.parentElement.nextElementSibling)\"\n",
       "            ></i></td>\n",
       "            <td class=\"param\">verbose&nbsp;</td>\n",
       "            <td class=\"value\">0</td>\n",
       "        </tr>\n",
       "    \n",
       "\n",
       "        <tr class=\"default\">\n",
       "            <td><i class=\"copy-paste-icon\"\n",
       "                 onclick=\"copyToClipboard('warm_start',\n",
       "                          this.parentElement.nextElementSibling)\"\n",
       "            ></i></td>\n",
       "            <td class=\"param\">warm_start&nbsp;</td>\n",
       "            <td class=\"value\">False</td>\n",
       "        </tr>\n",
       "    \n",
       "\n",
       "        <tr class=\"default\">\n",
       "            <td><i class=\"copy-paste-icon\"\n",
       "                 onclick=\"copyToClipboard('n_jobs',\n",
       "                          this.parentElement.nextElementSibling)\"\n",
       "            ></i></td>\n",
       "            <td class=\"param\">n_jobs&nbsp;</td>\n",
       "            <td class=\"value\">None</td>\n",
       "        </tr>\n",
       "    \n",
       "\n",
       "        <tr class=\"default\">\n",
       "            <td><i class=\"copy-paste-icon\"\n",
       "                 onclick=\"copyToClipboard('l1_ratio',\n",
       "                          this.parentElement.nextElementSibling)\"\n",
       "            ></i></td>\n",
       "            <td class=\"param\">l1_ratio&nbsp;</td>\n",
       "            <td class=\"value\">None</td>\n",
       "        </tr>\n",
       "    \n",
       "                  </tbody>\n",
       "                </table>\n",
       "            </details>\n",
       "        </div>\n",
       "    </div></div></div></div></div><script>function copyToClipboard(text, element) {\n",
       "    // Get the parameter prefix from the closest toggleable content\n",
       "    const toggleableContent = element.closest('.sk-toggleable__content');\n",
       "    const paramPrefix = toggleableContent ? toggleableContent.dataset.paramPrefix : '';\n",
       "    const fullParamName = paramPrefix ? `${paramPrefix}${text}` : text;\n",
       "\n",
       "    const originalStyle = element.style;\n",
       "    const computedStyle = window.getComputedStyle(element);\n",
       "    const originalWidth = computedStyle.width;\n",
       "    const originalHTML = element.innerHTML.replace('Copied!', '');\n",
       "\n",
       "    navigator.clipboard.writeText(fullParamName)\n",
       "        .then(() => {\n",
       "            element.style.width = originalWidth;\n",
       "            element.style.color = 'green';\n",
       "            element.innerHTML = \"Copied!\";\n",
       "\n",
       "            setTimeout(() => {\n",
       "                element.innerHTML = originalHTML;\n",
       "                element.style = originalStyle;\n",
       "            }, 2000);\n",
       "        })\n",
       "        .catch(err => {\n",
       "            console.error('Failed to copy:', err);\n",
       "            element.style.color = 'red';\n",
       "            element.innerHTML = \"Failed!\";\n",
       "            setTimeout(() => {\n",
       "                element.innerHTML = originalHTML;\n",
       "                element.style = originalStyle;\n",
       "            }, 2000);\n",
       "        });\n",
       "    return false;\n",
       "}\n",
       "\n",
       "document.querySelectorAll('.fa-regular.fa-copy').forEach(function(element) {\n",
       "    const toggleableContent = element.closest('.sk-toggleable__content');\n",
       "    const paramPrefix = toggleableContent ? toggleableContent.dataset.paramPrefix : '';\n",
       "    const paramName = element.parentElement.nextElementSibling.textContent.trim();\n",
       "    const fullParamName = paramPrefix ? `${paramPrefix}${paramName}` : paramName;\n",
       "\n",
       "    element.setAttribute('title', fullParamName);\n",
       "});\n",
       "</script></body>"
      ],
      "text/plain": [
       "LogisticRegression()"
      ]
     },
     "execution_count": 78,
     "metadata": {},
     "output_type": "execute_result"
    }
   ],
   "source": [
    "#model training\n",
    "lr.fit(x_train, y_train)\n"
   ]
  },
  {
   "cell_type": "code",
   "execution_count": 79,
   "id": "ab5fe558",
   "metadata": {},
   "outputs": [],
   "source": [
    "y_pred=lr.predict(x_test)"
   ]
  },
  {
   "cell_type": "code",
   "execution_count": 80,
   "id": "6d51ffcb",
   "metadata": {},
   "outputs": [
    {
     "data": {
      "text/plain": [
       "1.0"
      ]
     },
     "execution_count": 80,
     "metadata": {},
     "output_type": "execute_result"
    }
   ],
   "source": [
    "from sklearn.metrics import accuracy_score\n",
    "accuracy_score(y_test,y_pred)"
   ]
  },
  {
   "cell_type": "code",
   "execution_count": null,
   "id": "a53f137d",
   "metadata": {},
   "outputs": [],
   "source": []
  }
 ],
 "metadata": {
  "kernelspec": {
   "display_name": "dsenv",
   "language": "python",
   "name": "python3"
  },
  "language_info": {
   "codemirror_mode": {
    "name": "ipython",
    "version": 3
   },
   "file_extension": ".py",
   "mimetype": "text/x-python",
   "name": "python",
   "nbconvert_exporter": "python",
   "pygments_lexer": "ipython3",
   "version": "3.11.13"
  }
 },
 "nbformat": 4,
 "nbformat_minor": 5
}
